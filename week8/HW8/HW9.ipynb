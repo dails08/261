{
 "cells": [
  {
   "cell_type": "code",
   "execution_count": 1,
   "metadata": {
    "collapsed": false
   },
   "outputs": [],
   "source": [
    "%load_ext autoreload\n",
    "%autoreload 2"
   ]
  },
  {
   "cell_type": "markdown",
   "metadata": {
    "collapsed": true
   },
   "source": [
    "Pagerank steps:\n",
    "\n",
    "1. Count nodes\n",
    "2. Initialize nodes with 1/N\n",
    "3. Read sink mass from file/S3 and distribute it\n",
    "4. Forward mass\n",
    "    3b. Record sink mass in file/S3\n",
    "5. Check convergence"
   ]
  },
  {
   "cell_type": "code",
   "execution_count": 2,
   "metadata": {
    "collapsed": false
   },
   "outputs": [
    {
     "name": "stdout",
     "output_type": "stream",
     "text": [
      "Overwriting MRCountNodes.py\n"
     ]
    }
   ],
   "source": [
    "%%writefile MRCountNodes.py\n",
    "from mrjob.job import MRJob\n",
    "from mrjob.step import MRStep\n",
    "\n",
    "class MRCountNodes(MRJob):\n",
    "    def mapper(self, _, line):\n",
    "        yield None, 1\n",
    "        \n",
    "    def reducer(self, key, values):\n",
    "        yield None, sum(values)\n",
    "        \n",
    "    def steps(self):\n",
    "        return [\n",
    "            MRStep(mapper=self.mapper,\n",
    "            reducer=self.reducer)\n",
    "        ]\n",
    "    \n",
    "    \n",
    "if __name__ == '__main__':\n",
    "    MRCountNodes.run()"
   ]
  },
  {
   "cell_type": "code",
   "execution_count": 3,
   "metadata": {
    "collapsed": false
   },
   "outputs": [
    {
     "name": "stdout",
     "output_type": "stream",
     "text": [
      "Overwriting MRPrepData.py\n"
     ]
    }
   ],
   "source": [
    "%%writefile MRPrepData.py\n",
    "from mrjob.job import MRJob\n",
    "from mrjob.step import MRStep\n",
    "\n",
    "class MRPrepData(MRJob):\n",
    "    \n",
    "    def configure_options(self):\n",
    "        super(MRPrepData, self).configure_options()\n",
    "        self.add_passthrough_option('--initmass', default=None, type=float)\n",
    "        \n",
    "        \n",
    "    def mapper(self, _, line):\n",
    "        splits = line.split('\\t')\n",
    "        yield splits[0], [splits[1], self.options.initmass]\n",
    "        \n",
    "        \n",
    "    def steps(self):\n",
    "        return [\n",
    "            MRStep(mapper=self.mapper)\n",
    "        ]\n",
    "    \n",
    "    \n",
    "if __name__ == '__main__':\n",
    "    MRPrepData.run()"
   ]
  },
  {
   "cell_type": "code",
   "execution_count": 14,
   "metadata": {
    "collapsed": false
   },
   "outputs": [
    {
     "name": "stdout",
     "output_type": "stream",
     "text": [
      "B [u\"{'C': 1}\", 0.1]\n",
      "C [u\"{'B': 1}\", 0.1]\n",
      "D [u\"{'A': 1, 'B': 1}\", 0.1]\n",
      "E [u\"{'D': 1, 'B': 1, 'F': 1}\", 0.1]\n",
      "F [u\"{'B': 1, 'E': 1}\", 0.1]\n",
      "G [u\"{'B': 1, 'E': 1}\", 0.1]\n",
      "H [u\"{'B': 1, 'E': 1}\", 0.1]\n",
      "I [u\"{'B': 1, 'E': 1}\", 0.1]\n",
      "J [u\"{'E': 1}\", 0.1]\n",
      "K [u\"{'E': 1}\", 0.1]\n",
      "\n",
      "Looping\n",
      "\n",
      "Case: A {} has no outgoing edges: printing to file /home/ubuntu/repos/261/week8/HW8/danglingmass.txt\n",
      "\tPrinted 0.05 as dangling mass\n",
      "Base case: B {'C': 1}\n",
      "Base case: C {'B': 1}\n",
      "Base case: D {'A': 1, 'B': 1}\n",
      "Base case: E {'B': 1, 'D': 1, 'F': 1}\n",
      "Base case: F {'B': 1, 'E': 1}\n",
      "Base case: G {'B': 1, 'E': 1}\n",
      "Base case: H {'B': 1, 'E': 1}\n",
      "Base case: I {'B': 1, 'E': 1}\n",
      "Base case: J {'E': 1}\n",
      "Base case: K {'E': 1}\n",
      "Total phase 1 prMass: 1.0\n",
      "Phase Two options: \n",
      "\tTotal nodes: 10\n",
      "\tDamping factor: 0.15\n",
      "\tDangling mass: 0.05\n",
      "Total phase 2 prMass: 1.06175\n",
      "Case: A {} has no outgoing edges: printing to file /home/ubuntu/repos/261/week8/HW8/danglingmass.txt\n",
      "\tPrinted 0.0237916666667 as dangling mass\n",
      "Base case: B {'C': 1}\n",
      "Base case: C {'B': 1}\n",
      "Base case: D {'A': 1, 'B': 1}\n",
      "Base case: E {'B': 1, 'D': 1, 'F': 1}\n",
      "Base case: F {'B': 1, 'E': 1}\n",
      "Base case: G {'B': 1, 'E': 1}\n",
      "Base case: H {'B': 1, 'E': 1}\n",
      "Base case: I {'B': 1, 'E': 1}\n",
      "Base case: J {'E': 1}\n",
      "Base case: K {'E': 1}\n",
      "Key label is \"dangling\": printing to file\n",
      "Total phase 1 prMass: 1.0\n",
      "Phase Two options: \n",
      "\tTotal nodes: 10\n",
      "\tDamping factor: 0.15\n",
      "\tDangling mass: 0.0855416666667\n",
      "Total phase 2 prMass: 1.09498145833\n",
      "Case: A {} has no outgoing edges: printing to file /home/ubuntu/repos/261/week8/HW8/danglingmass.txt\n",
      "\tPrinted 0.0620292708333 as dangling mass\n",
      "Base case: B {'C': 1}\n",
      "Base case: C {'B': 1}\n",
      "Base case: D {'A': 1, 'B': 1}\n",
      "Base case: E {'B': 1, 'D': 1, 'F': 1}\n",
      "Base case: F {'B': 1, 'E': 1}\n",
      "Base case: G {'B': 1, 'E': 1}\n",
      "Base case: H {'B': 1, 'E': 1}\n",
      "Base case: I {'B': 1, 'E': 1}\n",
      "Base case: J {'E': 1}\n",
      "Base case: K {'E': 1}\n",
      "Key label is \"dangling\": printing to file\n",
      "Total phase 1 prMass: 1.0524875\n",
      "Phase Two options: \n",
      "\tTotal nodes: 10\n",
      "\tDamping factor: 0.15\n",
      "\tDangling mass: 0.104523229167\n",
      "Total phase 2 prMass: 1.15734359427\n"
     ]
    }
   ],
   "source": [
    "from MRCountNodes import MRCountNodes\n",
    "from MRPrepData import MRPrepData\n",
    "from MRPageRankPhaseOne import MRPageRankPhaseOne\n",
    "from MRPageRankPhaseTwo import MRPageRankPhaseTwo\n",
    "\n",
    "tempFile = open('/home/ubuntu/repos/261/week8/HW8/danglingmass.txt', 'w')\n",
    "tempFile.close()\n",
    "\n",
    "damping_factor = .15\n",
    "\n",
    "total_nodes = 0\n",
    "mrjob_count_nodes = MRCountNodes(args=['PageRank-test.txt', '--no-strict-protocol'])\n",
    "with mrjob_count_nodes.make_runner() as runner:\n",
    "    runner.run()\n",
    "    for line in runner.stream_output():\n",
    "        key, value = mrjob_count_nodes.parse_output_line(line)\n",
    "        total_nodes = value\n",
    "        \n",
    "\n",
    "mrjob_prep_data = MRPrepData(args=['PageRank-test.txt', '--no-strict-protocol', '--initmass', 1.0/total_nodes])\n",
    "with mrjob_prep_data.make_runner() as runner:\n",
    "    runner.run()\n",
    "    outfile = open('PageRankLooping.txt', 'w')\n",
    "    for line in runner.stream_output():\n",
    "        key, value = mrjob_prep_data.parse_output_line(line)\n",
    "        print key, value\n",
    "        outfile.write(str(key) + ' ' + str(value) + '\\n')\n",
    "    outfile.close()\n",
    "    \n",
    "print '\\nLooping\\n'\n",
    "\n",
    "for i in range(3):        \n",
    "    mrjob_pagerank = MRPageRankPhaseOne(args=['PageRankLooping.txt', '--no-strict-protocol'])\n",
    "    with mrjob_pagerank.make_runner() as runner:\n",
    "        runner.run()\n",
    "        total_mass = 0.0\n",
    "        outfile = open('PageRankLooping.txt', 'w')\n",
    "        for line in runner.stream_output():\n",
    "            key, value = mrjob_pagerank.parse_output_line(line)\n",
    "            total_mass += value[1]\n",
    "#             print key, value\n",
    "            outfile.write(str(key) + ' ' + str(value) + '\\n')\n",
    "        outfile.close()\n",
    "        print \"Total phase 1 prMass: \" + str(total_mass)\n",
    "        \n",
    "    massFile = open('/home/ubuntu/repos/261/week8/HW8/danglingmass.txt', 'r')\n",
    "    total_danglingmass = 0.0\n",
    "    for line in massFile.readlines():\n",
    "        total_danglingmass += float(line.strip())\n",
    "    massFile.close()\n",
    "    massFile = open('/home/ubuntu/repos/261/week8/HW8/danglingmass.txt', 'w')\n",
    "    massFile.close()\n",
    "        \n",
    "    print 'Phase Two options: '\n",
    "    print '\\tTotal nodes: ' + str(total_nodes)\n",
    "    print '\\tDamping factor: ' + str(damping_factor)\n",
    "    print '\\tDangling mass: ' + str(total_danglingmass)\n",
    "    \n",
    "    \n",
    "    mrjob_pagerank_phase_two = MRPageRankPhaseTwo(args=['PageRankLooping.txt', '--totalnodes', str(total_nodes), '--dampingfactor', str(damping_factor), '--danglingmass', str(total_danglingmass), '--no-strict-protocol'])\n",
    "    with mrjob_pagerank_phase_two.make_runner() as runner:\n",
    "        runner.run()\n",
    "        total_mass = 0.0\n",
    "        outfile = open('PageRankLooping.txt', 'w')\n",
    "        for line in runner.stream_output():\n",
    "            key, value = mrjob_pagerank_phase_two.parse_output_line(line)\n",
    "            total_mass += value[1]\n",
    "#             print key, value\n",
    "            outfile.write(str(key) + ' ' + str(value) + '\\n')\n",
    "        outfile.close()\n",
    "        print \"Total phase 2 prMass: \" + str(total_mass)\n"
   ]
  },
  {
   "cell_type": "markdown",
   "metadata": {
    "collapsed": false
   },
   "source": [
    "Pagerank steps:\n",
    "\n",
    "1. Count nodes\n",
    "2. Initialize nodes with 1/N\n",
    "3. Read sink mass from file/S3 and distribute it\n",
    "4. Forward mass\n",
    "    3b. Record sink mass in file/S3\n",
    "5. Check convergence"
   ]
  },
  {
   "cell_type": "code",
   "execution_count": 12,
   "metadata": {
    "collapsed": false
   },
   "outputs": [
    {
     "name": "stdout",
     "output_type": "stream",
     "text": [
      "Overwriting MRPageRankPhaseOne.py\n"
     ]
    }
   ],
   "source": [
    "%%writefile MRPageRankPhaseOne.py\n",
    "from mrjob.job import MRJob\n",
    "from mrjob.step import MRStep\n",
    "import sys, os\n",
    "\n",
    "class MRPageRankPhaseOne(MRJob):        \n",
    "\n",
    "    def mapper_init(self):\n",
    "        self.danglingmass = 0.0\n",
    "        \n",
    "    def mapper(self, _, line):\n",
    "        splits = line.split(' ', 1)\n",
    "        key = splits[0]\n",
    "        #load the values as an array\n",
    "        value = eval(splits[1])\n",
    "        #load the edges as a dictionary\n",
    "        edges = eval(value[0])\n",
    "        pr = float(value[1])\n",
    "        if len(edges) == 0:\n",
    "            yield 'dangling', [[], pr]\n",
    "        else:\n",
    "            forwarding_pr = pr/len(edges)\n",
    "            for edge, weight in edges.iteritems():\n",
    "                yield edge, ['{}', forwarding_pr]\n",
    "        yield key, [str(edges), 0.0]\n",
    "                        \n",
    "    def reducer(self, key, values): \n",
    "        #the case if a node is listed with no edges\n",
    "        if key == 'dangling':\n",
    "            print 'Key label is \"dangling\": printing to file'\n",
    "            danglingmass = 0.0\n",
    "            for value in values:\n",
    "                danglingmass += float(value[1])\n",
    "            massfile = open('/home/ubuntu/repos/261/week8/HW8/danglingmass.txt', 'a')\n",
    "            massfile.write(str(danglingmass) + '\\n')\n",
    "            massfile.close()\n",
    "        else:\n",
    "            pr = 0.0\n",
    "            edges = {}\n",
    "            for value in values:\n",
    "#                 print 'Value: ' + str(value) + ': ' + str(type(value))\n",
    "#                 value_array = eval(value)\n",
    "                pr += float(value[1])\n",
    "                for edge, weight in eval(value[0]).iteritems():\n",
    "                    edges[edge] = weight\n",
    "            if len(edges) == 0:\n",
    "                #the case when a node isn't listed except in the edge list of another graph\n",
    "                massfile = open('/home/ubuntu/repos/261/week8/HW8/danglingmass.txt', 'a')\n",
    "                print 'Case: ' + str(key) + ' ' + str(edges) + ' has no outgoing edges: printing to file ' + os.path.abspath(massfile.name)\n",
    "                massfile.write(str(pr) + '\\n')\n",
    "                massfile.close()\n",
    "                print '\\tPrinted ' + str(pr) + ' as dangling mass'\n",
    "                yield key, [str(edges), pr]\n",
    "            else:\n",
    "                #the base case where a node is listed and has edges\n",
    "                print 'Base case: ' + str(key) + ' ' + str(edges)\n",
    "                yield key, [str(edges), pr]\n",
    "\n",
    "        \n",
    "if __name__ == '__main__':\n",
    "    MRPageRankPhaseOne.run()"
   ]
  },
  {
   "cell_type": "code",
   "execution_count": 13,
   "metadata": {
    "collapsed": false
   },
   "outputs": [
    {
     "name": "stdout",
     "output_type": "stream",
     "text": [
      "Overwriting MRPageRankPhaseTwo.py\n"
     ]
    }
   ],
   "source": [
    "%%writefile MRPageRankPhaseTwo.py\n",
    "from mrjob.job import MRJob\n",
    "from mrjob.step import MRStep\n",
    "\n",
    "\n",
    "class MRPageRankPhaseTwo(MRJob):\n",
    "    def configure_options(self):\n",
    "        super(MRPageRankPhaseTwo, self).configure_options()\n",
    "        self.add_passthrough_option('--danglingmass', default=None, type=str)\n",
    "        self.add_passthrough_option('--totalnodes', default=None, type=str)\n",
    "        self.add_passthrough_option('--dampingfactor', default=None, type=str)\n",
    "        \n",
    "    def mapper(self, _, line):\n",
    "        splits = line.split(' ', 1)\n",
    "        key = splits[0]\n",
    "        #load the values as an array\n",
    "        value = eval(splits[1])\n",
    "        #load the edges as a dictionary\n",
    "        edges = eval(value[0])\n",
    "        pr = float(value[1])\n",
    "        nodes = int(self.options.totalnodes)\n",
    "        dampingfactor = float(self.options.dampingfactor)\n",
    "        danglingmass = float(self.options.danglingmass)\n",
    "        pr_prime = dampingfactor * (1.0/nodes) + (1 - dampingfactor) * (danglingmass/nodes + pr)\n",
    "        yield key, [str(edges), pr_prime]\n",
    "        \n",
    "if __name__ == '__main__':\n",
    "    MRPageRankPhaseTwo.run()"
   ]
  },
  {
   "cell_type": "code",
   "execution_count": 5,
   "metadata": {
    "collapsed": false
   },
   "outputs": [
    {
     "name": "stdout",
     "output_type": "stream",
     "text": [
      "3\n"
     ]
    }
   ],
   "source": [
    "testDict = {'a':1, 'b':2, 'c':3}\n",
    "print len(testDict)"
   ]
  },
  {
   "cell_type": "code",
   "execution_count": 5,
   "metadata": {
    "collapsed": true
   },
   "outputs": [],
   "source": [
    "testList = [1,2,3]\n",
    "testList2 = [3,4,5]\n",
    "\n",
    "testList += testList2"
   ]
  },
  {
   "cell_type": "code",
   "execution_count": 6,
   "metadata": {
    "collapsed": false
   },
   "outputs": [
    {
     "data": {
      "text/plain": [
       "[1, 2, 3, 3, 4, 5]"
      ]
     },
     "execution_count": 6,
     "metadata": {},
     "output_type": "execute_result"
    }
   ],
   "source": [
    "testList"
   ]
  },
  {
   "cell_type": "code",
   "execution_count": 23,
   "metadata": {
    "collapsed": false
   },
   "outputs": [
    {
     "name": "stdout",
     "output_type": "stream",
     "text": [
      "/home/ubuntu/repos/261/week8/HW8\r\n"
     ]
    }
   ],
   "source": [
    "!pwd"
   ]
  },
  {
   "cell_type": "code",
   "execution_count": null,
   "metadata": {
    "collapsed": true
   },
   "outputs": [],
   "source": []
  }
 ],
 "metadata": {
  "kernelspec": {
   "display_name": "Python 2",
   "language": "python",
   "name": "python2"
  },
  "language_info": {
   "codemirror_mode": {
    "name": "ipython",
    "version": 2
   },
   "file_extension": ".py",
   "mimetype": "text/x-python",
   "name": "python",
   "nbconvert_exporter": "python",
   "pygments_lexer": "ipython2",
   "version": "2.7.11"
  }
 },
 "nbformat": 4,
 "nbformat_minor": 0
}
