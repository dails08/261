{
 "cells": [
  {
   "cell_type": "code",
   "execution_count": 1,
   "metadata": {
    "collapsed": true
   },
   "outputs": [],
   "source": [
    "%load_ext autoreload\n",
    "%autoreload 2"
   ]
  },
  {
   "cell_type": "markdown",
   "metadata": {
    "collapsed": true
   },
   "source": [
    "Pagerank steps:\n",
    "\n",
    "1. Count nodes\n",
    "2. Initialize nodes with 1/N\n",
    "3. Read sink mass from S3 and distribute it\n",
    "4. Forward mass\n",
    "    3b. Record sink mass in S3\n",
    "5. Check convergence"
   ]
  },
  {
   "cell_type": "code",
   "execution_count": 2,
   "metadata": {
    "collapsed": false
   },
   "outputs": [
    {
     "name": "stdout",
     "output_type": "stream",
     "text": [
      "Overwriting MRCountNodes.py\n"
     ]
    }
   ],
   "source": [
    "%%writefile MRCountNodes.py\n",
    "from mrjob.job import MRJob\n",
    "from mrjob.step import MRStep\n",
    "\n",
    "class MRCountNodes(MRJob):\n",
    "    def mapper(self, _, line):\n",
    "        yield None, 1\n",
    "        \n",
    "    def reducer(self, key, values):\n",
    "        yield None, sum(values)\n",
    "        \n",
    "    def steps(self):\n",
    "        return [\n",
    "            MRStep(mapper=self.mapper,\n",
    "            reducer=self.reducer)\n",
    "        ]\n",
    "    \n",
    "    \n",
    "if __name__ == '__main__':\n",
    "    MRCountNodes.run()"
   ]
  },
  {
   "cell_type": "code",
   "execution_count": 3,
   "metadata": {
    "collapsed": false
   },
   "outputs": [
    {
     "name": "stdout",
     "output_type": "stream",
     "text": [
      "Overwriting MRPrepData.py\n"
     ]
    }
   ],
   "source": [
    "%%writefile MRPrepData.py\n",
    "from mrjob.job import MRJob\n",
    "from mrjob.step import MRStep\n",
    "\n",
    "class MRPrepData(MRJob):\n",
    "    \n",
    "    def configure_options(self):\n",
    "        super(MRPrepData, self).configure_options()\n",
    "        self.add_passthrough_option('--initmass', default=None, type=float)\n",
    "        \n",
    "        \n",
    "    def mapper(self, _, line):\n",
    "        splits = line.split('\\t')\n",
    "        yield splits[0], [splits[1], self.options.initmass]\n",
    "\n",
    "    def steps(self):\n",
    "        return [\n",
    "            MRStep(mapper=self.mapper)\n",
    "        ]\n",
    "    \n",
    "    \n",
    "if __name__ == '__main__':\n",
    "    MRPrepData.run()"
   ]
  },
  {
   "cell_type": "code",
   "execution_count": 4,
   "metadata": {
    "collapsed": false
   },
   "outputs": [
    {
     "name": "stdout",
     "output_type": "stream",
     "text": [
      "B [u\"{'C': 1}\", 0.1]\n",
      "C [u\"{'B': 1}\", 0.1]\n",
      "D [u\"{'A': 1, 'B': 1}\", 0.1]\n",
      "E [u\"{'D': 1, 'B': 1, 'F': 1}\", 0.1]\n",
      "F [u\"{'B': 1, 'E': 1}\", 0.1]\n",
      "G [u\"{'B': 1, 'E': 1}\", 0.1]\n",
      "H [u\"{'B': 1, 'E': 1}\", 0.1]\n",
      "I [u\"{'B': 1, 'E': 1}\", 0.1]\n",
      "J [u\"{'E': 1}\", 0.1]\n",
      "K [u\"{'E': 1}\", 0.1]\n"
     ]
    }
   ],
   "source": [
    "from MRCountNodes import MRCountNodes\n",
    "from MRPrepData import MRPrepData\n",
    "\n",
    "total_nodes = 0\n",
    "mrjob_count_nodes = MRCountNodes(args=['PageRank-test.txt', '--no-strict-protocol'])\n",
    "with mrjob_count_nodes.make_runner() as runner:\n",
    "    runner.run()\n",
    "    for line in runner.stream_output():\n",
    "        key, value = mrjob_count_nodes.parse_output_line(line)\n",
    "        total_nodes = value\n",
    "\n",
    "mrjob_prep_data = MRPrepData(args=['PageRank-test.txt', '--no-strict-protocol', '--initmass', 1.0/total_nodes])\n",
    "with mrjob_prep_data.make_runner() as runner:\n",
    "    runner.run()\n",
    "    for line in runner.stream_output():\n",
    "        key, value = mrjob_prep_data.parse_output_line(line)\n",
    "        print key, value"
   ]
  },
  {
   "cell_type": "code",
   "execution_count": 4,
   "metadata": {
    "collapsed": false
   },
   "outputs": [
    {
     "name": "stdout",
     "output_type": "stream",
     "text": [
      "/home/ubuntu/repos/261/week8/HW8\r\n"
     ]
    }
   ],
   "source": [
    "!pwd"
   ]
  },
  {
   "cell_type": "code",
   "execution_count": 5,
   "metadata": {
    "collapsed": false
   },
   "outputs": [
    {
     "name": "stdout",
     "output_type": "stream",
     "text": [
      "/bin/sh: 1: ll: not found\r\n"
     ]
    }
   ],
   "source": [
    "!ll"
   ]
  },
  {
   "cell_type": "code",
   "execution_count": 7,
   "metadata": {
    "collapsed": false
   },
   "outputs": [
    {
     "name": "stdout",
     "output_type": "stream",
     "text": [
      "total 16\r\n",
      "-rw-rw-r-- 1 ubuntu ubuntu 2992 Mar 14 01:59 HW9.ipynb\r\n",
      "-rw-rw-r-- 1 ubuntu ubuntu  392 Mar 14 01:42 MRCountNodes.py\r\n",
      "-rw-rw-r-- 1 ubuntu ubuntu  532 Mar 14 01:57 MRPrepData.py\r\n",
      "-rw-rw-r-- 1 ubuntu ubuntu  166 Mar 14 02:00 PageRank-test.txt\r\n"
     ]
    }
   ],
   "source": [
    "!ls -l"
   ]
  },
  {
   "cell_type": "code",
   "execution_count": null,
   "metadata": {
    "collapsed": true
   },
   "outputs": [],
   "source": []
  }
 ],
 "metadata": {
  "kernelspec": {
   "display_name": "Python 2",
   "language": "python",
   "name": "python2"
  },
  "language_info": {
   "codemirror_mode": {
    "name": "ipython",
    "version": 2
   },
   "file_extension": ".py",
   "mimetype": "text/x-python",
   "name": "python",
   "nbconvert_exporter": "python",
   "pygments_lexer": "ipython2",
   "version": "2.7.11"
  }
 },
 "nbformat": 4,
 "nbformat_minor": 0
}
