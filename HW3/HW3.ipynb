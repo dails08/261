{
 "cells": [
  {
   "cell_type": "markdown",
   "metadata": {},
   "source": [
    "# Homework 3\n",
    "W261\n",
    "Chris Dailey\n",
    "\n",
    "christopher.dailey@gmail.com"
   ]
  },
  {
   "cell_type": "markdown",
   "metadata": {},
   "source": [
    "## HW 3.1\n",
    "Use Hadoop Counters to identify the number of complaints pertaining to debt collection, mortgage and other categories"
   ]
  },
  {
   "cell_type": "code",
   "execution_count": 4,
   "metadata": {
    "collapsed": false,
    "scrolled": true
   },
   "outputs": [
    {
     "name": "stdout",
     "output_type": "stream",
     "text": [
      "Complaint ID,Product,Sub-product,Issue,Sub-issue,State,ZIP code,Submitted via,Date received,Date sent to company,Company,Company response,Timely response?,Consumer disputed?\r\n",
      "1114245,Debt collection,Medical,Disclosure verification of debt,Not given enough info to verify debt,FL,32219,Web,11/13/2014,11/13/2014,\"Choice Recovery, Inc.\",Closed with explanation,Yes,\r\n",
      "1114488,Debt collection,Medical,Disclosure verification of debt,Right to dispute notice not received,TX,75006,Web,11/13/2014,11/13/2014,\"Expert Global Solutions, Inc.\",In progress,Yes,\r\n",
      "1114255,Bank account or service,Checking account,Deposits and withdrawals,,NY,11102,Web,11/13/2014,11/13/2014,\"FNIS (Fidelity National Information Services, Inc.)\",In progress,Yes,\r\n",
      "1115106,Debt collection,\"Other (phone, health club, etc.)\",Communication tactics,Frequent or repeated calls,GA,31721,Web,11/13/2014,11/13/2014,\"Expert Global Solutions, Inc.\",In progress,Yes,\r\n",
      "1115890,Credit reporting,,Incorrect information on credit report,Information is not mine,FL,33461,Web,11/12/2014,11/13/2014,TransUnion,In progress,Yes,\r\n",
      "1114180,Debt collection,Credit card,Cont'd attempts collect debt not owed,Debt is not mine,CA,95035,Web,11/12/2014,11/13/2014,\"Expert Global Solutions, Inc.\",In progress,Yes,\r\n",
      "1114124,Consumer loan,Vehicle loan,Managing the loan or lease,,MI,48430,Fax,11/12/2014,11/13/2014,Ally Financial Inc.,In progress,Yes,\r\n",
      "1113211,Debt collection,Credit card,False statements or representation,Indicated committed crime not paying,MS,39056,Web,11/12/2014,11/12/2014,\"Premium Asset Services, LLC\",In progress,Yes,\r\n",
      "1112443,Consumer loan,Installment loan,Managing the loan or lease,,CA,94509,Web,11/12/2014,11/12/2014,Ally Financial Inc.,In progress,Yes,\r\n",
      "1112618,Debt collection,Medical,Disclosure verification of debt,Not given enough info to verify debt,FL,34743,Web,11/12/2014,11/12/2014,\"Enhanced Recovery Company, LLC\",Closed with non-monetary relief,Yes,\r\n",
      "1111987,Credit reporting,,Credit reporting company's investigation,No notice of investigation status/result,NJ,08852,Web,11/12/2014,11/12/2014,TransUnion,Closed with explanation,Yes,\r\n",
      "1113072,Credit reporting,,Incorrect information on credit report,Account status,NY,11514,Web,11/12/2014,11/12/2014,TransUnion,Closed with explanation,Yes,\r\n",
      "1112733,Debt collection,Medical,Communication tactics,Used obscene/profane/abusive language,WA,98034,Web,11/12/2014,11/12/2014,Renton Collections Inc.,Closed with explanation,Yes,\r\n",
      "1112115,Mortgage,Conventional fixed mortgage,\"Loan modification,collection,foreclosure\",,NJ,08527,Web,11/12/2014,11/12/2014,Seterus,Closed with explanation,Yes,\r\n",
      "1112705,Credit reporting,,Unable to get credit report/credit score,Problem getting report or credit score,CA,90716,Web,11/12/2014,11/12/2014,TransUnion,Closed with explanation,Yes,\r\n",
      "1113116,Credit reporting,,Incorrect information on credit report,Account status,CT,06242,Web,11/12/2014,11/12/2014,TransUnion,Closed with explanation,Yes,\r\n",
      "1112181,Debt collection,Credit card,Cont'd attempts collect debt not owed,Debt is not mine,FL,34481,Web,11/12/2014,11/12/2014,\"Commonwealth Financial Systems, Inc.\",Closed with explanation,Yes,\r\n",
      "1113153,Debt collection,\"Other (phone, health club, etc.)\",Cont'd attempts collect debt not owed,Debt was paid,GA,30345,Web,11/12/2014,11/12/2014,\"EOS Holdings, Inc.\",Closed with explanation,Yes,\r\n",
      "1112011,Debt collection,Medical,Cont'd attempts collect debt not owed,Debt resulted from identity theft,SC,29360,Web,11/12/2014,11/12/2014,Revenue Recovery Corporation,Closed with explanation,Yes,\r\n",
      "1111995,Credit reporting,,Credit reporting company's investigation,Problem with statement of dispute,CA,92809,Web,11/12/2014,11/12/2014,TransUnion,Closed with explanation,Yes,\r\n",
      "1113129,Mortgage,Conventional fixed mortgage,\"Loan modification,collection,foreclosure\",,FL,34442,Web,11/12/2014,11/12/2014,\"Bayview Loan Servicing, LLC\",In progress,Yes,\r\n",
      "1112281,Debt collection,\"Other (phone, health club, etc.)\",Cont'd attempts collect debt not owed,Debt is not mine,IN,46228,Web,11/12/2014,11/12/2014,\"GLA Collection Company, Inc.\",Closed with explanation,Yes,Yes\r\n",
      "1112540,Bank account or service,Checking account,Deposits and withdrawals,,NC,27408,Web,11/12/2014,11/12/2014,Wells Fargo,Closed with explanation,Yes,\r\n",
      "1113127,Credit reporting,,Credit reporting company's investigation,Problem with statement of dispute,FL,34442,Web,11/12/2014,11/12/2014,TransUnion,Closed with explanation,Yes,\r\n",
      "1112111,Debt collection,Medical,Cont'd attempts collect debt not owed,Debt is not mine,MD,21234,Web,11/12/2014,11/12/2014,\"Expert Global Solutions, Inc.\",In progress,Yes,\r\n",
      "1112120,Credit reporting,,Incorrect information on credit report,Information is not mine,NM,87507,Web,11/12/2014,11/12/2014,TransUnion,Closed with explanation,Yes,\r\n",
      "1112147,Consumer loan,Vehicle loan,Taking out the loan or lease,,MD,21228,Web,11/12/2014,11/12/2014,Navy FCU,In progress,Yes,\r\n",
      "1114140,Credit reporting,,Incorrect information on credit report,Information is not mine,VA,22301,Web,11/12/2014,11/13/2014,TransUnion,Closed with explanation,Yes,\r\n",
      "1112873,Bank account or service,Checking account,Deposits and withdrawals,,PA,19382,Phone,11/12/2014,11/13/2014,Santander Bank US,In progress,Yes,\r\n"
     ]
    }
   ],
   "source": [
    "!head Consumer_Complaints.csv -n 30"
   ]
  },
  {
   "cell_type": "code",
   "execution_count": 8,
   "metadata": {
    "collapsed": false
   },
   "outputs": [],
   "source": [
    "!hdfs dfs -mkdir /user/ubuntu/HW3\n",
    "!hdfs dfs -mkdir /user/ubuntu/HW3/3.1"
   ]
  },
  {
   "cell_type": "code",
   "execution_count": 6,
   "metadata": {
    "collapsed": true
   },
   "outputs": [],
   "source": [
    "!hdfs dfs -put Consumer_Complaints.csv /user/ubuntu/HW3/"
   ]
  },
  {
   "cell_type": "code",
   "execution_count": 8,
   "metadata": {
    "collapsed": false
   },
   "outputs": [
    {
     "name": "stdout",
     "output_type": "stream",
     "text": [
      "Overwriting mapper.py\n"
     ]
    }
   ],
   "source": [
    "%%writefile mapper.py\n",
    "#!/usr/bin/python\n",
    "\n",
    "import sys, re\n",
    "\n",
    "for line in sys.stdin:\n",
    "    splits = re.split(\",\", line)\n",
    "    if splits[1].lower() == \"debt collection\":\n",
    "        sys.stderr.write(\"reporter:counter:Type,DebtCollection,1\\n\")\n",
    "    elif splits[1].lower() == \"mortgage\":\n",
    "        sys.stderr.write(\"reporter:counter:Type,Mortgage,1\\n\")\n",
    "    else:\n",
    "        sys.stderr.write(\"reporter:counter:Type,Other,1\\n\")"
   ]
  },
  {
   "cell_type": "code",
   "execution_count": 9,
   "metadata": {
    "collapsed": true
   },
   "outputs": [],
   "source": [
    "!chmod +x mapper.py"
   ]
  },
  {
   "cell_type": "code",
   "execution_count": 10,
   "metadata": {
    "collapsed": false,
    "scrolled": true
   },
   "outputs": [
    {
     "name": "stdout",
     "output_type": "stream",
     "text": [
      "16/01/30 02:00:32 INFO fs.TrashPolicyDefault: Namenode trash configuration: Deletion interval = 0 minutes, Emptier interval = 0 minutes.\n",
      "Deleted /user/ubuntu/HW3/3.1/output/_SUCCESS\n",
      "16/01/30 02:00:32 INFO fs.TrashPolicyDefault: Namenode trash configuration: Deletion interval = 0 minutes, Emptier interval = 0 minutes.\n",
      "Deleted /user/ubuntu/HW3/3.1/output/part-00000\n",
      "packageJobJar: [/tmp/hadoop-unjar2402735397871742075/] [] /tmp/streamjob5694268014097702284.jar tmpDir=null\n",
      "16/01/30 02:00:36 INFO client.RMProxy: Connecting to ResourceManager at /0.0.0.0:8032\n",
      "16/01/30 02:00:36 INFO client.RMProxy: Connecting to ResourceManager at /0.0.0.0:8032\n",
      "16/01/30 02:00:37 INFO mapred.FileInputFormat: Total input paths to process : 1\n",
      "16/01/30 02:00:37 INFO mapreduce.JobSubmitter: number of splits:2\n",
      "16/01/30 02:00:37 INFO mapreduce.JobSubmitter: Submitting tokens for job: job_1453815382601_0023\n",
      "16/01/30 02:00:37 INFO impl.YarnClientImpl: Submitted application application_1453815382601_0023\n",
      "16/01/30 02:00:37 INFO mapreduce.Job: The url to track the job: http://ip-172-31-54-132:8088/proxy/application_1453815382601_0023/\n",
      "16/01/30 02:00:37 INFO mapreduce.Job: Running job: job_1453815382601_0023\n",
      "16/01/30 02:00:42 INFO mapreduce.Job: Job job_1453815382601_0023 running in uber mode : false\n",
      "16/01/30 02:00:42 INFO mapreduce.Job:  map 0% reduce 0%\n",
      "16/01/30 02:00:51 INFO mapreduce.Job:  map 100% reduce 0%\n",
      "16/01/30 02:00:56 INFO mapreduce.Job:  map 100% reduce 100%\n",
      "16/01/30 02:00:56 INFO mapreduce.Job: Job job_1453815382601_0023 completed successfully\n",
      "16/01/30 02:00:56 INFO mapreduce.Job: Counters: 52\n",
      "\tFile System Counters\n",
      "\t\tFILE: Number of bytes read=6\n",
      "\t\tFILE: Number of bytes written=350090\n",
      "\t\tFILE: Number of read operations=0\n",
      "\t\tFILE: Number of large read operations=0\n",
      "\t\tFILE: Number of write operations=0\n",
      "\t\tHDFS: Number of bytes read=50910109\n",
      "\t\tHDFS: Number of bytes written=0\n",
      "\t\tHDFS: Number of read operations=9\n",
      "\t\tHDFS: Number of large read operations=0\n",
      "\t\tHDFS: Number of write operations=2\n",
      "\tJob Counters \n",
      "\t\tLaunched map tasks=2\n",
      "\t\tLaunched reduce tasks=1\n",
      "\t\tData-local map tasks=2\n",
      "\t\tTotal time spent by all maps in occupied slots (ms)=13312\n",
      "\t\tTotal time spent by all reduces in occupied slots (ms)=2623\n",
      "\t\tTotal time spent by all map tasks (ms)=13312\n",
      "\t\tTotal time spent by all reduce tasks (ms)=2623\n",
      "\t\tTotal vcore-seconds taken by all map tasks=13312\n",
      "\t\tTotal vcore-seconds taken by all reduce tasks=2623\n",
      "\t\tTotal megabyte-seconds taken by all map tasks=13631488\n",
      "\t\tTotal megabyte-seconds taken by all reduce tasks=2685952\n",
      "\tMap-Reduce Framework\n",
      "\t\tMap input records=312913\n",
      "\t\tMap output records=0\n",
      "\t\tMap output bytes=0\n",
      "\t\tMap output materialized bytes=12\n",
      "\t\tInput split bytes=226\n",
      "\t\tCombine input records=0\n",
      "\t\tCombine output records=0\n",
      "\t\tReduce input groups=0\n",
      "\t\tReduce shuffle bytes=12\n",
      "\t\tReduce input records=0\n",
      "\t\tReduce output records=0\n",
      "\t\tSpilled Records=0\n",
      "\t\tShuffled Maps =2\n",
      "\t\tFailed Shuffles=0\n",
      "\t\tMerged Map outputs=2\n",
      "\t\tGC time elapsed (ms)=175\n",
      "\t\tCPU time spent (ms)=4210\n",
      "\t\tPhysical memory (bytes) snapshot=709844992\n",
      "\t\tVirtual memory (bytes) snapshot=2491576320\n",
      "\t\tTotal committed heap usage (bytes)=541065216\n",
      "\tShuffle Errors\n",
      "\t\tBAD_ID=0\n",
      "\t\tCONNECTION=0\n",
      "\t\tIO_ERROR=0\n",
      "\t\tWRONG_LENGTH=0\n",
      "\t\tWRONG_MAP=0\n",
      "\t\tWRONG_REDUCE=0\n",
      "\tType\n",
      "\t\tDebtCollection=44372\n",
      "\t\tMortgage=125752\n",
      "\t\tOther=142789\n",
      "\tFile Input Format Counters \n",
      "\t\tBytes Read=50909883\n",
      "\tFile Output Format Counters \n",
      "\t\tBytes Written=0\n",
      "16/01/30 02:00:56 INFO streaming.StreamJob: Output directory: /user/ubuntu/HW3/3.1/output\n"
     ]
    }
   ],
   "source": [
    "!hdfs dfs -rm /user/ubuntu/HW3/3.1/output/*\n",
    "!hdfs dfs -rmdir /user/ubuntu/HW3/3.1/output\n",
    "!hadoop jar /home/ubuntu/hadoop-2.7.1/share/hadoop/tools/lib/hadoop-streaming-2.7.1.jar \\\n",
    "-mapper /home/ubuntu/repos/261/HW3/mapper.py \\\n",
    "-input /user/ubuntu/HW3/Consumer_Complaints.csv \\\n",
    "-output /user/ubuntu/HW3/3.1/output"
   ]
  },
  {
   "cell_type": "markdown",
   "metadata": {},
   "source": [
    "## HW 3.2\n",
    "Perform a word count analysis of the phrase \"foo foo quux labs foo bar quux\" and count the number of mappers and reducers and explain the results."
   ]
  },
  {
   "cell_type": "code",
   "execution_count": 50,
   "metadata": {
    "collapsed": false
   },
   "outputs": [
    {
     "name": "stdout",
     "output_type": "stream",
     "text": [
      "Overwriting mapper.py\n"
     ]
    }
   ],
   "source": [
    "%%writefile mapper.py\n",
    "#!/usr/bin/python\n",
    "\n",
    "import sys, re\n",
    "\n",
    "sys.stderr.write(\"reporter:counter:TaskCounter,Mapper,1\\n\")\n",
    "\n",
    "for line in sys.stdin:\n",
    "    for word in [x.strip().lower() for x in re.split(\" \", line)]:\n",
    "        print(word + \", \" + str(1))"
   ]
  },
  {
   "cell_type": "code",
   "execution_count": 24,
   "metadata": {
    "collapsed": false
   },
   "outputs": [
    {
     "name": "stdout",
     "output_type": "stream",
     "text": [
      "reporter:counter:MapperCount,1\r\n",
      "test, 1\r\n",
      "test, 1\r\n",
      "test, 1\r\n",
      "test, 1\r\n"
     ]
    }
   ],
   "source": [
    "!echo \"test test test test\" | python mapper.py"
   ]
  },
  {
   "cell_type": "code",
   "execution_count": 49,
   "metadata": {
    "collapsed": false
   },
   "outputs": [
    {
     "name": "stdout",
     "output_type": "stream",
     "text": [
      "Overwriting reducer.py\n"
     ]
    }
   ],
   "source": [
    "%%writefile reducer.py\n",
    "#!/usr/bin/python\n",
    "\n",
    "import sys, re\n",
    "\n",
    "sys.stderr.write(\"reporter:counter:TaskCounter,Reducer,1\\n\")\n",
    "\n",
    "current_word = \"\"\n",
    "current_sum = 0\n",
    "for line in sys.stdin:\n",
    "    splits = [x.lower().strip() for x in re.split(\",\", line)]\n",
    "    if (len(splits)) < 2:\n",
    "        continue\n",
    "    if current_word == \"\":\n",
    "        current_word = splits[0]\n",
    "    if splits[0] != current_word:\n",
    "        print(current_word + \" \" + str(current_sum))\n",
    "        current_word = splits[0]\n",
    "        current_sum = int(splits[1])\n",
    "    else:\n",
    "        current_sum += int(splits[1])\n",
    "print(current_word + \" \" + str(current_sum))"
   ]
  },
  {
   "cell_type": "code",
   "execution_count": 39,
   "metadata": {
    "collapsed": false
   },
   "outputs": [],
   "source": [
    "!chmod +x reducer.py"
   ]
  },
  {
   "cell_type": "code",
   "execution_count": 40,
   "metadata": {
    "collapsed": false
   },
   "outputs": [
    {
     "name": "stdout",
     "output_type": "stream",
     "text": [
      "reporter:counter:ReducerCount,1\r\n",
      "reporter:counter:MapperCount,1\r\n",
      "bar 1\r\n",
      "foo 3\r\n",
      "labs 1\r\n",
      "quux 2\r\n"
     ]
    }
   ],
   "source": [
    "!echo \"foo foo quux labs foo bar quux\" | python mapper.py | sort | python reducer.py"
   ]
  },
  {
   "cell_type": "code",
   "execution_count": 41,
   "metadata": {
    "collapsed": true
   },
   "outputs": [],
   "source": [
    "!hdfs dfs -mkdir /user/ubuntu/HW3/3.2"
   ]
  },
  {
   "cell_type": "code",
   "execution_count": 46,
   "metadata": {
    "collapsed": false
   },
   "outputs": [
    {
     "name": "stdout",
     "output_type": "stream",
     "text": [
      "foo foo quux labs foo bar quux\r\n"
     ]
    }
   ],
   "source": [
    "!echo \"foo foo quux labs foo bar quux\" > oneline.txt ; cat oneline.txt"
   ]
  },
  {
   "cell_type": "code",
   "execution_count": 47,
   "metadata": {
    "collapsed": true
   },
   "outputs": [],
   "source": [
    "!hdfs dfs -put oneline.txt /user/ubuntu/HW3/3.2"
   ]
  },
  {
   "cell_type": "code",
   "execution_count": 52,
   "metadata": {
    "collapsed": false,
    "scrolled": true
   },
   "outputs": [
    {
     "name": "stdout",
     "output_type": "stream",
     "text": [
      "16/01/29 00:50:03 INFO fs.TrashPolicyDefault: Namenode trash configuration: Deletion interval = 0 minutes, Emptier interval = 0 minutes.\n",
      "Deleted /user/ubuntu/HW3/3.2/output/_SUCCESS\n",
      "16/01/29 00:50:03 INFO fs.TrashPolicyDefault: Namenode trash configuration: Deletion interval = 0 minutes, Emptier interval = 0 minutes.\n",
      "Deleted /user/ubuntu/HW3/3.2/output/part-00000\n",
      "packageJobJar: [/tmp/hadoop-unjar519971968270769378/] [] /tmp/streamjob435509402778434573.jar tmpDir=null\n",
      "16/01/29 00:50:08 INFO client.RMProxy: Connecting to ResourceManager at /0.0.0.0:8032\n",
      "16/01/29 00:50:08 INFO client.RMProxy: Connecting to ResourceManager at /0.0.0.0:8032\n",
      "16/01/29 00:50:08 INFO mapred.FileInputFormat: Total input paths to process : 1\n",
      "16/01/29 00:50:08 INFO mapreduce.JobSubmitter: number of splits:2\n",
      "16/01/29 00:50:08 INFO mapreduce.JobSubmitter: Submitting tokens for job: job_1453815382601_0021\n",
      "16/01/29 00:50:09 INFO impl.YarnClientImpl: Submitted application application_1453815382601_0021\n",
      "16/01/29 00:50:09 INFO mapreduce.Job: The url to track the job: http://ip-172-31-54-132:8088/proxy/application_1453815382601_0021/\n",
      "16/01/29 00:50:09 INFO mapreduce.Job: Running job: job_1453815382601_0021\n",
      "16/01/29 00:50:14 INFO mapreduce.Job: Job job_1453815382601_0021 running in uber mode : false\n",
      "16/01/29 00:50:14 INFO mapreduce.Job:  map 0% reduce 0%\n",
      "16/01/29 00:50:21 INFO mapreduce.Job:  map 100% reduce 0%\n",
      "16/01/29 00:50:26 INFO mapreduce.Job:  map 100% reduce 100%\n",
      "16/01/29 00:50:26 INFO mapreduce.Job: Job job_1453815382601_0021 completed successfully\n",
      "16/01/29 00:50:26 INFO mapreduce.Job: Counters: 51\n",
      "\tFile System Counters\n",
      "\t\tFILE: Number of bytes read=79\n",
      "\t\tFILE: Number of bytes written=352240\n",
      "\t\tFILE: Number of read operations=0\n",
      "\t\tFILE: Number of large read operations=0\n",
      "\t\tFILE: Number of write operations=0\n",
      "\t\tHDFS: Number of bytes read=257\n",
      "\t\tHDFS: Number of bytes written=30\n",
      "\t\tHDFS: Number of read operations=9\n",
      "\t\tHDFS: Number of large read operations=0\n",
      "\t\tHDFS: Number of write operations=2\n",
      "\tJob Counters \n",
      "\t\tLaunched map tasks=2\n",
      "\t\tLaunched reduce tasks=1\n",
      "\t\tData-local map tasks=2\n",
      "\t\tTotal time spent by all maps in occupied slots (ms)=8603\n",
      "\t\tTotal time spent by all reduces in occupied slots (ms)=2728\n",
      "\t\tTotal time spent by all map tasks (ms)=8603\n",
      "\t\tTotal time spent by all reduce tasks (ms)=2728\n",
      "\t\tTotal vcore-seconds taken by all map tasks=8603\n",
      "\t\tTotal vcore-seconds taken by all reduce tasks=2728\n",
      "\t\tTotal megabyte-seconds taken by all map tasks=8809472\n",
      "\t\tTotal megabyte-seconds taken by all reduce tasks=2793472\n",
      "\tMap-Reduce Framework\n",
      "\t\tMap input records=1\n",
      "\t\tMap output records=7\n",
      "\t\tMap output bytes=59\n",
      "\t\tMap output materialized bytes=85\n",
      "\t\tInput split bytes=210\n",
      "\t\tCombine input records=0\n",
      "\t\tCombine output records=0\n",
      "\t\tReduce input groups=4\n",
      "\t\tReduce shuffle bytes=85\n",
      "\t\tReduce input records=7\n",
      "\t\tReduce output records=4\n",
      "\t\tSpilled Records=14\n",
      "\t\tShuffled Maps =2\n",
      "\t\tFailed Shuffles=0\n",
      "\t\tMerged Map outputs=2\n",
      "\t\tGC time elapsed (ms)=107\n",
      "\t\tCPU time spent (ms)=1730\n",
      "\t\tPhysical memory (bytes) snapshot=719040512\n",
      "\t\tVirtual memory (bytes) snapshot=2500501504\n",
      "\t\tTotal committed heap usage (bytes)=560988160\n",
      "\tShuffle Errors\n",
      "\t\tBAD_ID=0\n",
      "\t\tCONNECTION=0\n",
      "\t\tIO_ERROR=0\n",
      "\t\tWRONG_LENGTH=0\n",
      "\t\tWRONG_MAP=0\n",
      "\t\tWRONG_REDUCE=0\n",
      "\tTaskCounter\n",
      "\t\tMapper=2\n",
      "\t\tReducer=1\n",
      "\tFile Input Format Counters \n",
      "\t\tBytes Read=47\n",
      "\tFile Output Format Counters \n",
      "\t\tBytes Written=30\n",
      "16/01/29 00:50:26 INFO streaming.StreamJob: Output directory: /user/ubuntu/HW3/3.2/output\n"
     ]
    }
   ],
   "source": [
    "!hdfs dfs -rm /user/ubuntu/HW3/3.2/output/*\n",
    "!hdfs dfs -rmdir /user/ubuntu/HW3/3.2/output\n",
    "\n",
    "!hadoop jar /home/ubuntu/hadoop-2.7.1/share/hadoop/tools/lib/hadoop-streaming-2.7.1.jar \\\n",
    "-mapper /home/ubuntu/repos/261/HW3/mapper.py \\\n",
    "-reducer ~/repos/261/HW3/reducer.py \\\n",
    "-input /user/ubuntu/HW3/3.2/oneline.txt \\\n",
    "-output /user/ubuntu/HW3/3.2/output"
   ]
  },
  {
   "cell_type": "markdown",
   "metadata": {
    "collapsed": true
   },
   "source": [
    "Perform a word count analysis of the Issue column of the Consumer Complaints  Dataset using a Mapper and Reducer based WordCount (i.e., no combiners used anywhere)  using user defined Counters to count up how many time the mapper and reducer are called"
   ]
  },
  {
   "cell_type": "code",
   "execution_count": 11,
   "metadata": {
    "collapsed": false
   },
   "outputs": [
    {
     "name": "stdout",
     "output_type": "stream",
     "text": [
      "Overwriting mapper.py\n"
     ]
    }
   ],
   "source": [
    "%%writefile mapper.py\n",
    "#!/usr/bin/python\n",
    "\n",
    "import sys, re\n",
    "\n",
    "WORD_RE = re.compile(r\"[\\w']+\")\n",
    "\n",
    "sys.stderr.write(\"reporter:counter:TaskCounter,Mapper,1\\n\")\n",
    "\n",
    "for line in sys.stdin:\n",
    "    splits = [x.lower().strip() for x in re.split(\",\", line)]\n",
    "    issues = splits[3]\n",
    "    for word in WORD_RE.findall(issues):\n",
    "        print(word+\", 1\")"
   ]
  },
  {
   "cell_type": "code",
   "execution_count": 3,
   "metadata": {
    "collapsed": false
   },
   "outputs": [
    {
     "name": "stdout",
     "output_type": "stream",
     "text": [
      "reporter:counter:TaskCounter,Mapper,1\r\n",
      "test, 1\r\n",
      "this, 1\r\n",
      "is, 1\r\n",
      "a, 1\r\n",
      "test, 1\r\n"
     ]
    }
   ],
   "source": [
    "!echo [\"\",\"\",\"\",\"test this is a test\"] | python mapper.py"
   ]
  },
  {
   "cell_type": "code",
   "execution_count": 12,
   "metadata": {
    "collapsed": false
   },
   "outputs": [
    {
     "name": "stdout",
     "output_type": "stream",
     "text": [
      "Overwriting reducer.py\n"
     ]
    }
   ],
   "source": [
    "%%writefile reducer.py\n",
    "#!/usr/bin/python\n",
    "\n",
    "import sys, re\n",
    "\n",
    "sys.stderr.write(\"reporter:counter:TaskCounter,Reducer,1\\n\")\n",
    "\n",
    "current_word = \"\"\n",
    "current_sum = 0\n",
    "for line in sys.stdin:\n",
    "    splits = [x.lower().strip() for x in re.split(\",\", line)]\n",
    "    if (len(splits)) < 2:\n",
    "        continue\n",
    "    if current_word == \"\":\n",
    "        current_word = splits[0]\n",
    "    if splits[0] != current_word:\n",
    "        print(current_word + \" \" + str(current_sum))\n",
    "        current_word = splits[0]\n",
    "        current_sum = int(splits[1])\n",
    "    else:\n",
    "        current_sum += int(splits[1])\n",
    "print(current_word + \" \" + str(current_sum))"
   ]
  },
  {
   "cell_type": "code",
   "execution_count": 13,
   "metadata": {
    "collapsed": false
   },
   "outputs": [
    {
     "name": "stdout",
     "output_type": "stream",
     "text": [
      "reporter:counter:TaskCounter,Mapper,1\r\n",
      "reporter:counter:TaskCounter,Reducer,1\r\n",
      "a 1\r\n",
      "is 1\r\n",
      "test 2\r\n",
      "this 1\r\n"
     ]
    }
   ],
   "source": [
    "!echo [\"\",\"\",\"\",\"test this is a test\"] | python mapper.py | sort | python reducer.py"
   ]
  },
  {
   "cell_type": "code",
   "execution_count": 14,
   "metadata": {
    "collapsed": false,
    "scrolled": true
   },
   "outputs": [
    {
     "name": "stdout",
     "output_type": "stream",
     "text": [
      "16/01/30 02:02:13 INFO fs.TrashPolicyDefault: Namenode trash configuration: Deletion interval = 0 minutes, Emptier interval = 0 minutes.\n",
      "Deleted /user/ubuntu/HW3/3.2/output/_SUCCESS\n",
      "16/01/30 02:02:13 INFO fs.TrashPolicyDefault: Namenode trash configuration: Deletion interval = 0 minutes, Emptier interval = 0 minutes.\n",
      "Deleted /user/ubuntu/HW3/3.2/output/part-00000\n",
      "packageJobJar: [/tmp/hadoop-unjar5712215938276641105/] [] /tmp/streamjob6344048016643955809.jar tmpDir=null\n",
      "16/01/30 02:02:17 INFO client.RMProxy: Connecting to ResourceManager at /0.0.0.0:8032\n",
      "16/01/30 02:02:18 INFO client.RMProxy: Connecting to ResourceManager at /0.0.0.0:8032\n",
      "16/01/30 02:02:18 INFO mapred.FileInputFormat: Total input paths to process : 1\n",
      "16/01/30 02:02:18 INFO mapreduce.JobSubmitter: number of splits:2\n",
      "16/01/30 02:02:18 INFO mapreduce.JobSubmitter: Submitting tokens for job: job_1453815382601_0024\n",
      "16/01/30 02:02:18 INFO impl.YarnClientImpl: Submitted application application_1453815382601_0024\n",
      "16/01/30 02:02:18 INFO mapreduce.Job: The url to track the job: http://ip-172-31-54-132:8088/proxy/application_1453815382601_0024/\n",
      "16/01/30 02:02:18 INFO mapreduce.Job: Running job: job_1453815382601_0024\n",
      "16/01/30 02:02:23 INFO mapreduce.Job: Job job_1453815382601_0024 running in uber mode : false\n",
      "16/01/30 02:02:23 INFO mapreduce.Job:  map 0% reduce 0%\n",
      "16/01/30 02:02:33 INFO mapreduce.Job:  map 100% reduce 0%\n",
      "16/01/30 02:02:42 INFO mapreduce.Job:  map 100% reduce 100%\n",
      "16/01/30 02:02:42 INFO mapreduce.Job: Job job_1453815382601_0024 completed successfully\n",
      "16/01/30 02:02:42 INFO mapreduce.Job: Counters: 51\n",
      "\tFile System Counters\n",
      "\t\tFILE: Number of bytes read=13194447\n",
      "\t\tFILE: Number of bytes written=26741003\n",
      "\t\tFILE: Number of read operations=0\n",
      "\t\tFILE: Number of large read operations=0\n",
      "\t\tFILE: Number of write operations=0\n",
      "\t\tHDFS: Number of bytes read=50910109\n",
      "\t\tHDFS: Number of bytes written=2260\n",
      "\t\tHDFS: Number of read operations=9\n",
      "\t\tHDFS: Number of large read operations=0\n",
      "\t\tHDFS: Number of write operations=2\n",
      "\tJob Counters \n",
      "\t\tLaunched map tasks=2\n",
      "\t\tLaunched reduce tasks=1\n",
      "\t\tData-local map tasks=2\n",
      "\t\tTotal time spent by all maps in occupied slots (ms)=14508\n",
      "\t\tTotal time spent by all reduces in occupied slots (ms)=5947\n",
      "\t\tTotal time spent by all map tasks (ms)=14508\n",
      "\t\tTotal time spent by all reduce tasks (ms)=5947\n",
      "\t\tTotal vcore-seconds taken by all map tasks=14508\n",
      "\t\tTotal vcore-seconds taken by all reduce tasks=5947\n",
      "\t\tTotal megabyte-seconds taken by all map tasks=14856192\n",
      "\t\tTotal megabyte-seconds taken by all reduce tasks=6089728\n",
      "\tMap-Reduce Framework\n",
      "\t\tMap input records=312913\n",
      "\t\tMap output records=980483\n",
      "\t\tMap output bytes=11233475\n",
      "\t\tMap output materialized bytes=13194453\n",
      "\t\tInput split bytes=226\n",
      "\t\tCombine input records=0\n",
      "\t\tCombine output records=0\n",
      "\t\tReduce input groups=169\n",
      "\t\tReduce shuffle bytes=13194453\n",
      "\t\tReduce input records=980483\n",
      "\t\tReduce output records=169\n",
      "\t\tSpilled Records=1960966\n",
      "\t\tShuffled Maps =2\n",
      "\t\tFailed Shuffles=0\n",
      "\t\tMerged Map outputs=2\n",
      "\t\tGC time elapsed (ms)=214\n",
      "\t\tCPU time spent (ms)=7180\n",
      "\t\tPhysical memory (bytes) snapshot=745762816\n",
      "\t\tVirtual memory (bytes) snapshot=2496110592\n",
      "\t\tTotal committed heap usage (bytes)=550502400\n",
      "\tShuffle Errors\n",
      "\t\tBAD_ID=0\n",
      "\t\tCONNECTION=0\n",
      "\t\tIO_ERROR=0\n",
      "\t\tWRONG_LENGTH=0\n",
      "\t\tWRONG_MAP=0\n",
      "\t\tWRONG_REDUCE=0\n",
      "\tTaskCounter\n",
      "\t\tMapper=2\n",
      "\t\tReducer=1\n",
      "\tFile Input Format Counters \n",
      "\t\tBytes Read=50909883\n",
      "\tFile Output Format Counters \n",
      "\t\tBytes Written=2260\n",
      "16/01/30 02:02:42 INFO streaming.StreamJob: Output directory: /user/ubuntu/HW3/3.2/output\n"
     ]
    }
   ],
   "source": [
    "!hdfs dfs -rm /user/ubuntu/HW3/3.2/output/*\n",
    "!hdfs dfs -rmdir /user/ubuntu/HW3/3.2/output\n",
    "\n",
    "!hadoop jar /home/ubuntu/hadoop-2.7.1/share/hadoop/tools/lib/hadoop-streaming-2.7.1.jar \\\n",
    "-mapper /home/ubuntu/repos/261/HW3/mapper.py \\\n",
    "-reducer ~/repos/261/HW3/reducer.py \\\n",
    "-input /user/ubuntu/HW3/Consumer_Complaints.csv \\\n",
    "-output /user/ubuntu/HW3/3.2/output"
   ]
  },
  {
   "cell_type": "markdown",
   "metadata": {},
   "source": [
    "The TaskCounter reads:<br>\n",
    "\t\tMapper=2<br>\n",
    "\t\tReducer=1\n",
    "    "
   ]
  },
  {
   "cell_type": "code",
   "execution_count": 15,
   "metadata": {
    "collapsed": false
   },
   "outputs": [
    {
     "name": "stdout",
     "output_type": "stream",
     "text": [
      "a 3503\t\r\n",
      "account 20681\t\r\n",
      "acct 163\t\r\n",
      "action 2505\t\r\n",
      "advance 240\t\r\n",
      "advertising 1193\t\r\n",
      "amount 98\t\r\n",
      "amt 71\t\r\n",
      "an 2505\t\r\n",
      "and 16448\t\r\n",
      "application 8868\t\r\n",
      "applied 139\t\r\n",
      "apply 118\t\r\n",
      "apr 3431\t\r\n",
      "arbitration 168\t\r\n",
      "are 3821\t\r\n",
      "atm 2422\t\r\n",
      "attempts 11848\t\r\n",
      "available 274\t\r\n",
      "balance 597\t\r\n",
      "bank 202\t\r\n",
      "bankruptcy 222\t\r\n",
      "being 5663\t\r\n",
      "billing 8158\t\r\n",
      "by 5663\t\r\n",
      "can't 1999\t\r\n",
      "cancelling 2795\t\r\n",
      "card 4405\t\r\n",
      "cash 240\t\r\n",
      "caused 5663\t\r\n",
      "changes 350\t\r\n",
      "charged 976\t\r\n",
      "charges 131\t\r\n",
      "checks 75\t\r\n",
      "closing 2795\t\r\n",
      "club 12545\t\r\n",
      "collect 11848\t\r\n",
      "collection 1907\t\r\n",
      "communication 6920\t\r\n",
      "company's 4858\t\r\n",
      "cont'd 11848\t\r\n",
      "contact 3053\t\r\n",
      "convenience 75\t\r\n",
      "costs 4350\t\r\n",
      "credit 55251\t\r\n",
      "credited 92\t\r\n",
      "customer 2734\t\r\n",
      "day 71\t\r\n",
      "dealing 1944\t\r\n",
      "debit 2422\t\r\n",
      "debt 19309\t\r\n",
      "decision 2774\t\r\n",
      "decrease 1149\t\r\n",
      "delay 243\t\r\n",
      "delinquent 1061\t\r\n",
      "deposits 10555\t\r\n",
      "determination 1490\t\r\n",
      "did 139\t\r\n",
      "didn't 925\t\r\n",
      "disclosure 5214\t\r\n",
      "disclosures 64\t\r\n",
      "dispute 904\t\r\n",
      "disputes 6938\t\r\n",
      "embezzlement 3276\t\r\n",
      "expect 807\t\r\n",
      "false 2508\t\r\n",
      "fee 3198\t\r\n",
      "fees 807\t\r\n",
      "for 929\t\r\n",
      "forbearance 350\t\r\n",
      "fraud 3842\t\r\n",
      "funds 5663\t\r\n",
      "get 4357\t\r\n",
      "getting 291\t\r\n",
      "health 12545\t\r\n",
      "i 925\t\r\n",
      "identity 4729\t\r\n",
      "illegal 2505\t\r\n",
      "improper 4309\t\r\n",
      "incorrect 29133\t\r\n",
      "increase 1149\t\r\n",
      "info 2896\t\r\n",
      "information 29069\t\r\n",
      "interest 4238\t\r\n",
      "investigation 4858\t\r\n",
      "issuance 640\t\r\n",
      "issue 1099\t\r\n",
      "issues 538\t\r\n",
      "late 1797\t\r\n",
      "lease 6337\t\r\n",
      "lender 2165\t\r\n",
      "line 1732\t\r\n",
      "loan 119630\t\r\n",
      "low 5663\t\r\n",
      "making 3226\t\r\n",
      "managing 5006\t\r\n",
      "marketing 1193\t\r\n",
      "missing 64\t\r\n",
      "modification 70487\t\r\n",
      "money 413\t\r\n",
      "monitoring 1453\t\r\n",
      "my 10731\t\r\n",
      "not 12353\t\r\n",
      "of 10885\t\r\n",
      "on 29069\t\r\n",
      "opening 16205\t\r\n",
      "or 22533\t\r\n",
      "other 7886\t\r\n",
      "out 1242\t\r\n",
      "overlimit 127\t\r\n",
      "owed 11848\t\r\n",
      "pay 3821\t\r\n",
      "payment 92\t\r\n",
      "payments 3226\t\r\n",
      "payoff 1155\t\r\n",
      "plans 350\t\r\n",
      "practices 1003\t\r\n",
      "privacy 240\t\r\n",
      "problems 9484\t\r\n",
      "process 5505\t\r\n",
      "processing 243\t\r\n",
      "promised 274\t\r\n",
      "protection 4139\t\r\n",
      "rate 3431\t\r\n",
      "receive 139\t\r\n",
      "received 216\t\r\n",
      "receiving 3226\t\r\n",
      "relations 1367\t\r\n",
      "repay 1647\t\r\n",
      "repaying 3844\t\r\n",
      "report 34903\t\r\n",
      "reporting 6559\t\r\n",
      "representation 2508\t\r\n",
      "rewards 1002\t\r\n",
      "sale 139\t\r\n",
      "scam 566\t\r\n",
      "score 4357\t\r\n",
      "service 1518\t\r\n",
      "servicer 1944\t\r\n",
      "servicing 36767\t\r\n",
      "settlement 4350\t\r\n",
      "sharing 2832\t\r\n",
      "shopping 672\t\r\n",
      "statement 1220\t\r\n",
      "statements 2508\t\r\n",
      "stop 131\t\r\n",
      "tactics 6920\t\r\n",
      "taking 3747\t\r\n",
      "terms 350\t\r\n",
      "the 6248\t\r\n",
      "theft 3276\t\r\n",
      "threatening 2505\t\r\n",
      "to 8401\t\r\n",
      "transaction 1485\t\r\n",
      "transfer 597\t\r\n",
      "unable 8178\t\r\n",
      "underwriting 2774\t\r\n",
      "unsolicited 640\t\r\n",
      "use 1477\t\r\n",
      "using 2422\t\r\n",
      "verification 5214\t\r\n",
      "was 274\t\r\n",
      "when 4095\t\r\n",
      "with 1944\t\r\n",
      "withdrawals 10555\t\r\n",
      "workout 350\t\r\n",
      "wrong 169\t\r\n",
      "you 3821\t\r\n",
      "your 3844\t\r\n"
     ]
    }
   ],
   "source": [
    "!hdfs dfs -cat /user/ubuntu/HW3/3.2/output/part-00000"
   ]
  },
  {
   "cell_type": "markdown",
   "metadata": {},
   "source": [
    "Perform a word count analysis of the Issue column of the Consumer Complaints  Dataset using a Mapper, Reducer, and standalone combiner (i.e., not an in-memory combiner) based WordCount using user defined Counters to count up how many time the mapper, combiner, reducer are called. What is the value of your user defined Mapper Counter, and Reducer Counter after completing your word count job. "
   ]
  },
  {
   "cell_type": "code",
   "execution_count": 16,
   "metadata": {
    "collapsed": false
   },
   "outputs": [
    {
     "name": "stdout",
     "output_type": "stream",
     "text": [
      "Writing combiner.py\n"
     ]
    }
   ],
   "source": [
    "%%writefile combiner.py\n",
    "#!/usr/bin/python\n",
    "\n",
    "import sys, re\n",
    "\n",
    "#this is the exact same as the reducer except the output is modified\n",
    "#to include a comma between the key and value to fulfill the contract \n",
    "#that the combiner accept and emit keys in the same format as the mapper\n",
    "\n",
    "sys.stderr.write(\"reporter:counter:TaskCounter,Combiner,1\\n\")\n",
    "\n",
    "current_word = \"\"\n",
    "current_sum = 0\n",
    "for line in sys.stdin:\n",
    "    splits = [x.lower().strip() for x in re.split(\",\", line)]\n",
    "    if (len(splits)) < 2:\n",
    "        continue\n",
    "    if current_word == \"\":\n",
    "        current_word = splits[0]\n",
    "    if splits[0] != current_word:\n",
    "        print(current_word + \", \" + str(current_sum))\n",
    "        current_word = splits[0]\n",
    "        current_sum = int(splits[1])\n",
    "    else:\n",
    "        current_sum += int(splits[1])\n",
    "print(current_word + \", \" + str(current_sum))"
   ]
  },
  {
   "cell_type": "code",
   "execution_count": 17,
   "metadata": {
    "collapsed": true
   },
   "outputs": [],
   "source": [
    "!chmod +x combiner.py"
   ]
  },
  {
   "cell_type": "code",
   "execution_count": 18,
   "metadata": {
    "collapsed": false,
    "scrolled": true
   },
   "outputs": [
    {
     "name": "stdout",
     "output_type": "stream",
     "text": [
      "16/01/30 02:54:25 INFO fs.TrashPolicyDefault: Namenode trash configuration: Deletion interval = 0 minutes, Emptier interval = 0 minutes.\n",
      "Deleted /user/ubuntu/HW3/3.2/output/_SUCCESS\n",
      "16/01/30 02:54:26 INFO fs.TrashPolicyDefault: Namenode trash configuration: Deletion interval = 0 minutes, Emptier interval = 0 minutes.\n",
      "Deleted /user/ubuntu/HW3/3.2/output/part-00000\n",
      "packageJobJar: [/tmp/hadoop-unjar1646522515064830425/] [] /tmp/streamjob1924805495545833480.jar tmpDir=null\n",
      "16/01/30 02:54:30 INFO client.RMProxy: Connecting to ResourceManager at /0.0.0.0:8032\n",
      "16/01/30 02:54:30 INFO client.RMProxy: Connecting to ResourceManager at /0.0.0.0:8032\n",
      "16/01/30 02:54:30 INFO mapred.FileInputFormat: Total input paths to process : 1\n",
      "16/01/30 02:54:30 INFO mapreduce.JobSubmitter: number of splits:2\n",
      "16/01/30 02:54:30 INFO mapreduce.JobSubmitter: Submitting tokens for job: job_1453815382601_0025\n",
      "16/01/30 02:54:30 INFO impl.YarnClientImpl: Submitted application application_1453815382601_0025\n",
      "16/01/30 02:54:31 INFO mapreduce.Job: The url to track the job: http://ip-172-31-54-132:8088/proxy/application_1453815382601_0025/\n",
      "16/01/30 02:54:31 INFO mapreduce.Job: Running job: job_1453815382601_0025\n",
      "16/01/30 02:54:36 INFO mapreduce.Job: Job job_1453815382601_0025 running in uber mode : false\n",
      "16/01/30 02:54:36 INFO mapreduce.Job:  map 0% reduce 0%\n",
      "16/01/30 02:54:46 INFO mapreduce.Job:  map 100% reduce 0%\n",
      "16/01/30 02:54:52 INFO mapreduce.Job:  map 100% reduce 100%\n",
      "16/01/30 02:54:52 INFO mapreduce.Job: Job job_1453815382601_0025 completed successfully\n",
      "16/01/30 02:54:52 INFO mapreduce.Job: Counters: 52\n",
      "\tFile System Counters\n",
      "\t\tFILE: Number of bytes read=5064\n",
      "\t\tFILE: Number of bytes written=363308\n",
      "\t\tFILE: Number of read operations=0\n",
      "\t\tFILE: Number of large read operations=0\n",
      "\t\tFILE: Number of write operations=0\n",
      "\t\tHDFS: Number of bytes read=50910109\n",
      "\t\tHDFS: Number of bytes written=2260\n",
      "\t\tHDFS: Number of read operations=9\n",
      "\t\tHDFS: Number of large read operations=0\n",
      "\t\tHDFS: Number of write operations=2\n",
      "\tJob Counters \n",
      "\t\tLaunched map tasks=2\n",
      "\t\tLaunched reduce tasks=1\n",
      "\t\tData-local map tasks=2\n",
      "\t\tTotal time spent by all maps in occupied slots (ms)=16373\n",
      "\t\tTotal time spent by all reduces in occupied slots (ms)=2849\n",
      "\t\tTotal time spent by all map tasks (ms)=16373\n",
      "\t\tTotal time spent by all reduce tasks (ms)=2849\n",
      "\t\tTotal vcore-seconds taken by all map tasks=16373\n",
      "\t\tTotal vcore-seconds taken by all reduce tasks=2849\n",
      "\t\tTotal megabyte-seconds taken by all map tasks=16765952\n",
      "\t\tTotal megabyte-seconds taken by all reduce tasks=2917376\n",
      "\tMap-Reduce Framework\n",
      "\t\tMap input records=312913\n",
      "\t\tMap output records=980483\n",
      "\t\tMap output bytes=11233475\n",
      "\t\tMap output materialized bytes=5070\n",
      "\t\tInput split bytes=226\n",
      "\t\tCombine input records=980483\n",
      "\t\tCombine output records=313\n",
      "\t\tReduce input groups=313\n",
      "\t\tReduce shuffle bytes=5070\n",
      "\t\tReduce input records=313\n",
      "\t\tReduce output records=169\n",
      "\t\tSpilled Records=626\n",
      "\t\tShuffled Maps =2\n",
      "\t\tFailed Shuffles=0\n",
      "\t\tMerged Map outputs=2\n",
      "\t\tGC time elapsed (ms)=166\n",
      "\t\tCPU time spent (ms)=5020\n",
      "\t\tPhysical memory (bytes) snapshot=715345920\n",
      "\t\tVirtual memory (bytes) snapshot=2495725568\n",
      "\t\tTotal committed heap usage (bytes)=546308096\n",
      "\tShuffle Errors\n",
      "\t\tBAD_ID=0\n",
      "\t\tCONNECTION=0\n",
      "\t\tIO_ERROR=0\n",
      "\t\tWRONG_LENGTH=0\n",
      "\t\tWRONG_MAP=0\n",
      "\t\tWRONG_REDUCE=0\n",
      "\tTaskCounter\n",
      "\t\tCombiner=2\n",
      "\t\tMapper=2\n",
      "\t\tReducer=1\n",
      "\tFile Input Format Counters \n",
      "\t\tBytes Read=50909883\n",
      "\tFile Output Format Counters \n",
      "\t\tBytes Written=2260\n",
      "16/01/30 02:54:52 INFO streaming.StreamJob: Output directory: /user/ubuntu/HW3/3.2/output\n"
     ]
    }
   ],
   "source": [
    "!hdfs dfs -rm /user/ubuntu/HW3/3.2/output/*\n",
    "!hdfs dfs -rmdir /user/ubuntu/HW3/3.2/output\n",
    "\n",
    "!hadoop jar /home/ubuntu/hadoop-2.7.1/share/hadoop/tools/lib/hadoop-streaming-2.7.1.jar \\\n",
    "-mapper /home/ubuntu/repos/261/HW3/mapper.py \\\n",
    "-reducer ~/repos/261/HW3/reducer.py \\\n",
    "-combiner /home/ubuntu/repos/261/HW3/combiner.py \\\n",
    "-input /user/ubuntu/HW3/Consumer_Complaints.csv \\\n",
    "-output /user/ubuntu/HW3/3.2/output"
   ]
  },
  {
   "cell_type": "markdown",
   "metadata": {
    "collapsed": true
   },
   "source": [
    "Using a single reducer: What are the top 50 most frequent terms in your word count analysis? Present the top 50 terms and their frequency and their relative frequency. If there are ties please sort the tokens in alphanumeric/string order. Present bottom 10 tokens (least frequent items)."
   ]
  },
  {
   "cell_type": "code",
   "execution_count": 19,
   "metadata": {
    "collapsed": true
   },
   "outputs": [],
   "source": [
    "#Build an order-inverting mapper"
   ]
  },
  {
   "cell_type": "code",
   "execution_count": 64,
   "metadata": {
    "collapsed": false
   },
   "outputs": [
    {
     "name": "stdout",
     "output_type": "stream",
     "text": [
      "Overwriting mapper.py\n"
     ]
    }
   ],
   "source": [
    "%%writefile mapper.py\n",
    "#!/usr/bin/python\n",
    "\n",
    "import sys, re\n",
    "\n",
    "WORD_RE = re.compile(r\"[\\w']+\")\n",
    "\n",
    "sys.stderr.write(\"reporter:counter:TaskCounter,Mapper,1\\n\")\n",
    "\n",
    "marginal = 0\n",
    "\n",
    "for line in sys.stdin:\n",
    "    splits = [x.lower().strip() for x in re.split(\",\", line)]\n",
    "    issues = splits[3]\n",
    "    for word in WORD_RE.findall(issues):\n",
    "        print(word+\"\\t1\")\n",
    "        marginal += 1\n",
    "print(\"***\\t\" + str(marginal))"
   ]
  },
  {
   "cell_type": "code",
   "execution_count": 65,
   "metadata": {
    "collapsed": true
   },
   "outputs": [],
   "source": [
    "#Build an inversion-aware reducer"
   ]
  },
  {
   "cell_type": "code",
   "execution_count": 71,
   "metadata": {
    "collapsed": false
   },
   "outputs": [
    {
     "name": "stdout",
     "output_type": "stream",
     "text": [
      "Overwriting reducer.py\n"
     ]
    }
   ],
   "source": [
    "%%writefile reducer.py\n",
    "#!/usr/bin/python\n",
    "\n",
    "import sys, re\n",
    "\n",
    "sys.stderr.write(\"reporter:counter:TaskCounter,Reducer,1\\n\")\n",
    "\n",
    "marginal = 0\n",
    "\n",
    "current_word = \"***\"\n",
    "current_sum = 0\n",
    "for line in sys.stdin:  \n",
    "    splits = [x.lower().strip() for x in re.split(\"\\t\", line)]\n",
    "    if (len(splits)) < 2:\n",
    "        continue\n",
    "    if splits[0] != current_word:\n",
    "        if current_word != \"***\":\n",
    "            print(current_word + \"\\t\" + str(current_sum) + \"\\t\" + str(1.*current_sum/marginal))\n",
    "        current_word = splits[0]\n",
    "        current_sum = int(splits[1])\n",
    "    else:\n",
    "        if current_word == \"***\":\n",
    "            marginal += int(splits[1])\n",
    "        else:\n",
    "            current_sum += int(splits[1])\n",
    "print(current_word + \"\\t\" + str(current_sum) + \"\\t\" + str(1.*current_sum/marginal))"
   ]
  },
  {
   "cell_type": "code",
   "execution_count": 72,
   "metadata": {
    "collapsed": false,
    "scrolled": true
   },
   "outputs": [
    {
     "name": "stdout",
     "output_type": "stream",
     "text": [
      "reporter:counter:TaskCounter,Mapper,1\r\n",
      "reporter:counter:TaskCounter,Reducer,1\r\n",
      "a\t2\t0.0009474182851729038\r\n",
      "account\t19\t0.009000473709142587\r\n",
      "action\t3\t0.0014211274277593558\r\n",
      "advertising\t1\t0.0004737091425864519\r\n",
      "an\t3\t0.0014211274277593558\r\n",
      "and\t18\t0.008526764566556135\r\n",
      "application\t3\t0.0014211274277593558\r\n",
      "applied\t1\t0.0004737091425864519\r\n",
      "apr\t3\t0.0014211274277593558\r\n",
      "are\t3\t0.0014211274277593558\r\n",
      "atm\t2\t0.0009474182851729038\r\n",
      "attempts\t37\t0.01752723827569872\r\n",
      "available\t1\t0.0004737091425864519\r\n",
      "balance\t1\t0.0004737091425864519\r\n",
      "being\t9\t0.004263382283278067\r\n",
      "billing\t1\t0.0004737091425864519\r\n",
      "by\t9\t0.004263382283278067\r\n",
      "cancelling\t1\t0.0004737091425864519\r\n",
      "can't\t3\t0.0014211274277593558\r\n",
      "card\t2\t0.0009474182851729038\r\n",
      "caused\t9\t0.004263382283278067\r\n",
      "charged\t2\t0.0009474182851729038\r\n",
      "closing\t1\t0.0004737091425864519\r\n",
      "club\t55\t0.026054002842254856\r\n",
      "collect\t37\t0.01752723827569872\r\n",
      "communication\t24\t0.011369019422074847\r\n",
      "company's\t40\t0.018948365703458078\r\n",
      "contact\t9\t0.004263382283278067\r\n",
      "cont'd\t37\t0.01752723827569872\r\n",
      "costs\t4\t0.0018948365703458077\r\n",
      "credit\t270\t0.12790146849834202\r\n",
      "dealing\t2\t0.0009474182851729038\r\n",
      "debit\t2\t0.0009474182851729038\r\n",
      "debt\t50\t0.023685457129322594\r\n",
      "decision\t3\t0.0014211274277593558\r\n",
      "decrease\t1\t0.0004737091425864519\r\n",
      "delinquent\t1\t0.0004737091425864519\r\n",
      "deposits\t13\t0.006158218853623875\r\n",
      "did\t1\t0.0004737091425864519\r\n",
      "didn't\t2\t0.0009474182851729038\r\n",
      "disclosure\t13\t0.006158218853623875\r\n",
      "embezzlement\t2\t0.0009474182851729038\r\n",
      "expect\t2\t0.0009474182851729038\r\n",
      "false\t3\t0.0014211274277593558\r\n",
      "fees\t2\t0.0009474182851729038\r\n",
      "for\t1\t0.0004737091425864519\r\n",
      "fraud\t3\t0.0014211274277593558\r\n",
      "funds\t9\t0.004263382283278067\r\n",
      "get\t41\t0.019422074846044527\r\n",
      "health\t55\t0.026054002842254856\r\n",
      "i\t2\t0.0009474182851729038\r\n",
      "identity\t7\t0.0033159639981051635\r\n",
      "illegal\t3\t0.0014211274277593558\r\n",
      "improper\t12\t0.005684509711037423\r\n",
      "incorrect\t135\t0.06395073424917101\r\n",
      "increase\t1\t0.0004737091425864519\r\n",
      "info\t8\t0.0037896731406916154\r\n",
      "information\t135\t0.06395073424917101\r\n",
      "interest\t5\t0.0023685457129322598\r\n",
      "investigation\t40\t0.018948365703458078\r\n",
      "lease\t10\t0.0047370914258645196\r\n",
      "lender\t3\t0.0014211274277593558\r\n",
      "line\t1\t0.0004737091425864519\r\n",
      "loan\t56\t0.026527711984841308\r\n",
      "low\t9\t0.004263382283278067\r\n",
      "making\t2\t0.0009474182851729038\r\n",
      "managing\t7\t0.0033159639981051635\r\n",
      "marketing\t1\t0.0004737091425864519\r\n",
      "modification\t17\t0.008053055423969682\r\n",
      "money\t2\t0.0009474182851729038\r\n",
      "monitoring\t5\t0.0023685457129322598\r\n",
      "my\t17\t0.008053055423969682\r\n",
      "not\t39\t0.018474656560871626\r\n",
      "of\t25\t0.011842728564661297\r\n",
      "on\t135\t0.06395073424917101\r\n",
      "opening\t17\t0.008053055423969682\r\n",
      "or\t36\t0.01705352913311227\r\n",
      "other\t1\t0.0004737091425864519\r\n",
      "out\t3\t0.0014211274277593558\r\n",
      "owed\t37\t0.01752723827569872\r\n",
      "pay\t3\t0.0014211274277593558\r\n",
      "payments\t2\t0.0009474182851729038\r\n",
      "problems\t12\t0.005684509711037423\r\n",
      "process\t4\t0.0018948365703458077\r\n",
      "promised\t1\t0.0004737091425864519\r\n",
      "protection\t5\t0.0023685457129322598\r\n",
      "rate\t3\t0.0014211274277593558\r\n",
      "receive\t1\t0.0004737091425864519\r\n",
      "receiving\t2\t0.0009474182851729038\r\n",
      "repay\t2\t0.0009474182851729038\r\n",
      "report\t180\t0.08526764566556135\r\n",
      "reporting\t40\t0.018948365703458078\r\n",
      "representation\t3\t0.0014211274277593558\r\n",
      "rewards\t1\t0.0004737091425864519\r\n",
      "scam\t1\t0.0004737091425864519\r\n",
      "score\t41\t0.019422074846044527\r\n",
      "servicer\t2\t0.0009474182851729038\r\n",
      "servicing\t26\t0.01231643770724775\r\n",
      "settlement\t4\t0.0018948365703458077\r\n",
      "sharing\t8\t0.0037896731406916154\r\n",
      "statement\t1\t0.0004737091425864519\r\n",
      "statements\t3\t0.0014211274277593558\r\n",
      "tactics\t24\t0.011369019422074847\r\n",
      "taking\t6\t0.0028422548555187117\r\n",
      "the\t10\t0.0047370914258645196\r\n",
      "theft\t2\t0.0009474182851729038\r\n",
      "threatening\t3\t0.0014211274277593558\r\n",
      "to\t44\t0.020843202273803884\r\n",
      "transfer\t1\t0.0004737091425864519\r\n",
      "unable\t44\t0.020843202273803884\r\n",
      "underwriting\t3\t0.0014211274277593558\r\n",
      "use\t4\t0.0018948365703458077\r\n",
      "using\t2\t0.0009474182851729038\r\n",
      "verification\t13\t0.006158218853623875\r\n",
      "was\t1\t0.0004737091425864519\r\n",
      "when\t4\t0.0018948365703458077\r\n",
      "with\t2\t0.0009474182851729038\r\n",
      "withdrawals\t13\t0.006158218853623875\r\n",
      "you\t3\t0.0014211274277593558\r\n"
     ]
    }
   ],
   "source": [
    "!cat Consumer_Complaints_mini.csv | python mapper.py | sort | python reducer.py"
   ]
  },
  {
   "cell_type": "code",
   "execution_count": 73,
   "metadata": {
    "collapsed": false,
    "scrolled": true
   },
   "outputs": [
    {
     "name": "stdout",
     "output_type": "stream",
     "text": [
      "16/01/31 16:05:23 INFO fs.TrashPolicyDefault: Namenode trash configuration: Deletion interval = 0 minutes, Emptier interval = 0 minutes.\n",
      "Deleted /user/ubuntu/HW3/3.2/output/_SUCCESS\n",
      "16/01/31 16:05:23 INFO fs.TrashPolicyDefault: Namenode trash configuration: Deletion interval = 0 minutes, Emptier interval = 0 minutes.\n",
      "Deleted /user/ubuntu/HW3/3.2/output/part-00000\n",
      "packageJobJar: [/tmp/hadoop-unjar7543454808455630869/] [] /tmp/streamjob4492476671369596750.jar tmpDir=null\n",
      "16/01/31 16:05:27 INFO client.RMProxy: Connecting to ResourceManager at /0.0.0.0:8032\n",
      "16/01/31 16:05:27 INFO client.RMProxy: Connecting to ResourceManager at /0.0.0.0:8032\n",
      "16/01/31 16:05:27 INFO mapred.FileInputFormat: Total input paths to process : 1\n",
      "16/01/31 16:05:27 INFO mapreduce.JobSubmitter: number of splits:2\n",
      "16/01/31 16:05:27 INFO mapreduce.JobSubmitter: Submitting tokens for job: job_1453815382601_0051\n",
      "16/01/31 16:05:28 INFO impl.YarnClientImpl: Submitted application application_1453815382601_0051\n",
      "16/01/31 16:05:28 INFO mapreduce.Job: The url to track the job: http://ip-172-31-54-132:8088/proxy/application_1453815382601_0051/\n",
      "16/01/31 16:05:28 INFO mapreduce.Job: Running job: job_1453815382601_0051\n",
      "16/01/31 16:05:33 INFO mapreduce.Job: Job job_1453815382601_0051 running in uber mode : false\n",
      "16/01/31 16:05:33 INFO mapreduce.Job:  map 0% reduce 0%\n",
      "16/01/31 16:05:43 INFO mapreduce.Job:  map 100% reduce 0%\n",
      "16/01/31 16:05:51 INFO mapreduce.Job:  map 100% reduce 100%\n",
      "16/01/31 16:05:51 INFO mapreduce.Job: Job job_1453815382601_0051 completed successfully\n",
      "16/01/31 16:05:51 INFO mapreduce.Job: Counters: 51\n",
      "\tFile System Counters\n",
      "\t\tFILE: Number of bytes read=11233507\n",
      "\t\tFILE: Number of bytes written=22819123\n",
      "\t\tFILE: Number of read operations=0\n",
      "\t\tFILE: Number of large read operations=0\n",
      "\t\tFILE: Number of write operations=0\n",
      "\t\tHDFS: Number of bytes read=50910109\n",
      "\t\tHDFS: Number of bytes written=4979\n",
      "\t\tHDFS: Number of read operations=9\n",
      "\t\tHDFS: Number of large read operations=0\n",
      "\t\tHDFS: Number of write operations=2\n",
      "\tJob Counters \n",
      "\t\tLaunched map tasks=2\n",
      "\t\tLaunched reduce tasks=1\n",
      "\t\tData-local map tasks=2\n",
      "\t\tTotal time spent by all maps in occupied slots (ms)=14293\n",
      "\t\tTotal time spent by all reduces in occupied slots (ms)=5838\n",
      "\t\tTotal time spent by all map tasks (ms)=14293\n",
      "\t\tTotal time spent by all reduce tasks (ms)=5838\n",
      "\t\tTotal vcore-seconds taken by all map tasks=14293\n",
      "\t\tTotal vcore-seconds taken by all reduce tasks=5838\n",
      "\t\tTotal megabyte-seconds taken by all map tasks=14636032\n",
      "\t\tTotal megabyte-seconds taken by all reduce tasks=5978112\n",
      "\tMap-Reduce Framework\n",
      "\t\tMap input records=312913\n",
      "\t\tMap output records=980485\n",
      "\t\tMap output bytes=9272531\n",
      "\t\tMap output materialized bytes=11233513\n",
      "\t\tInput split bytes=226\n",
      "\t\tCombine input records=0\n",
      "\t\tCombine output records=0\n",
      "\t\tReduce input groups=170\n",
      "\t\tReduce shuffle bytes=11233513\n",
      "\t\tReduce input records=980485\n",
      "\t\tReduce output records=169\n",
      "\t\tSpilled Records=1960970\n",
      "\t\tShuffled Maps =2\n",
      "\t\tFailed Shuffles=0\n",
      "\t\tMerged Map outputs=2\n",
      "\t\tGC time elapsed (ms)=131\n",
      "\t\tCPU time spent (ms)=7170\n",
      "\t\tPhysical memory (bytes) snapshot=727261184\n",
      "\t\tVirtual memory (bytes) snapshot=2497425408\n",
      "\t\tTotal committed heap usage (bytes)=556793856\n",
      "\tShuffle Errors\n",
      "\t\tBAD_ID=0\n",
      "\t\tCONNECTION=0\n",
      "\t\tIO_ERROR=0\n",
      "\t\tWRONG_LENGTH=0\n",
      "\t\tWRONG_MAP=0\n",
      "\t\tWRONG_REDUCE=0\n",
      "\tTaskCounter\n",
      "\t\tMapper=2\n",
      "\t\tReducer=1\n",
      "\tFile Input Format Counters \n",
      "\t\tBytes Read=50909883\n",
      "\tFile Output Format Counters \n",
      "\t\tBytes Written=4979\n",
      "16/01/31 16:05:51 INFO streaming.StreamJob: Output directory: /user/ubuntu/HW3/3.2/output\n"
     ]
    }
   ],
   "source": [
    "!hdfs dfs -rm /user/ubuntu/HW3/3.2/output/*\n",
    "!hdfs dfs -rmdir /user/ubuntu/HW3/3.2/output\n",
    "\n",
    "!hadoop jar /home/ubuntu/hadoop-2.7.1/share/hadoop/tools/lib/hadoop-streaming-2.7.1.jar \\\n",
    "-mapper /home/ubuntu/repos/261/HW3/mapper.py \\\n",
    "-reducer ~/repos/261/HW3/reducer.py \\\n",
    "-input /user/ubuntu/HW3/Consumer_Complaints.csv \\\n",
    "-output /user/ubuntu/HW3/3.2/output"
   ]
  },
  {
   "cell_type": "code",
   "execution_count": 74,
   "metadata": {
    "collapsed": false
   },
   "outputs": [
    {
     "name": "stdout",
     "output_type": "stream",
     "text": [
      "a\t3503\t0.00357272895094\r\n",
      "account\t20681\t0.0210926655536\r\n",
      "acct\t163\t0.000166244595776\r\n",
      "action\t2505\t0.00255486326637\r\n",
      "advance\t240\t0.000244777318934\r\n",
      "advertising\t1193\t0.0012167472562\r\n",
      "amount\t98\t9.99507385646e-05\r\n",
      "amt\t71\t7.24132901845e-05\r\n",
      "an\t2505\t0.00255486326637\r\n",
      "and\t16448\t0.0167754055909\r\n",
      "application\t8868\t0.0090445219346\r\n",
      "applied\t139\t0.000141766863882\r\n",
      "apply\t118\t0.000120348848476\r\n",
      "apr\t3431\t0.00349929575526\r\n",
      "arbitration\t168\t0.000171344123254\r\n",
      "are\t3821\t0.00389705889852\r\n",
      "atm\t2422\t0.00247021111024\r\n",
      "attempts\t11848\t0.0120838403114\r\n",
      "available\t274\t0.000279454105783\r\n",
      "balance\t597\t0.000608883580847\r\n",
      "bank\t202\t0.000206020910102\r\n",
      "bankruptcy\t222\t0.000226419020014\r\n",
      "being\t5663\t0.00577572482134\r\n",
      "billing\t8158\t0.00832038903275\r\n",
      "by\t5663\t0.00577572482134\r\n",
      "can't\t1999\t0.00203879108562\r\n",
      "cancelling\t2795\t0.00285063586008\r\n",
      "card\t4405\t0.00449268370793\r\n",
      "cash\t240\t0.000244777318934\r\n",
      "caused\t5663\t0.00577572482134\r\n",
      "changes\t350\t0.000356966923445\r\n",
      "charged\t976\t0.000995427763663\r\n",
      "charges\t131\t0.000133607619918\r\n",
      "checks\t75\t7.64929121668e-05\r\n",
      "closing\t2795\t0.00285063586008\r\n",
      "club\t12545\t0.0127947144418\r\n",
      "collect\t11848\t0.0120838403114\r\n",
      "collection\t1907\t0.00194495978003\r\n",
      "communication\t6920\t0.00705774602925\r\n",
      "company's\t4858\t0.00495470089741\r\n",
      "cont'd\t11848\t0.0120838403114\r\n",
      "contact\t3053\t0.00311377147793\r\n",
      "convenience\t75\t7.64929121668e-05\r\n",
      "costs\t4350\t0.00443658890567\r\n",
      "credit\t55251\t0.056350798535\r\n",
      "credited\t92\t9.38313055912e-05\r\n",
      "customer\t2734\t0.00278842162485\r\n",
      "day\t71\t7.24132901845e-05\r\n",
      "dealing\t1944\t0.00198269628336\r\n",
      "debit\t2422\t0.00247021111024\r\n",
      "debt\t19309\t0.0196933552137\r\n",
      "decision\t2774\t0.00282921784467\r\n",
      "decrease\t1149\t0.00117187141439\r\n",
      "delay\t243\t0.00024783703542\r\n",
      "delinquent\t1061\t0.00108211973079\r\n",
      "deposits\t10555\t0.0107651025056\r\n",
      "determination\t1490\t0.00151965918838\r\n",
      "did\t139\t0.000141766863882\r\n",
      "didn't\t925\t0.00094341258339\r\n",
      "disclosure\t5214\t0.00531778725383\r\n",
      "disclosures\t64\t6.52739517156e-05\r\n",
      "dispute\t904\t0.000921994567983\r\n",
      "disputes\t6938\t0.00707610432817\r\n",
      "embezzlement\t3276\t0.00334121040344\r\n",
      "expect\t807\t0.000823063734914\r\n",
      "false\t2508\t0.00255792298286\r\n",
      "fee\t3198\t0.00326165777479\r\n",
      "fees\t807\t0.000823063734914\r\n",
      "for\t929\t0.000947492205372\r\n",
      "forbearance\t350\t0.000356966923445\r\n",
      "fraud\t3842\t0.00391847691393\r\n",
      "funds\t5663\t0.00577572482134\r\n",
      "get\t4357\t0.00444372824414\r\n",
      "getting\t291\t0.000296792499207\r\n",
      "health\t12545\t0.0127947144418\r\n",
      "i\t925\t0.00094341258339\r\n",
      "identity\t4729\t0.00482313308849\r\n",
      "illegal\t2505\t0.00255486326637\r\n",
      "improper\t4309\t0.00439477278035\r\n",
      "incorrect\t29133\t0.0297129068021\r\n",
      "increase\t1149\t0.00117187141439\r\n",
      "info\t2896\t0.00295364631513\r\n",
      "information\t29069\t0.0296476328503\r\n",
      "interest\t4238\t0.00432235949017\r\n",
      "investigation\t4858\t0.00495470089741\r\n",
      "issuance\t640\t0.000652739517156\r\n",
      "issue\t1099\t0.00112087613962\r\n",
      "issues\t538\t0.00054870915661\r\n",
      "late\t1797\t0.00183277017552\r\n",
      "lease\t6337\t0.00646314112534\r\n",
      "lender\t2165\t0.00220809539788\r\n",
      "line\t1732\t0.0017664763183\r\n",
      "loan\t119630\t0.122011294433\r\n",
      "low\t5663\t0.00577572482134\r\n",
      "making\t3226\t0.00329021512867\r\n",
      "managing\t5006\t0.00510564691076\r\n",
      "marketing\t1193\t0.0012167472562\r\n",
      "missing\t64\t6.52739517156e-05\r\n",
      "modification\t70487\t0.0718900786653\r\n",
      "money\t413\t0.000421220969665\r\n",
      "monitoring\t1453\t0.00148192268504\r\n",
      "my\t10731\t0.0109446058728\r\n",
      "not\t12353\t0.0125988925866\r\n",
      "of\t10885\t0.0111016713191\r\n",
      "on\t29069\t0.0296476328503\r\n",
      "opening\t16205\t0.0165275685555\r\n",
      "or\t22533\t0.0229815305314\r\n",
      "other\t7886\t0.00804297473796\r\n",
      "out\t1242\t0.00126672262548\r\n",
      "overlimit\t127\t0.000129527997936\r\n",
      "owed\t11848\t0.0120838403114\r\n",
      "pay\t3821\t0.00389705889852\r\n",
      "payment\t92\t9.38313055912e-05\r\n",
      "payments\t3226\t0.00329021512867\r\n",
      "payoff\t1155\t0.00117799084737\r\n",
      "plans\t350\t0.000356966923445\r\n",
      "practices\t1003\t0.00102296521204\r\n",
      "privacy\t240\t0.000244777318934\r\n",
      "problems\t9484\t0.00967278371986\r\n",
      "process\t5505\t0.00561457975304\r\n",
      "processing\t243\t0.00024783703542\r\n",
      "promised\t274\t0.000279454105783\r\n",
      "protection\t4139\t0.00422138884611\r\n",
      "rate\t3431\t0.00349929575526\r\n",
      "receive\t139\t0.000141766863882\r\n",
      "received\t216\t0.00022029958704\r\n",
      "receiving\t3226\t0.00329021512867\r\n",
      "relations\t1367\t0.00139421081243\r\n",
      "repay\t1647\t0.00167978435118\r\n",
      "repaying\t3844\t0.00392051672492\r\n",
      "report\t34903\t0.0355977615114\r\n",
      "reporting\t6559\t0.00668956014536\r\n",
      "representation\t2508\t0.00255792298286\r\n",
      "rewards\t1002\t0.00102194530655\r\n",
      "sale\t139\t0.000141766863882\r\n",
      "scam\t566\t0.000577266510485\r\n",
      "score\t4357\t0.00444372824414\r\n",
      "service\t1518\t0.00154821654226\r\n",
      "servicer\t1944\t0.00198269628336\r\n",
      "servicing\t36767\t0.0374988653551\r\n",
      "settlement\t4350\t0.00443658890567\r\n",
      "sharing\t2832\t0.00288837236342\r\n",
      "shopping\t672\t0.000685376493014\r\n",
      "statement\t1220\t0.00124428470458\r\n",
      "statements\t2508\t0.00255792298286\r\n",
      "stop\t131\t0.000133607619918\r\n",
      "tactics\t6920\t0.00705774602925\r\n",
      "taking\t3747\t0.00382158589185\r\n",
      "terms\t350\t0.000356966923445\r\n",
      "the\t6248\t0.00637236953624\r\n",
      "theft\t3276\t0.00334121040344\r\n",
      "threatening\t2505\t0.00255486326637\r\n",
      "to\t8401\t0.00856822606817\r\n",
      "transaction\t1485\t0.0015145596609\r\n",
      "transfer\t597\t0.000608883580847\r\n",
      "unable\t8178\t0.00834078714266\r\n",
      "underwriting\t2774\t0.00282921784467\r\n",
      "unsolicited\t640\t0.000652739517156\r\n",
      "use\t1477\t0.00150640041694\r\n",
      "using\t2422\t0.00247021111024\r\n",
      "verification\t5214\t0.00531778725383\r\n",
      "was\t274\t0.000279454105783\r\n",
      "when\t4095\t0.00417651300431\r\n",
      "with\t1944\t0.00198269628336\r\n",
      "withdrawals\t10555\t0.0107651025056\r\n",
      "workout\t350\t0.000356966923445\r\n",
      "wrong\t169\t0.000172364028749\r\n",
      "you\t3821\t0.00389705889852\r\n",
      "your\t3844\t0.00392051672492\r\n"
     ]
    }
   ],
   "source": [
    "!hdfs dfs -cat /user/ubuntu/HW3/3.2/output/part-00000"
   ]
  },
  {
   "cell_type": "code",
   "execution_count": 75,
   "metadata": {
    "collapsed": false
   },
   "outputs": [
    {
     "name": "stdout",
     "output_type": "stream",
     "text": [
      "Overwriting mapper.py\n"
     ]
    }
   ],
   "source": [
    "%%writefile mapper.py\n",
    "#!/usr/bin/python\n",
    "\n",
    "import sys\n",
    "\n",
    "for line in sys.stdin:\n",
    "    print(line.strip())"
   ]
  },
  {
   "cell_type": "code",
   "execution_count": 76,
   "metadata": {
    "collapsed": false
   },
   "outputs": [
    {
     "name": "stdout",
     "output_type": "stream",
     "text": [
      "Overwriting reducer.py\n"
     ]
    }
   ],
   "source": [
    "%%writefile reducer.py\n",
    "#!/usr/bin/python\n",
    "\n",
    "import sys,re\n",
    "\n",
    "#ount = 0\n",
    "\n",
    "for line in sys.stdin:\n",
    "    print(line.strip())\n",
    "    #ount += 1\n",
    "    #f count >= 50:\n",
    "    #   break"
   ]
  },
  {
   "cell_type": "code",
   "execution_count": 84,
   "metadata": {
    "collapsed": false,
    "scrolled": true
   },
   "outputs": [
    {
     "name": "stdout",
     "output_type": "stream",
     "text": [
      "16/01/31 16:13:31 INFO fs.TrashPolicyDefault: Namenode trash configuration: Deletion interval = 0 minutes, Emptier interval = 0 minutes.\n",
      "Deleted /user/ubuntu/HW3/3.2.4/output/_SUCCESS\n",
      "16/01/31 16:13:31 INFO fs.TrashPolicyDefault: Namenode trash configuration: Deletion interval = 0 minutes, Emptier interval = 0 minutes.\n",
      "Deleted /user/ubuntu/HW3/3.2.4/output/part-00000\n",
      "packageJobJar: [/tmp/hadoop-unjar1089046432507248508/] [] /tmp/streamjob5782657830717292465.jar tmpDir=null\n",
      "16/01/31 16:13:35 INFO client.RMProxy: Connecting to ResourceManager at /0.0.0.0:8032\n",
      "16/01/31 16:13:35 INFO client.RMProxy: Connecting to ResourceManager at /0.0.0.0:8032\n",
      "16/01/31 16:13:36 INFO mapred.FileInputFormat: Total input paths to process : 1\n",
      "16/01/31 16:13:36 INFO mapreduce.JobSubmitter: number of splits:2\n",
      "16/01/31 16:13:36 INFO mapreduce.JobSubmitter: Submitting tokens for job: job_1453815382601_0055\n",
      "16/01/31 16:13:36 INFO impl.YarnClientImpl: Submitted application application_1453815382601_0055\n",
      "16/01/31 16:13:36 INFO mapreduce.Job: The url to track the job: http://ip-172-31-54-132:8088/proxy/application_1453815382601_0055/\n",
      "16/01/31 16:13:36 INFO mapreduce.Job: Running job: job_1453815382601_0055\n",
      "16/01/31 16:13:42 INFO mapreduce.Job: Job job_1453815382601_0055 running in uber mode : false\n",
      "16/01/31 16:13:42 INFO mapreduce.Job:  map 0% reduce 0%\n",
      "16/01/31 16:13:48 INFO mapreduce.Job:  map 100% reduce 0%\n",
      "16/01/31 16:13:53 INFO mapreduce.Job:  map 100% reduce 100%\n",
      "16/01/31 16:13:54 INFO mapreduce.Job: Job job_1453815382601_0055 completed successfully\n",
      "16/01/31 16:13:54 INFO mapreduce.Job: Counters: 49\n",
      "\tFile System Counters\n",
      "\t\tFILE: Number of bytes read=5323\n",
      "\t\tFILE: Number of bytes written=364711\n",
      "\t\tFILE: Number of read operations=0\n",
      "\t\tFILE: Number of large read operations=0\n",
      "\t\tFILE: Number of write operations=0\n",
      "\t\tHDFS: Number of bytes read=6808\n",
      "\t\tHDFS: Number of bytes written=4979\n",
      "\t\tHDFS: Number of read operations=9\n",
      "\t\tHDFS: Number of large read operations=0\n",
      "\t\tHDFS: Number of write operations=2\n",
      "\tJob Counters \n",
      "\t\tLaunched map tasks=2\n",
      "\t\tLaunched reduce tasks=1\n",
      "\t\tData-local map tasks=2\n",
      "\t\tTotal time spent by all maps in occupied slots (ms)=8696\n",
      "\t\tTotal time spent by all reduces in occupied slots (ms)=2837\n",
      "\t\tTotal time spent by all map tasks (ms)=8696\n",
      "\t\tTotal time spent by all reduce tasks (ms)=2837\n",
      "\t\tTotal vcore-seconds taken by all map tasks=8696\n",
      "\t\tTotal vcore-seconds taken by all reduce tasks=2837\n",
      "\t\tTotal megabyte-seconds taken by all map tasks=8904704\n",
      "\t\tTotal megabyte-seconds taken by all reduce tasks=2905088\n",
      "\tMap-Reduce Framework\n",
      "\t\tMap input records=169\n",
      "\t\tMap output records=169\n",
      "\t\tMap output bytes=4979\n",
      "\t\tMap output materialized bytes=5329\n",
      "\t\tInput split bytes=222\n",
      "\t\tCombine input records=0\n",
      "\t\tCombine output records=0\n",
      "\t\tReduce input groups=169\n",
      "\t\tReduce shuffle bytes=5329\n",
      "\t\tReduce input records=169\n",
      "\t\tReduce output records=169\n",
      "\t\tSpilled Records=338\n",
      "\t\tShuffled Maps =2\n",
      "\t\tFailed Shuffles=0\n",
      "\t\tMerged Map outputs=2\n",
      "\t\tGC time elapsed (ms)=138\n",
      "\t\tCPU time spent (ms)=1670\n",
      "\t\tPhysical memory (bytes) snapshot=729698304\n",
      "\t\tVirtual memory (bytes) snapshot=2510540800\n",
      "\t\tTotal committed heap usage (bytes)=560988160\n",
      "\tShuffle Errors\n",
      "\t\tBAD_ID=0\n",
      "\t\tCONNECTION=0\n",
      "\t\tIO_ERROR=0\n",
      "\t\tWRONG_LENGTH=0\n",
      "\t\tWRONG_MAP=0\n",
      "\t\tWRONG_REDUCE=0\n",
      "\tFile Input Format Counters \n",
      "\t\tBytes Read=6586\n",
      "\tFile Output Format Counters \n",
      "\t\tBytes Written=4979\n",
      "16/01/31 16:13:54 INFO streaming.StreamJob: Output directory: /user/ubuntu/HW3/3.2.4/output\n"
     ]
    }
   ],
   "source": [
    "!hdfs dfs -rm /user/ubuntu/HW3/3.2.4/output/*\n",
    "!hdfs dfs -rmdir /user/ubuntu/HW3/3.2.4/output\n",
    "\n",
    "!hadoop jar /home/ubuntu/hadoop-2.7.1/share/hadoop/tools/lib/hadoop-streaming-2.7.1.jar \\\n",
    "-D stream.num.map.output.key.field=3 \\\n",
    "-D mapreduce.partition.keypartitioner.options=-k1 \\\n",
    "-D mapreduce.job.output.key.comparator.class=org.apache.hadoop.mapred.lib.KeyFieldBasedComparator \\\n",
    "-D mapreduce.partition.keycomparator.options=-k2nr \\\n",
    "-mapper /home/ubuntu/repos/261/HW3/mapper.py \\\n",
    "-reducer /home/ubuntu/repos/261/HW3/reducer.py \\\n",
    "-input /user/ubuntu/HW3/3.2/output/part-00000 \\\n",
    "-output /user/ubuntu/HW3/3.2.4/output"
   ]
  },
  {
   "cell_type": "code",
   "execution_count": 85,
   "metadata": {
    "collapsed": false
   },
   "outputs": [
    {
     "name": "stdout",
     "output_type": "stream",
     "text": [
      "payments\t3226\t0.00329021512867\r\n",
      "payment\t92\t9.38313055912e-05\r\n",
      "pay\t3821\t0.00389705889852\r\n",
      "owed\t11848\t0.0120838403114\r\n",
      "overlimit\t127\t0.000129527997936\r\n",
      "out\t1242\t0.00126672262548\r\n",
      "other\t7886\t0.00804297473796\r\n",
      "plans\t350\t0.000356966923445\r\n",
      "payoff\t1155\t0.00117799084737\r\n",
      "opening\t16205\t0.0165275685555\r\n",
      "on\t29069\t0.0296476328503\r\n",
      "rate\t3431\t0.00349929575526\r\n",
      "protection\t4139\t0.00422138884611\r\n",
      "promised\t274\t0.000279454105783\r\n",
      "processing\t243\t0.00024783703542\r\n",
      "process\t5505\t0.00561457975304\r\n",
      "problems\t9484\t0.00967278371986\r\n",
      "privacy\t240\t0.000244777318934\r\n",
      "practices\t1003\t0.00102296521204\r\n",
      "or\t22533\t0.0229815305314\r\n",
      "received\t216\t0.00022029958704\r\n",
      "loan\t119630\t0.122011294433\r\n",
      "line\t1732\t0.0017664763183\r\n",
      "lender\t2165\t0.00220809539788\r\n",
      "lease\t6337\t0.00646314112534\r\n",
      "late\t1797\t0.00183277017552\r\n",
      "issues\t538\t0.00054870915661\r\n",
      "issue\t1099\t0.00112087613962\r\n",
      "making\t3226\t0.00329021512867\r\n",
      "low\t5663\t0.00577572482134\r\n",
      "receive\t139\t0.000141766863882\r\n",
      "of\t10885\t0.0111016713191\r\n",
      "not\t12353\t0.0125988925866\r\n",
      "my\t10731\t0.0109446058728\r\n",
      "monitoring\t1453\t0.00148192268504\r\n",
      "money\t413\t0.000421220969665\r\n",
      "modification\t70487\t0.0718900786653\r\n",
      "missing\t64\t6.52739517156e-05\r\n",
      "marketing\t1193\t0.0012167472562\r\n",
      "managing\t5006\t0.00510564691076\r\n",
      "receiving\t3226\t0.00329021512867\r\n",
      "your\t3844\t0.00392051672492\r\n",
      "underwriting\t2774\t0.00282921784467\r\n",
      "unable\t8178\t0.00834078714266\r\n",
      "transfer\t597\t0.000608883580847\r\n",
      "transaction\t1485\t0.0015145596609\r\n",
      "to\t8401\t0.00856822606817\r\n",
      "threatening\t2505\t0.00255486326637\r\n",
      "theft\t3276\t0.00334121040344\r\n",
      "use\t1477\t0.00150640041694\r\n",
      "unsolicited\t640\t0.000652739517156\r\n",
      "terms\t350\t0.000356966923445\r\n",
      "taking\t3747\t0.00382158589185\r\n",
      "wrong\t169\t0.000172364028749\r\n",
      "workout\t350\t0.000356966923445\r\n",
      "withdrawals\t10555\t0.0107651025056\r\n",
      "with\t1944\t0.00198269628336\r\n",
      "when\t4095\t0.00417651300431\r\n",
      "was\t274\t0.000279454105783\r\n",
      "verification\t5214\t0.00531778725383\r\n",
      "using\t2422\t0.00247021111024\r\n",
      "the\t6248\t0.00637236953624\r\n",
      "issuance\t640\t0.000652739517156\r\n",
      "scam\t566\t0.000577266510485\r\n",
      "sale\t139\t0.000141766863882\r\n",
      "rewards\t1002\t0.00102194530655\r\n",
      "representation\t2508\t0.00255792298286\r\n",
      "reporting\t6559\t0.00668956014536\r\n",
      "report\t34903\t0.0355977615114\r\n",
      "repaying\t3844\t0.00392051672492\r\n",
      "repay\t1647\t0.00167978435118\r\n",
      "service\t1518\t0.00154821654226\r\n",
      "score\t4357\t0.00444372824414\r\n",
      "you\t3821\t0.00389705889852\r\n",
      "tactics\t6920\t0.00705774602925\r\n",
      "stop\t131\t0.000133607619918\r\n",
      "statements\t2508\t0.00255792298286\r\n",
      "statement\t1220\t0.00124428470458\r\n",
      "shopping\t672\t0.000685376493014\r\n",
      "sharing\t2832\t0.00288837236342\r\n",
      "settlement\t4350\t0.00443658890567\r\n",
      "servicing\t36767\t0.0374988653551\r\n",
      "servicer\t1944\t0.00198269628336\r\n",
      "relations\t1367\t0.00139421081243\r\n",
      "caused\t5663\t0.00577572482134\r\n",
      "cash\t240\t0.000244777318934\r\n",
      "card\t4405\t0.00449268370793\r\n",
      "cancelling\t2795\t0.00285063586008\r\n",
      "can't\t1999\t0.00203879108562\r\n",
      "by\t5663\t0.00577572482134\r\n",
      "billing\t8158\t0.00832038903275\r\n",
      "charged\t976\t0.000995427763663\r\n",
      "changes\t350\t0.000356966923445\r\n",
      "bankruptcy\t222\t0.000226419020014\r\n",
      "bank\t202\t0.000206020910102\r\n",
      "company's\t4858\t0.00495470089741\r\n",
      "communication\t6920\t0.00705774602925\r\n",
      "collection\t1907\t0.00194495978003\r\n",
      "collect\t11848\t0.0120838403114\r\n",
      "club\t12545\t0.0127947144418\r\n",
      "closing\t2795\t0.00285063586008\r\n",
      "checks\t75\t7.64929121668e-05\r\n",
      "charges\t131\t0.000133607619918\r\n",
      "being\t5663\t0.00577572482134\r\n",
      "contact\t3053\t0.00311377147793\r\n",
      "an\t2505\t0.00255486326637\r\n",
      "amt\t71\t7.24132901845e-05\r\n",
      "amount\t98\t9.99507385646e-05\r\n",
      "advertising\t1193\t0.0012167472562\r\n",
      "advance\t240\t0.000244777318934\r\n",
      "action\t2505\t0.00255486326637\r\n",
      "acct\t163\t0.000166244595776\r\n",
      "account\t20681\t0.0210926655536\r\n",
      "application\t8868\t0.0090445219346\r\n",
      "and\t16448\t0.0167754055909\r\n",
      "cont'd\t11848\t0.0120838403114\r\n",
      "balance\t597\t0.000608883580847\r\n",
      "available\t274\t0.000279454105783\r\n",
      "attempts\t11848\t0.0120838403114\r\n",
      "atm\t2422\t0.00247021111024\r\n",
      "are\t3821\t0.00389705889852\r\n",
      "arbitration\t168\t0.000171344123254\r\n",
      "apr\t3431\t0.00349929575526\r\n",
      "apply\t118\t0.000120348848476\r\n",
      "applied\t139\t0.000141766863882\r\n",
      "convenience\t75\t7.64929121668e-05\r\n",
      "investigation\t4858\t0.00495470089741\r\n",
      "get\t4357\t0.00444372824414\r\n",
      "funds\t5663\t0.00577572482134\r\n",
      "fraud\t3842\t0.00391847691393\r\n",
      "forbearance\t350\t0.000356966923445\r\n",
      "for\t929\t0.000947492205372\r\n",
      "fees\t807\t0.000823063734914\r\n",
      "fee\t3198\t0.00326165777479\r\n",
      "health\t12545\t0.0127947144418\r\n",
      "getting\t291\t0.000296792499207\r\n",
      "expect\t807\t0.000823063734914\r\n",
      "embezzlement\t3276\t0.00334121040344\r\n",
      "information\t29069\t0.0296476328503\r\n",
      "info\t2896\t0.00295364631513\r\n",
      "increase\t1149\t0.00117187141439\r\n",
      "incorrect\t29133\t0.0297129068021\r\n",
      "improper\t4309\t0.00439477278035\r\n",
      "illegal\t2505\t0.00255486326637\r\n",
      "identity\t4729\t0.00482313308849\r\n",
      "i\t925\t0.00094341258339\r\n",
      "false\t2508\t0.00255792298286\r\n",
      "a\t3503\t0.00357272895094\r\n",
      "decision\t2774\t0.00282921784467\r\n",
      "debt\t19309\t0.0196933552137\r\n",
      "debit\t2422\t0.00247021111024\r\n",
      "dealing\t1944\t0.00198269628336\r\n",
      "day\t71\t7.24132901845e-05\r\n",
      "customer\t2734\t0.00278842162485\r\n",
      "credited\t92\t9.38313055912e-05\r\n",
      "credit\t55251\t0.056350798535\r\n",
      "delay\t243\t0.00024783703542\r\n",
      "decrease\t1149\t0.00117187141439\r\n",
      "interest\t4238\t0.00432235949017\r\n",
      "disputes\t6938\t0.00707610432817\r\n",
      "dispute\t904\t0.000921994567983\r\n",
      "disclosures\t64\t6.52739517156e-05\r\n",
      "disclosure\t5214\t0.00531778725383\r\n",
      "didn't\t925\t0.00094341258339\r\n",
      "did\t139\t0.000141766863882\r\n",
      "determination\t1490\t0.00151965918838\r\n",
      "deposits\t10555\t0.0107651025056\r\n",
      "delinquent\t1061\t0.00108211973079\r\n",
      "costs\t4350\t0.00443658890567\r\n"
     ]
    }
   ],
   "source": [
    "!hdfs dfs -cat /user/ubuntu/HW3/3.2.4/output/part-00000"
   ]
  },
  {
   "cell_type": "markdown",
   "metadata": {},
   "source": [
    "## HW 3.3\n",
    "Using a single reducer: Report your findings such as number of unique products; largest basket; report the top 50 most frequently purchased items,  their frequency,  and their relative frequency (break ties by sorting the products alphabetical order) etc. using Hadoop Map-Reduce."
   ]
  },
  {
   "cell_type": "code",
   "execution_count": 86,
   "metadata": {
    "collapsed": true
   },
   "outputs": [],
   "source": [
    "!hdfs dfs -mkdir /user/ubuntu/HW3/3.3"
   ]
  },
  {
   "cell_type": "code",
   "execution_count": 87,
   "metadata": {
    "collapsed": true
   },
   "outputs": [],
   "source": [
    "!hdfs dfs -put ./ProductPurchaseData.txt /user/ubuntu/HW3/3.3/"
   ]
  },
  {
   "cell_type": "markdown",
   "metadata": {},
   "source": [
    "### Calculate number of unique products"
   ]
  },
  {
   "cell_type": "code",
   "execution_count": 98,
   "metadata": {
    "collapsed": false
   },
   "outputs": [
    {
     "name": "stdout",
     "output_type": "stream",
     "text": [
      "Overwriting mapper.py\n"
     ]
    }
   ],
   "source": [
    "%%writefile mapper.py\n",
    "#!/usr/bin/python\n",
    "\n",
    "import sys, re\n",
    "\n",
    "products = set()\n",
    "\n",
    "for line in sys.stdin:\n",
    "    for product in [x.strip() for x in re.split(\" \", line)]:\n",
    "        if product not in products:\n",
    "            products.add(product)\n",
    "            #send only one k,v from a mapper.  The reducer is guaranteed to get\n",
    "            #all the products with the same key so even if there are multiple mappers\n",
    "            #the reducers will be able to deduplicate the keys they get\n",
    "            print(product + \"\\t1\")"
   ]
  },
  {
   "cell_type": "code",
   "execution_count": 94,
   "metadata": {
    "collapsed": false
   },
   "outputs": [],
   "source": [
    "!head ProductPurchaseData.txt -n50 >> ProductPurchaseDataMini.txt"
   ]
  },
  {
   "cell_type": "code",
   "execution_count": 99,
   "metadata": {
    "collapsed": false
   },
   "outputs": [
    {
     "name": "stdout",
     "output_type": "stream",
     "text": [
      "FRO11987\t1\r\n",
      "ELE17451\t1\r\n",
      "ELE89019\t1\r\n",
      "SNA90258\t1\r\n",
      "GRO99222\t1\r\n",
      "\t1\r\n",
      "GRO12298\t1\r\n",
      "FRO12685\t1\r\n",
      "ELE91550\t1\r\n",
      "SNA11465\t1\r\n",
      "ELE26917\t1\r\n",
      "ELE52966\t1\r\n",
      "FRO90334\t1\r\n",
      "SNA30755\t1\r\n",
      "FRO84225\t1\r\n",
      "SNA80192\t1\r\n",
      "GRO73461\t1\r\n",
      "DAI22896\t1\r\n",
      "SNA99873\t1\r\n",
      "FRO86643\t1\r\n",
      "ELE37798\t1\r\n",
      "GRO56989\t1\r\n",
      "ELE23393\t1\r\n",
      "SNA69641\t1\r\n",
      "FRO78087\t1\r\n",
      "GRO39357\t1\r\n",
      "ELE28573\t1\r\n",
      "ELE11375\t1\r\n",
      "DAI54444\t1\r\n",
      "FRO18919\t1\r\n",
      "DAI50921\t1\r\n",
      "GRO75578\t1\r\n",
      "ELE59935\t1\r\n",
      "SNA85662\t1\r\n",
      "SNA91554\t1\r\n",
      "DAI22177\t1\r\n",
      "DAI14125\t1\r\n",
      "DAI46755\t1\r\n",
      "FRO81176\t1\r\n",
      "ELE66810\t1\r\n",
      "DAI49199\t1\r\n",
      "DAI91535\t1\r\n",
      "GRO94758\t1\r\n",
      "ELE94711\t1\r\n",
      "FRO76833\t1\r\n",
      "DAI54690\t1\r\n",
      "SNA47306\t1\r\n",
      "GRO36567\t1\r\n",
      "ELE82555\t1\r\n",
      "SNA17715\t1\r\n",
      "SNA94781\t1\r\n",
      "DAI87514\t1\r\n",
      "GRO48282\t1\r\n",
      "GRO12935\t1\r\n",
      "SNA55952\t1\r\n",
      "DAI93692\t1\r\n",
      "DAI92253\t1\r\n",
      "FRO82427\t1\r\n",
      "DAI48891\t1\r\n",
      "ELE27376\t1\r\n",
      "FRO47475\t1\r\n",
      "DAI17810\t1\r\n",
      "FRO17376\t1\r\n",
      "DAI38969\t1\r\n",
      "DAI50913\t1\r\n",
      "ELE11111\t1\r\n",
      "SNA66979\t1\r\n",
      "FRO92261\t1\r\n",
      "FRO76487\t1\r\n",
      "GRO39369\t1\r\n",
      "GRO22575\t1\r\n",
      "GRO48971\t1\r\n",
      "FRO32293\t1\r\n",
      "FRO98729\t1\r\n",
      "DAI95741\t1\r\n",
      "DAI44355\t1\r\n",
      "FRO75418\t1\r\n",
      "FRO70974\t1\r\n",
      "GRO49037\t1\r\n",
      "GRO30386\t1\r\n",
      "FRO41069\t1\r\n",
      "ELE96863\t1\r\n",
      "FRO16142\t1\r\n",
      "ELE52446\t1\r\n",
      "DAI88808\t1\r\n",
      "FRO36081\t1\r\n",
      "DAI35347\t1\r\n",
      "SNA63157\t1\r\n",
      "ELE73246\t1\r\n",
      "ELE66067\t1\r\n",
      "DAI22534\t1\r\n",
      "SNA93860\t1\r\n",
      "SNA84406\t1\r\n",
      "SNA26720\t1\r\n",
      "ELE98347\t1\r\n",
      "ELE76964\t1\r\n",
      "FRO19520\t1\r\n",
      "FRO13639\t1\r\n",
      "FRO24098\t1\r\n",
      "FRO98878\t1\r\n",
      "DAI38156\t1\r\n",
      "SNA72163\t1\r\n",
      "DAI55911\t1\r\n",
      "FRO31317\t1\r\n",
      "SNA59903\t1\r\n",
      "DAI59119\t1\r\n",
      "FRO87042\t1\r\n",
      "GRO48498\t1\r\n",
      "DAI18334\t1\r\n",
      "FRO38366\t1\r\n",
      "SNA70487\t1\r\n",
      "ELE20196\t1\r\n",
      "FRO60023\t1\r\n",
      "GRO94047\t1\r\n",
      "SNA40380\t1\r\n",
      "GRO91763\t1\r\n",
      "GRO15017\t1\r\n",
      "FRO98184\t1\r\n",
      "GRO59710\t1\r\n",
      "SNA44593\t1\r\n",
      "ELE30182\t1\r\n",
      "ELE18435\t1\r\n",
      "SNA45033\t1\r\n",
      "DAI63921\t1\r\n",
      "DAI95860\t1\r\n",
      "FRO70489\t1\r\n",
      "SNA18336\t1\r\n",
      "GRO39070\t1\r\n",
      "FRO74481\t1\r\n",
      "ELE69204\t1\r\n",
      "ELE66600\t1\r\n",
      "FRO62970\t1\r\n",
      "SNA54161\t1\r\n",
      "SNA83730\t1\r\n",
      "FRO79301\t1\r\n",
      "SNA85034\t1\r\n",
      "DAI91290\t1\r\n",
      "ELE14480\t1\r\n",
      "GRO82070\t1\r\n",
      "DAI62779\t1\r\n",
      "SNA86836\t1\r\n",
      "GRO34288\t1\r\n",
      "SNA55762\t1\r\n",
      "SNA80064\t1\r\n",
      "GRO68850\t1\r\n",
      "GRO32230\t1\r\n",
      "DAI32480\t1\r\n",
      "SNA14713\t1\r\n",
      "ELE91337\t1\r\n",
      "DAI69239\t1\r\n",
      "GRO27756\t1\r\n",
      "SNA93641\t1\r\n",
      "DAI47060\t1\r\n",
      "FRO61250\t1\r\n",
      "DAI49253\t1\r\n",
      "SNA62203\t1\r\n",
      "ELE41924\t1\r\n",
      "GRO17442\t1\r\n",
      "SNA43319\t1\r\n",
      "FRO44363\t1\r\n",
      "SNA58915\t1\r\n",
      "DAI48919\t1\r\n",
      "FRO35353\t1\r\n",
      "GRO38983\t1\r\n",
      "ELE68605\t1\r\n",
      "SNA45677\t1\r\n",
      "FRO71213\t1\r\n",
      "SNA81153\t1\r\n",
      "SNA93730\t1\r\n",
      "DAI36452\t1\r\n",
      "SNA89670\t1\r\n",
      "FRO78994\t1\r\n",
      "ELE20166\t1\r\n",
      "DAI84001\t1\r\n",
      "SNA30579\t1\r\n",
      "ELE11468\t1\r\n",
      "DAI52318\t1\r\n",
      "SNA77101\t1\r\n",
      "ELE12792\t1\r\n",
      "SNA46341\t1\r\n",
      "GRO55423\t1\r\n",
      "FRO88526\t1\r\n",
      "ELE20347\t1\r\n",
      "ELE28189\t1\r\n",
      "ELE11474\t1\r\n",
      "DAI58079\t1\r\n",
      "ELE63685\t1\r\n",
      "GRO86568\t1\r\n",
      "DAI37607\t1\r\n",
      "FRO40066\t1\r\n",
      "GRO92942\t1\r\n",
      "ELE22574\t1\r\n",
      "GRO71615\t1\r\n",
      "SNA56035\t1\r\n",
      "DAI33885\t1\r\n",
      "ELE13292\t1\r\n",
      "ELE86561\t1\r\n",
      "FRO87225\t1\r\n",
      "SNA40408\t1\r\n",
      "ELE21353\t1\r\n",
      "FRO40251\t1\r\n",
      "GRO38636\t1\r\n",
      "ELE79816\t1\r\n",
      "FRO43226\t1\r\n",
      "GRO85051\t1\r\n",
      "GRO93077\t1\r\n",
      "DAI59508\t1\r\n",
      "FRO99756\t1\r\n",
      "GRO84328\t1\r\n",
      "ELE20398\t1\r\n",
      "SNA62579\t1\r\n",
      "FRO37380\t1\r\n",
      "DAI25796\t1\r\n",
      "GRO81874\t1\r\n",
      "DAI73122\t1\r\n",
      "GRO69543\t1\r\n",
      "ELE49863\t1\r\n",
      "FRO53137\t1\r\n",
      "ELE64231\t1\r\n"
     ]
    }
   ],
   "source": [
    "!cat ProductPurchaseDataMini.txt | python mapper.py"
   ]
  },
  {
   "cell_type": "code",
   "execution_count": 100,
   "metadata": {
    "collapsed": false
   },
   "outputs": [
    {
     "name": "stdout",
     "output_type": "stream",
     "text": [
      "Overwriting reducer.py\n"
     ]
    }
   ],
   "source": [
    "%%writefile reducer.py\n",
    "#!/usr/bin/python\n",
    "\n",
    "import sys, re\n",
    "\n",
    "\n",
    "#Start counting at one.  This will produce an inaccurate reading of 1 product if there\n",
    "#are actually 0, but I don't think we need to worry about that case\n",
    "product_count = 1\n",
    "\n",
    "current_product = None\n",
    "\n",
    "for line in sys.stdin:\n",
    "    splits = re.split(\"\\t\", line)\n",
    "    if current_product is None:\n",
    "        current_product = splits[0]\n",
    "    if splits[0] != current_product:\n",
    "        product_count += 1\n",
    "        \n",
    "print(str(product_count))"
   ]
  },
  {
   "cell_type": "code",
   "execution_count": 101,
   "metadata": {
    "collapsed": false
   },
   "outputs": [
    {
     "name": "stdout",
     "output_type": "stream",
     "text": [
      "219\r\n"
     ]
    }
   ],
   "source": [
    "!cat ProductPurchaseDataMini.txt | python mapper.py | sort | python reducer.py"
   ]
  },
  {
   "cell_type": "code",
   "execution_count": 102,
   "metadata": {
    "collapsed": false,
    "scrolled": true
   },
   "outputs": [
    {
     "name": "stdout",
     "output_type": "stream",
     "text": [
      "rm: `/user/ubuntu/HW3/3.3/output/*': No such file or directory\n",
      "packageJobJar: [/tmp/hadoop-unjar1043300641705263494/] [] /tmp/streamjob6934915716189978039.jar tmpDir=null\n",
      "16/01/31 18:22:20 INFO client.RMProxy: Connecting to ResourceManager at /0.0.0.0:8032\n",
      "16/01/31 18:22:20 INFO client.RMProxy: Connecting to ResourceManager at /0.0.0.0:8032\n",
      "16/01/31 18:22:20 INFO mapred.FileInputFormat: Total input paths to process : 1\n",
      "16/01/31 18:22:20 INFO mapreduce.JobSubmitter: number of splits:2\n",
      "16/01/31 18:22:21 INFO mapreduce.JobSubmitter: Submitting tokens for job: job_1453815382601_0057\n",
      "16/01/31 18:22:21 INFO impl.YarnClientImpl: Submitted application application_1453815382601_0057\n",
      "16/01/31 18:22:21 INFO mapreduce.Job: The url to track the job: http://ip-172-31-54-132:8088/proxy/application_1453815382601_0057/\n",
      "16/01/31 18:22:21 INFO mapreduce.Job: Running job: job_1453815382601_0057\n",
      "16/01/31 18:22:26 INFO mapreduce.Job: Job job_1453815382601_0057 running in uber mode : false\n",
      "16/01/31 18:22:26 INFO mapreduce.Job:  map 0% reduce 0%\n",
      "16/01/31 18:22:33 INFO mapreduce.Job:  map 100% reduce 0%\n",
      "16/01/31 18:22:38 INFO mapreduce.Job:  map 100% reduce 100%\n",
      "16/01/31 18:22:38 INFO mapreduce.Job: Job job_1453815382601_0057 completed successfully\n",
      "16/01/31 18:22:38 INFO mapreduce.Job: Counters: 49\n",
      "\tFile System Counters\n",
      "\t\tFILE: Number of bytes read=230701\n",
      "\t\tFILE: Number of bytes written=813523\n",
      "\t\tFILE: Number of read operations=0\n",
      "\t\tFILE: Number of large read operations=0\n",
      "\t\tFILE: Number of write operations=0\n",
      "\t\tHDFS: Number of bytes read=3462101\n",
      "\t\tHDFS: Number of bytes written=7\n",
      "\t\tHDFS: Number of read operations=9\n",
      "\t\tHDFS: Number of large read operations=0\n",
      "\t\tHDFS: Number of write operations=2\n",
      "\tJob Counters \n",
      "\t\tLaunched map tasks=2\n",
      "\t\tLaunched reduce tasks=1\n",
      "\t\tData-local map tasks=2\n",
      "\t\tTotal time spent by all maps in occupied slots (ms)=9654\n",
      "\t\tTotal time spent by all reduces in occupied slots (ms)=2995\n",
      "\t\tTotal time spent by all map tasks (ms)=9654\n",
      "\t\tTotal time spent by all reduce tasks (ms)=2995\n",
      "\t\tTotal vcore-seconds taken by all map tasks=9654\n",
      "\t\tTotal vcore-seconds taken by all reduce tasks=2995\n",
      "\t\tTotal megabyte-seconds taken by all map tasks=9885696\n",
      "\t\tTotal megabyte-seconds taken by all reduce tasks=3066880\n",
      "\tMap-Reduce Framework\n",
      "\t\tMap input records=31101\n",
      "\t\tMap output records=17747\n",
      "\t\tMap output bytes=195201\n",
      "\t\tMap output materialized bytes=230707\n",
      "\t\tInput split bytes=234\n",
      "\t\tCombine input records=0\n",
      "\t\tCombine output records=0\n",
      "\t\tReduce input groups=12593\n",
      "\t\tReduce shuffle bytes=230707\n",
      "\t\tReduce input records=17747\n",
      "\t\tReduce output records=1\n",
      "\t\tSpilled Records=35494\n",
      "\t\tShuffled Maps =2\n",
      "\t\tFailed Shuffles=0\n",
      "\t\tMerged Map outputs=2\n",
      "\t\tGC time elapsed (ms)=130\n",
      "\t\tCPU time spent (ms)=2950\n",
      "\t\tPhysical memory (bytes) snapshot=714473472\n",
      "\t\tVirtual memory (bytes) snapshot=2489638912\n",
      "\t\tTotal committed heap usage (bytes)=560988160\n",
      "\tShuffle Errors\n",
      "\t\tBAD_ID=0\n",
      "\t\tCONNECTION=0\n",
      "\t\tIO_ERROR=0\n",
      "\t\tWRONG_LENGTH=0\n",
      "\t\tWRONG_MAP=0\n",
      "\t\tWRONG_REDUCE=0\n",
      "\tFile Input Format Counters \n",
      "\t\tBytes Read=3461867\n",
      "\tFile Output Format Counters \n",
      "\t\tBytes Written=7\n",
      "16/01/31 18:22:38 INFO streaming.StreamJob: Output directory: /user/ubuntu/HW3/3.3/output\n"
     ]
    }
   ],
   "source": [
    "!hdfs dfs -rm /user/ubuntu/HW3/3.3/output/*\n",
    "!hdfs dfs -rmdir /user/ubuntu/HW3/3.3/output\n",
    "\n",
    "!hadoop jar /home/ubuntu/hadoop-2.7.1/share/hadoop/tools/lib/hadoop-streaming-2.7.1.jar \\\n",
    "-mapper /home/ubuntu/repos/261/HW3/mapper.py \\\n",
    "-reducer /home/ubuntu/repos/261/HW3/reducer.py \\\n",
    "-input /user/ubuntu/HW3/3.3/ProductPurchaseData.txt \\\n",
    "-output /user/ubuntu/HW3/3.3/output"
   ]
  },
  {
   "cell_type": "code",
   "execution_count": 104,
   "metadata": {
    "collapsed": false
   },
   "outputs": [
    {
     "name": "stdout",
     "output_type": "stream",
     "text": [
      "17746\t\r\n"
     ]
    }
   ],
   "source": [
    "!hdfs dfs -cat /user/ubuntu/HW3/3.3/output/part-00000"
   ]
  },
  {
   "cell_type": "markdown",
   "metadata": {},
   "source": [
    "### Find the largest basket"
   ]
  },
  {
   "cell_type": "code",
   "execution_count": 105,
   "metadata": {
    "collapsed": false
   },
   "outputs": [
    {
     "name": "stdout",
     "output_type": "stream",
     "text": [
      "Overwriting mapper.py\n"
     ]
    }
   ],
   "source": [
    "%%writefile mapper.py\n",
    "#!/usr/bin/python\n",
    "\n",
    "import sys, re\n",
    "\n",
    "#a simple in-memory combiner\n",
    "largest_basket_so_far = 0\n",
    "\n",
    "for line in sys.stdin:\n",
    "    if len(re.split(\" \", line)) > largest_basket_so_far:\n",
    "        largest_basket_so_far = len(re.split(\" \", line))\n",
    "print(str(largest_basket_so_far))"
   ]
  },
  {
   "cell_type": "code",
   "execution_count": 106,
   "metadata": {
    "collapsed": false,
    "scrolled": true
   },
   "outputs": [
    {
     "name": "stdout",
     "output_type": "stream",
     "text": [
      "6\r\n",
      "13\r\n",
      "6\r\n",
      "7\r\n",
      "10\r\n",
      "9\r\n",
      "9\r\n",
      "9\r\n",
      "15\r\n",
      "12\r\n",
      "19\r\n",
      "17\r\n",
      "5\r\n",
      "15\r\n",
      "10\r\n",
      "14\r\n",
      "9\r\n",
      "11\r\n",
      "5\r\n",
      "20\r\n",
      "19\r\n",
      "12\r\n",
      "5\r\n",
      "16\r\n",
      "14\r\n",
      "24\r\n",
      "9\r\n",
      "20\r\n",
      "17\r\n",
      "17\r\n",
      "14\r\n",
      "6\r\n",
      "10\r\n",
      "12\r\n",
      "10\r\n",
      "18\r\n",
      "9\r\n",
      "14\r\n",
      "13\r\n",
      "19\r\n",
      "12\r\n",
      "11\r\n",
      "8\r\n",
      "10\r\n",
      "11\r\n",
      "10\r\n",
      "13\r\n",
      "13\r\n",
      "11\r\n",
      "23\r\n"
     ]
    }
   ],
   "source": [
    "!cat ProductPurchaseDataMini.txt | python mapper.py"
   ]
  },
  {
   "cell_type": "code",
   "execution_count": 113,
   "metadata": {
    "collapsed": false
   },
   "outputs": [
    {
     "name": "stdout",
     "output_type": "stream",
     "text": [
      "Overwriting reducer.py\n"
     ]
    }
   ],
   "source": [
    "%%writefile reducer.py\n",
    "#!/usr/bin/python\n",
    "\n",
    "import sys, re\n",
    "\n",
    "for line in sys.stdin:\n",
    "    print(line.strip())\n",
    "    break"
   ]
  },
  {
   "cell_type": "code",
   "execution_count": 114,
   "metadata": {
    "collapsed": false,
    "scrolled": true
   },
   "outputs": [
    {
     "name": "stdout",
     "output_type": "stream",
     "text": [
      "24\r\n"
     ]
    }
   ],
   "source": [
    "!cat ProductPurchaseDataMini.txt | python mapper.py | sort -k1nr | python reducer.py"
   ]
  },
  {
   "cell_type": "code",
   "execution_count": 117,
   "metadata": {
    "collapsed": false
   },
   "outputs": [
    {
     "name": "stdout",
     "output_type": "stream",
     "text": [
      "rm: `/user/ubuntu/HW3/3.3/output/*': No such file or directory\n",
      "packageJobJar: [/tmp/hadoop-unjar7891215267387553793/] [] /tmp/streamjob2479595477839468457.jar tmpDir=null\n",
      "16/01/31 18:48:19 INFO client.RMProxy: Connecting to ResourceManager at /0.0.0.0:8032\n",
      "16/01/31 18:48:19 INFO client.RMProxy: Connecting to ResourceManager at /0.0.0.0:8032\n",
      "16/01/31 18:48:19 INFO mapred.FileInputFormat: Total input paths to process : 1\n",
      "16/01/31 18:48:19 INFO mapreduce.JobSubmitter: number of splits:2\n",
      "16/01/31 18:48:19 INFO mapreduce.JobSubmitter: Submitting tokens for job: job_1453815382601_0059\n",
      "16/01/31 18:48:20 INFO impl.YarnClientImpl: Submitted application application_1453815382601_0059\n",
      "16/01/31 18:48:20 INFO mapreduce.Job: The url to track the job: http://ip-172-31-54-132:8088/proxy/application_1453815382601_0059/\n",
      "16/01/31 18:48:20 INFO mapreduce.Job: Running job: job_1453815382601_0059\n",
      "16/01/31 18:48:25 INFO mapreduce.Job: Job job_1453815382601_0059 running in uber mode : false\n",
      "16/01/31 18:48:25 INFO mapreduce.Job:  map 0% reduce 0%\n",
      "16/01/31 18:48:32 INFO mapreduce.Job:  map 100% reduce 0%\n",
      "16/01/31 18:48:38 INFO mapreduce.Job:  map 100% reduce 100%\n",
      "16/01/31 18:48:38 INFO mapreduce.Job: Job job_1453815382601_0059 completed successfully\n",
      "16/01/31 18:48:38 INFO mapreduce.Job: Counters: 49\n",
      "\tFile System Counters\n",
      "\t\tFILE: Number of bytes read=178626\n",
      "\t\tFILE: Number of bytes written=710450\n",
      "\t\tFILE: Number of read operations=0\n",
      "\t\tFILE: Number of large read operations=0\n",
      "\t\tFILE: Number of write operations=0\n",
      "\t\tHDFS: Number of bytes read=3462101\n",
      "\t\tHDFS: Number of bytes written=4\n",
      "\t\tHDFS: Number of read operations=9\n",
      "\t\tHDFS: Number of large read operations=0\n",
      "\t\tHDFS: Number of write operations=2\n",
      "\tJob Counters \n",
      "\t\tLaunched map tasks=2\n",
      "\t\tLaunched reduce tasks=1\n",
      "\t\tData-local map tasks=2\n",
      "\t\tTotal time spent by all maps in occupied slots (ms)=9965\n",
      "\t\tTotal time spent by all reduces in occupied slots (ms)=3124\n",
      "\t\tTotal time spent by all map tasks (ms)=9965\n",
      "\t\tTotal time spent by all reduce tasks (ms)=3124\n",
      "\t\tTotal vcore-seconds taken by all map tasks=9965\n",
      "\t\tTotal vcore-seconds taken by all reduce tasks=3124\n",
      "\t\tTotal megabyte-seconds taken by all map tasks=10204160\n",
      "\t\tTotal megabyte-seconds taken by all reduce tasks=3198976\n",
      "\tMap-Reduce Framework\n",
      "\t\tMap input records=31101\n",
      "\t\tMap output records=31101\n",
      "\t\tMap output bytes=116418\n",
      "\t\tMap output materialized bytes=178632\n",
      "\t\tInput split bytes=234\n",
      "\t\tCombine input records=0\n",
      "\t\tCombine output records=0\n",
      "\t\tReduce input groups=36\n",
      "\t\tReduce shuffle bytes=178632\n",
      "\t\tReduce input records=31101\n",
      "\t\tReduce output records=1\n",
      "\t\tSpilled Records=62202\n",
      "\t\tShuffled Maps =2\n",
      "\t\tFailed Shuffles=0\n",
      "\t\tMerged Map outputs=2\n",
      "\t\tGC time elapsed (ms)=135\n",
      "\t\tCPU time spent (ms)=3670\n",
      "\t\tPhysical memory (bytes) snapshot=701878272\n",
      "\t\tVirtual memory (bytes) snapshot=2491318272\n",
      "\t\tTotal committed heap usage (bytes)=556269568\n",
      "\tShuffle Errors\n",
      "\t\tBAD_ID=0\n",
      "\t\tCONNECTION=0\n",
      "\t\tIO_ERROR=0\n",
      "\t\tWRONG_LENGTH=0\n",
      "\t\tWRONG_MAP=0\n",
      "\t\tWRONG_REDUCE=0\n",
      "\tFile Input Format Counters \n",
      "\t\tBytes Read=3461867\n",
      "\tFile Output Format Counters \n",
      "\t\tBytes Written=4\n",
      "16/01/31 18:48:38 INFO streaming.StreamJob: Output directory: /user/ubuntu/HW3/3.3/output\n"
     ]
    }
   ],
   "source": [
    "!hdfs dfs -rm /user/ubuntu/HW3/3.3/output/*\n",
    "!hdfs dfs -rmdir /user/ubuntu/HW3/3.3/output\n",
    "\n",
    "!hadoop jar /home/ubuntu/hadoop-2.7.1/share/hadoop/tools/lib/hadoop-streaming-2.7.1.jar \\\n",
    "-D mapreduce.job.output.key.comparator.class=org.apache.hadoop.mapred.lib.KeyFieldBasedComparator \\\n",
    "-D mapreduce.partition.keycomparator.options=-k1nr \\\n",
    "-mapper /home/ubuntu/repos/261/HW3/mapper.py \\\n",
    "-reducer /home/ubuntu/repos/261/HW3/reducer.py \\\n",
    "-input /user/ubuntu/HW3/3.3/ProductPurchaseData.txt \\\n",
    "-output /user/ubuntu/HW3/3.3/output"
   ]
  },
  {
   "cell_type": "code",
   "execution_count": 118,
   "metadata": {
    "collapsed": false
   },
   "outputs": [
    {
     "name": "stdout",
     "output_type": "stream",
     "text": [
      "38\t\r\n"
     ]
    }
   ],
   "source": [
    "!hdfs dfs -cat /user/ubuntu/HW3/3.3/output/part-00000"
   ]
  },
  {
   "cell_type": "markdown",
   "metadata": {},
   "source": [
    "### Top 50 most frequently purchased items\n",
    "Their frequency,  and their relative frequency (break ties by sorting the products alphabetical order)"
   ]
  },
  {
   "cell_type": "code",
   "execution_count": null,
   "metadata": {
    "collapsed": true
   },
   "outputs": [],
   "source": [
    "%%writefile mapper.py\n",
    "#!/bin/usr/python\n",
    "\n",
    "import sys, re\n",
    "\n",
    "for line in sys.stdin:\n",
    "    "
   ]
  }
 ],
 "metadata": {
  "kernelspec": {
   "display_name": "Python 3",
   "language": "python",
   "name": "python3"
  },
  "language_info": {
   "codemirror_mode": {
    "name": "ipython",
    "version": 3
   },
   "file_extension": ".py",
   "mimetype": "text/x-python",
   "name": "python",
   "nbconvert_exporter": "python",
   "pygments_lexer": "ipython3",
   "version": "3.5.1"
  }
 },
 "nbformat": 4,
 "nbformat_minor": 0
}
