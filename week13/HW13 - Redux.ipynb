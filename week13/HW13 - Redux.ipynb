{
 "cells": [
  {
   "cell_type": "code",
   "execution_count": 1,
   "metadata": {
    "collapsed": false
   },
   "outputs": [
    {
     "data": {
      "text/plain": [
       "<pyspark.context.SparkContext at 0x7f7ea5999250>"
      ]
     },
     "execution_count": 1,
     "metadata": {},
     "output_type": "execute_result"
    }
   ],
   "source": [
    "sc"
   ]
  },
  {
   "cell_type": "code",
   "execution_count": 2,
   "metadata": {
    "collapsed": true
   },
   "outputs": [],
   "source": [
    "import time"
   ]
  },
  {
   "cell_type": "code",
   "execution_count": 3,
   "metadata": {
    "collapsed": false
   },
   "outputs": [
    {
     "name": "stdout",
     "output_type": "stream",
     "text": [
      "5781290\n",
      "Time taken: 24.968583107\n"
     ]
    }
   ],
   "source": [
    "start_time = time.time()\n",
    "print sc.textFile(\"/data/all-pages-indexed-out.txt\").map(lambda x: 1).reduce(lambda x, y: x + y)\n",
    "print \"Time taken: \" + str(time.time() - start_time)"
   ]
  },
  {
   "cell_type": "code",
   "execution_count": 4,
   "metadata": {
    "collapsed": false
   },
   "outputs": [
    {
     "name": "stdout",
     "output_type": "stream",
     "text": [
      "5781290\n",
      "Time taken: 9.1845138073\n"
     ]
    }
   ],
   "source": [
    "start_time = time.time()\n",
    "print sc.textFile(\"/data/all-pages-indexed-out.txt\").map(lambda x: 1).reduce(lambda x, y: x + y)\n",
    "print \"Time taken: \" + str(time.time() - start_time)"
   ]
  },
  {
   "cell_type": "code",
   "execution_count": 4,
   "metadata": {
    "collapsed": true
   },
   "outputs": [],
   "source": [
    "# mapCount is for counting the true number of nodes\n",
    "# necessary since nodes with no outgoing links are not listed on their own line\n",
    "\n",
    "def mapCount(entry):\n",
    "    yield (str(entry[0]), 1)\n",
    "    for key, value in entry[1].items():\n",
    "        yield (key, 1)\n",
    "        \n",
    "# processLine turns the string into python objects,\n",
    "# specifically the label and a dictionary of edges.\n",
    "# this assumes zero formatting errors\n",
    "def processLine(line):\n",
    "    splits = line.strip().split('\\t')\n",
    "    return [splits[0], eval(splits[1])]\n",
    "\n",
    "# prep_map generates a line for each possible node, including nodes that exist\n",
    "# only in the edge dictionary of another node\n",
    "def prep_map(entry):\n",
    "    nodeID = entry[0]\n",
    "    edges = entry[1]\n",
    "    for edge, weight in edges.items():\n",
    "        yield (str(edge.strip()), {})\n",
    "    yield (str(nodeID), edges)\n",
    "    \n",
    "# prep_reduce combines the dictionaries of the records created in the map phase\n",
    "def prep_reduce(x, y):\n",
    "    edges = {}\n",
    "    for key, value in x.items():\n",
    "        edges[key] = value\n",
    "    for key, value in y.items():\n",
    "        edges[key] = value\n",
    "    return edges\n",
    "\n",
    "# init_entry distributes the initial probability mass\n",
    "# it also adds a value into the record of 0.0 which will eventually represent\n",
    "# the amount of change in that node's probability mass\n",
    "# which we'll use to check for convergence\n",
    "# it is reliant on the accum_total_pr accumulator for its closure\n",
    "\n",
    "accum_total_pr = sc.accumulator(0.0)\n",
    "\n",
    "def init_entry(entry):\n",
    "    accum_total_pr.add(1.0 / broadcast_nodecount.value)\n",
    "    return (entry[0], [entry[1], 1.0 / broadcast_nodecount.value, 0.0]) #the 0.0 is the delta pr \n",
    "\n",
    "\n",
    "# Phase one consists of a map and reducebykey phase.\n",
    "# phaseOneMapper stores the pr mass of the node as it is as the beginning of the step\n",
    "# if there are no outgoing edges, it passes all the pr mass of that node to the dangling_mass accumulator\n",
    "# which is defined here for the closure.\n",
    "# if there are edges, it divides the pr mass evenly among them and emits the target node with \n",
    "# an empty edge list and a zero previous pr mass.  This is done so that when records are combined\n",
    "# in the reduce step, there will be exactly one record with a full edge list and an accurate\n",
    "# previous pr mass, so we can cummutatively and associatively add the records together\n",
    "# and arrive at a single accurate record\n",
    "\n",
    "accum_dangling_mass = sc.accumulator(0.0)\n",
    "\n",
    "\n",
    "def phaseOneMapper(entry):\n",
    "    label = entry[0]\n",
    "    edges = entry[1][0]\n",
    "    pr = entry[1][1]\n",
    "    previous = pr\n",
    "\n",
    "    if len(edges) == 0:\n",
    "        accum_dangling_mass.add(pr)\n",
    "    else:\n",
    "        forwarding_pr = pr / len(edges)\n",
    "        for edge, weight in edges.items():\n",
    "            yield (edge, [{}, forwarding_pr, 0.0])\n",
    "    yield (label, [edges, 0.0, pr])\n",
    "\n",
    "def phaseOneReducer(x, y):\n",
    "    edges = {}\n",
    "    for edge, weight in x[0].items():\n",
    "        edges[edge] = weight\n",
    "    for edge, weight in y[0].items():\n",
    "        edges[edge] = weight\n",
    "    return [edges, x[1] + y[1], x[2] + y[2]]\n",
    "\n",
    "# the finalize state distributes the dangling pr mass by knowing from the broadcast variables how many\n",
    "# nodes there are and by being passed the dangling mass from a variable defined with the accumulator\n",
    "# in the driver program logic.  It also calculates the final pr mass of the node by the pagerank equation\n",
    "# additionally, it records the absolute value of how much the pr mass of this node has changed and\n",
    "# passes it to the accum_moved_mass accumulator.  \n",
    "# Since the original pr mass value is no longer needed, it is not stored\n",
    "# (recall that it is regenerated in the phase one map step and is simply the value here called pr_prime)\n",
    "\n",
    "accum_moved_mass = sc.accumulator(0.0)\n",
    "\n",
    "def finalize(entry, dangling_mass):\n",
    "    label = str(entry[0])\n",
    "    edges = entry[1][0]\n",
    "    pr = entry[1][1]\n",
    "    previous = entry[1][2]\n",
    "    \n",
    "    pr_prime = broadcast_damping_factor.value * (1.0 / broadcast_nodecount.value) + \\\n",
    "    (1 - broadcast_damping_factor.value) * (dangling_mass / broadcast_nodecount.value + pr)\n",
    "    \n",
    "    accum_moved_mass.add(((pr_prime - previous)**2)**.5)\n",
    "    \n",
    "    return (label, [edges, pr_prime])"
   ]
  },
  {
   "cell_type": "code",
   "execution_count": 5,
   "metadata": {
    "collapsed": true
   },
   "outputs": [],
   "source": [
    "def format_time(seconds):\n",
    "    if seconds < 60:\n",
    "        return str(seconds) + ' s'\n",
    "    elif seconds < 60*60:\n",
    "        return str(seconds/60) + ' m'\n",
    "    return str(seconds/60/60) + ' h'\n",
    "\n",
    "#using the book's technique\n",
    "def PageRank(filename, repartition = True, verbose = False, iterations = 10):\n",
    "\n",
    "    verbose = False\n",
    "\n",
    "    #load the data and process it\n",
    "#     data = sc.textFile(\"/data/all-pages-indexed-out.txt\").map(processLine).repartition(50).cache()\n",
    "    # data = sc.textFile(\"/data/PageRank-test.txt\").map(processLine)\n",
    "    if repartition:\n",
    "        data = sc.textFile(filename).map(processLine).repartition(25)\n",
    "    else:\n",
    "        data = sc.textFile(filename).map(processLine)\n",
    "\n",
    "    overall_start_time = time.time()\n",
    "\n",
    "    # count the true number of nodes\n",
    "#     print \"Starting to do smart count\"\n",
    "#     start_time = time.time()\n",
    "#     nodecount = data.flatMap(mapCount).reduceByKey(lambda x, y: 1).count()\n",
    "#     nodecount_time = time.time() - start_time\n",
    "#     broadcast_nodecount = sc.broadcast(nodecount)\n",
    "\n",
    "#     print \"There are \" + str(broadcast_nodecount.value) + \" nodes in the dataset\"\n",
    "#     print \"(\" + format_time(nodecount_time) + \")\\n\"\n",
    "\n",
    "    \n",
    "    broadcast_damping_factor = sc.broadcast(.15)\n",
    "\n",
    "    # conduct the initial preparations\n",
    "    prepped_data = data.flatMap(prep_map).reduceByKey(prep_reduce).cache()\n",
    "    \n",
    "    ranks = prepped_data.map(lambda x: (x[0], 1.0))\n",
    "    \n",
    "    def distribute(baseTuple):\n",
    "        pageID = baseTuple[0]\n",
    "        values = baseTuple[1]\n",
    "        for link , weight in values[0].items():\n",
    "            yield (link, values[1]/len(values[0]))\n",
    "    \n",
    "    print \"Starting to loop\"\n",
    "    looping_start_time = time.time()\n",
    "    for i in range(iterations):\n",
    "        print \"Starting iteration \" + str(i + 1)\n",
    "        iteration_start_time = time.time()\n",
    "        ranks = prepped_data.join(ranks).flatMap(distribute).reduceByKey(lambda x, y: x + y).mapValues(lambda x: .15 + .85*x)\n",
    "        ranks.count()\n",
    "        iteration_duration = time.time() - iteration_start_time\n",
    "        print \"Iteration \" + str(i + 1) + \" took \" + format_time(iteration_duration)\n",
    "        \n",
    "    looping_duration = time.time() - looping_start_time\n",
    "    print \"Looping took \" + format_time(looping_duration)\n",
    "    return ranks"
   ]
  },
  {
   "cell_type": "code",
   "execution_count": 5,
   "metadata": {
    "collapsed": false,
    "scrolled": false
   },
   "outputs": [
    {
     "name": "stdout",
     "output_type": "stream",
     "text": [
      "Starting to loop\n",
      "Starting iteration 1\n",
      "Iteration 1 took 15.426770699 m\n",
      "Starting iteration 2\n",
      "Iteration 2 took 5.35303024848 m\n",
      "Starting iteration 3\n",
      "Iteration 3 took 3.61095893383 m\n",
      "Looping took 24.3907673518 m\n",
      "[('13455888', 8903.83710561844), ('4695850', 3832.6715272570545), ('1184351', 3819.3950710714926), ('5051368', 3441.970597559105), ('7902219', 3315.47909502668), ('13425865', 2805.7682833667227), ('2437837', 2697.0497732290014), ('4196067', 2459.4546510237255), ('1384888', 2456.80732671683), ('6113490', 2445.672908081044), ('14112583', 2437.516150194514), ('6076759', 2293.43280123857), ('10390714', 2153.8041322209497), ('6172466', 2064.8178461357206), ('6237129', 1967.5688941672438), ('1516699', 1967.1006416218397), ('12836211', 1954.4763600963167), ('6416278', 1915.117919541404), ('7990491', 1753.1500007346074), ('4198751', 1722.3259522571648), ('2797855', 1705.598398954948), ('9386580', 1669.5112632562734), ('7576704', 1638.1412190724268), ('13725487', 1607.68695321868), ('3603527', 1537.947785910835), ('11253108', 1536.7851154440905), ('3191491', 1524.045097389213), ('10469541', 1505.0999426419778), ('3069099', 1480.5713561252257), ('5154210', 1450.6781872596835), ('12074312', 1449.7891428315904), ('981395', 1438.3598123432994), ('15164193', 1409.7537855514358), ('2155467', 1394.6638163867149), ('1441065', 1389.2852228651632), ('14881689', 1329.9671426497391), ('9276255', 1316.7936387008813), ('14503460', 1310.4760589479424), ('4624519', 1302.436137184363), ('2396749', 1261.6595433405255), ('9355455', 1240.5234857170378), ('2614581', 1234.8845404796405), ('14112408', 1215.746835999538), ('12430985', 1211.6343416900597), ('7835160', 1203.191120257186), ('11147327', 1196.7927123685736), ('9391762', 1170.2649206663446), ('10345830', 1157.745360473554), ('8697871', 1143.5684158418878), ('13432150', 1122.2166264239543), ('12067030', 1114.9386373496884), ('2614578', 1093.8262228965107), ('11582765', 1067.1938734710448), ('8019937', 1033.113742179942), ('9562547', 1021.7719299358898), ('9997298', 1003.95404116298), ('4978429', 1002.8265977966078), ('4344962', 986.8292021826433), ('2578813', 969.2867046574488), ('13280859', 953.8983285005561), ('12447593', 949.5554478759834), ('9394907', 944.5040456906512), ('2826544', 935.0631808417811), ('994890', 923.0327525964439), ('14963657', 902.1363626795815), ('14565507', 898.0724681780099), ('13328060', 874.3706485767564), ('1575979', 851.76242740926), ('1523975', 843.1008961156973), ('12038331', 830.9643945825997), ('2778099', 823.4871478333), ('7467127', 807.2747745766791), ('1813634', 795.5598070300925), ('13853369', 791.3980103675), ('4502744', 769.1902867690396), ('10399499', 763.4471320130975), ('12785678', 760.5987150018341), ('1332806', 748.784723610877), ('3591832', 722.4030214402965), ('13433669', 721.5046710159313), ('10566120', 710.1890664003679), ('3191268', 708.4937652812672), ('4783981', 706.7122949336039), ('4568647', 705.0152979254545), ('9742161', 700.3668539368182), ('5274313', 697.7896992530608), ('10246542', 683.0004742582681), ('1175360', 681.6312824963946), ('9390959', 677.2063698391187), ('5045896', 676.6510368903794), ('10447338', 675.1055088086192), ('5908108', 672.2999874188777), ('3328327', 671.9505258731075), ('9924814', 671.8338609972731), ('14709489', 669.7064293005268), ('3577363', 661.2268620066016), ('4350909', 654.350266515477), ('1947095', 653.8661444486959), ('10917716', 652.0653710866352), ('12685893', 647.5485551501856)]\n"
     ]
    }
   ],
   "source": [
    "results = PageRank(\"/data/all-pages-indexed-out.txt\", iterations=3)\n",
    "results_ten_iters = results.takeOrdered(100, key = lambda x: -x[1])\n",
    "print results_ten_iters"
   ]
  },
  {
   "cell_type": "code",
   "execution_count": 7,
   "metadata": {
    "collapsed": false,
    "scrolled": false
   },
   "outputs": [
    {
     "name": "stdout",
     "output_type": "stream",
     "text": [
      "Starting to loop\n",
      "Starting iteration 1\n",
      "Iteration 1 took 12.0871352355 m\n",
      "Starting iteration 2\n",
      "Iteration 2 took 5.17052648465 m\n",
      "Starting iteration 3\n",
      "Iteration 3 took 3.87160741886 m\n",
      "Starting iteration 4\n",
      "Iteration 4 took 2.69709100326 m\n",
      "Starting iteration 5\n",
      "Iteration 5 took 3.88325459957 m\n",
      "Starting iteration 6\n",
      "Iteration 6 took 3.80956381559 m\n",
      "Starting iteration 7\n",
      "Iteration 7 took 2.78154503504 m\n",
      "Starting iteration 8\n",
      "Iteration 8 took 3.67729125023 m\n",
      "Starting iteration 9\n",
      "Iteration 9 took 3.92587081591 m\n",
      "Starting iteration 10\n",
      "Iteration 10 took 3.56409196456 m\n",
      "Starting iteration 11\n",
      "Iteration 11 took 4.06062566837 m\n",
      "Starting iteration 12\n",
      "Iteration 12 took 2.84202880065 m\n",
      "Starting iteration 13\n",
      "Iteration 13 took 4.03351731698 m\n",
      "Starting iteration 14\n",
      "Iteration 14 took 4.19796208541 m\n",
      "Starting iteration 15\n",
      "Iteration 15 took 2.87341054678 m\n",
      "Starting iteration 16\n",
      "Iteration 16 took 4.21277065277 m\n",
      "Starting iteration 17\n",
      "Iteration 17 took 3.02207578421 m\n",
      "Starting iteration 18\n",
      "Iteration 18 took 4.77745234966 m\n",
      "Starting iteration 19\n",
      "Iteration 19 took 3.09654930035 m\n",
      "Starting iteration 20\n",
      "Iteration 20 took 4.3957843701 m\n",
      "Starting iteration 21\n",
      "Iteration 21 took 4.23992083073 m\n",
      "Starting iteration 22\n",
      "Iteration 22 took 3.15529975096 m\n",
      "Starting iteration 23\n",
      "Iteration 23 took 4.47156999906 m\n",
      "Starting iteration 24\n",
      "Iteration 24 took 3.14693729877 m\n",
      "Starting iteration 25\n",
      "Iteration 25 took 3.96021010081 m\n",
      "Starting iteration 26\n",
      "Iteration 26 took 4.54097016652 m\n",
      "Starting iteration 27\n",
      "Iteration 27 took 3.16309633255 m\n",
      "Starting iteration 28\n",
      "Iteration 28 took 4.54986804724 m\n",
      "Starting iteration 29\n",
      "Iteration 29 took 3.23525749842 m\n",
      "Starting iteration 30\n",
      "Iteration 30 took 4.59329966704 m\n",
      "Starting iteration 31\n",
      "Iteration 31 took 3.48261425098 m\n",
      "Starting iteration 32\n",
      "Iteration 32 took 4.58841849963 m\n",
      "Starting iteration 33\n",
      "Iteration 33 took 3.49617980321 m\n",
      "Starting iteration 34\n",
      "Iteration 34 took 5.28860726754 m\n",
      "Starting iteration 35\n",
      "Iteration 35 took 3.43999823332 m\n",
      "Starting iteration 36\n",
      "Iteration 36 took 5.20241115093 m\n",
      "Starting iteration 37\n",
      "Iteration 37 took 3.57398280303 m\n",
      "Starting iteration 38\n",
      "Iteration 38 took 5.00799998442 m\n",
      "Starting iteration 39\n",
      "Iteration 39 took 3.36470383406 m\n",
      "Starting iteration 40\n",
      "Iteration 40 took 4.86770941814 m\n",
      "Starting iteration 41\n",
      "Iteration 41 took 4.78074696461 m\n",
      "Starting iteration 42\n",
      "Iteration 42 took 3.49783178171 m\n",
      "Starting iteration 43\n",
      "Iteration 43 took 4.90521308184 m\n",
      "Starting iteration 44\n",
      "Iteration 44 took 3.67386415005 m\n",
      "Starting iteration 45\n",
      "Iteration 45 took 5.34003973007 m\n",
      "Starting iteration 46\n",
      "Iteration 46 took 3.75711371899 m\n",
      "Starting iteration 47\n",
      "Iteration 47 took 4.99520713488 m\n",
      "Starting iteration 48\n",
      "Iteration 48 took 5.18564626773 m\n",
      "Starting iteration 49\n",
      "Iteration 49 took 3.88434721629 m\n",
      "Starting iteration 50\n",
      "Iteration 50 took 5.54204416672 m\n",
      "Looping took 3.49852311446 h\n"
     ]
    }
   ],
   "source": [
    "results_50_iters_rdd = PageRank(\"/data/all-pages-indexed-out.txt\", iterations = 50)\n",
    "results_50_iters = results_50_iters_rdd.takeOrdered(100, key = lambda x: -x[1])"
   ]
  },
  {
   "cell_type": "code",
   "execution_count": 8,
   "metadata": {
    "collapsed": true
   },
   "outputs": [],
   "source": [
    "sc.parallelize(results_50_iters).saveAsTextFile(\"/data/results\")"
   ]
  },
  {
   "cell_type": "code",
   "execution_count": null,
   "metadata": {
    "collapsed": true
   },
   "outputs": [],
   "source": [
    "sc.parallelize(results_50_iters).saveAsTextFile(\"/mnt/results_50_iters\")"
   ]
  },
  {
   "cell_type": "code",
   "execution_count": 15,
   "metadata": {
    "collapsed": true
   },
   "outputs": [],
   "source": [
    "datafile_python = open(\"./results/python_results.txt\")"
   ]
  },
  {
   "cell_type": "code",
   "execution_count": 17,
   "metadata": {
    "collapsed": false
   },
   "outputs": [],
   "source": [
    "python_results = []\n",
    "for line in datafile_python:\n",
    "    one_tuple = eval(line)\n",
    "    python_results.append(one_tuple[1])"
   ]
  },
  {
   "cell_type": "code",
   "execution_count": 19,
   "metadata": {
    "collapsed": false
   },
   "outputs": [],
   "source": [
    "datafile_scala = open(\"./13.3-results.txt\")\n",
    "scala_results = []\n",
    "for line in datafile_scala:\n",
    "    one_tuple = eval(line)\n",
    "    scala_results.append(one_tuple[1])"
   ]
  },
  {
   "cell_type": "code",
   "execution_count": 21,
   "metadata": {
    "collapsed": false
   },
   "outputs": [
    {
     "name": "stderr",
     "output_type": "stream",
     "text": [
      "/usr/local/lib64/python2.7/site-packages/matplotlib/font_manager.py:273: UserWarning: Matplotlib is building the font cache using fc-list. This may take a moment.\n",
      "  warnings.warn('Matplotlib is building the font cache using fc-list. This may take a moment.')\n"
     ]
    }
   ],
   "source": [
    "%matplotlib inline"
   ]
  },
  {
   "cell_type": "code",
   "execution_count": 23,
   "metadata": {
    "collapsed": false
   },
   "outputs": [],
   "source": [
    "import matplotlib.pyplot as plt"
   ]
  },
  {
   "cell_type": "code",
   "execution_count": 31,
   "metadata": {
    "collapsed": false
   },
   "outputs": [
    {
     "data": {
      "text/plain": [
       "<matplotlib.text.Text at 0x7f7ea42a6150>"
      ]
     },
     "execution_count": 31,
     "metadata": {},
     "output_type": "execute_result"
    },
    {
     "data": {
      "image/png": "[encoded data removed]",
      "text/plain": [
       "<matplotlib.figure.Figure at 0x7f7ea40d9510>"
      ]
     },
     "metadata": {},
     "output_type": "display_data"
    }
   ],
   "source": [
    "plt.plot(python_results, label=\"Homegrown Python\")\n",
    "plt.plot(scala_results, label=\"GraphX Scala\")\n",
    "plt.legend()\n",
    "plt.title(\"Comparison of Homegrown and GraphX\\nFinal Pagerank Values\")\n",
    "plt.xlabel(\"Rank\")\n",
    "plt.ylabel(\"Final Pagerank Value\")"
   ]
  },
  {
   "cell_type": "code",
   "execution_count": null,
   "metadata": {
    "collapsed": true
   },
   "outputs": [],
   "source": []
  }
 ],
 "metadata": {
  "kernelspec": {
   "display_name": "Python 2",
   "language": "python",
   "name": "python2"
  },
  "language_info": {
   "codemirror_mode": {
    "name": "ipython",
    "version": 2
   },
   "file_extension": ".py",
   "mimetype": "text/x-python",
   "name": "python",
   "nbconvert_exporter": "python",
   "pygments_lexer": "ipython2",
   "version": "2.7.10"
  }
 },
 "nbformat": 4,
 "nbformat_minor": 0
}
