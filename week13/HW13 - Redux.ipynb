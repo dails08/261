{
 "cells": [
  {
   "cell_type": "code",
   "execution_count": 1,
   "metadata": {
    "collapsed": false
   },
   "outputs": [
    {
     "data": {
      "text/plain": [
       "<pyspark.context.SparkContext at 0x7f7ea5999250>"
      ]
     },
     "execution_count": 1,
     "metadata": {},
     "output_type": "execute_result"
    }
   ],
   "source": [
    "sc"
   ]
  },
  {
   "cell_type": "code",
   "execution_count": 2,
   "metadata": {
    "collapsed": true
   },
   "outputs": [],
   "source": [
    "import time"
   ]
  },
  {
   "cell_type": "code",
   "execution_count": 3,
   "metadata": {
    "collapsed": false
   },
   "outputs": [
    {
     "name": "stdout",
     "output_type": "stream",
     "text": [
      "5781290\n",
      "Time taken: 24.968583107\n"
     ]
    }
   ],
   "source": [
    "start_time = time.time()\n",
    "print sc.textFile(\"/data/all-pages-indexed-out.txt\").map(lambda x: 1).reduce(lambda x, y: x + y)\n",
    "print \"Time taken: \" + str(time.time() - start_time)"
   ]
  },
  {
   "cell_type": "code",
   "execution_count": 4,
   "metadata": {
    "collapsed": false
   },
   "outputs": [
    {
     "name": "stdout",
     "output_type": "stream",
     "text": [
      "5781290\n",
      "Time taken: 9.1845138073\n"
     ]
    }
   ],
   "source": [
    "start_time = time.time()\n",
    "print sc.textFile(\"/data/all-pages-indexed-out.txt\").map(lambda x: 1).reduce(lambda x, y: x + y)\n",
    "print \"Time taken: \" + str(time.time() - start_time)"
   ]
  },
  {
   "cell_type": "code",
   "execution_count": 4,
   "metadata": {
    "collapsed": true
   },
   "outputs": [],
   "source": [
    "# mapCount is for counting the true number of nodes\n",
    "# necessary since nodes with no outgoing links are not listed on their own line\n",
    "\n",
    "def mapCount(entry):\n",
    "    yield (str(entry[0]), 1)\n",
    "    for key, value in entry[1].items():\n",
    "        yield (key, 1)\n",
    "        \n",
    "# processLine turns the string into python objects,\n",
    "# specifically the label and a dictionary of edges.\n",
    "# this assumes zero formatting errors\n",
    "def processLine(line):\n",
    "    splits = line.strip().split('\\t')\n",
    "    return [splits[0], eval(splits[1])]\n",
    "\n",
    "# prep_map generates a line for each possible node, including nodes that exist\n",
    "# only in the edge dictionary of another node\n",
    "def prep_map(entry):\n",
    "    nodeID = entry[0]\n",
    "    edges = entry[1]\n",
    "    for edge, weight in edges.items():\n",
    "        yield (str(edge.strip()), {})\n",
    "    yield (str(nodeID), edges)\n",
    "    \n",
    "# prep_reduce combines the dictionaries of the records created in the map phase\n",
    "def prep_reduce(x, y):\n",
    "    edges = {}\n",
    "    for key, value in x.items():\n",
    "        edges[key] = value\n",
    "    for key, value in y.items():\n",
    "        edges[key] = value\n",
    "    return edges\n",
    "\n",
    "# init_entry distributes the initial probability mass\n",
    "# it also adds a value into the record of 0.0 which will eventually represent\n",
    "# the amount of change in that node's probability mass\n",
    "# which we'll use to check for convergence\n",
    "# it is reliant on the accum_total_pr accumulator for its closure\n",
    "\n",
    "accum_total_pr = sc.accumulator(0.0)\n",
    "\n",
    "def init_entry(entry):\n",
    "    accum_total_pr.add(1.0 / broadcast_nodecount.value)\n",
    "    return (entry[0], [entry[1], 1.0 / broadcast_nodecount.value, 0.0]) #the 0.0 is the delta pr \n",
    "\n",
    "\n",
    "# Phase one consists of a map and reducebykey phase.\n",
    "# phaseOneMapper stores the pr mass of the node as it is as the beginning of the step\n",
    "# if there are no outgoing edges, it passes all the pr mass of that node to the dangling_mass accumulator\n",
    "# which is defined here for the closure.\n",
    "# if there are edges, it divides the pr mass evenly among them and emits the target node with \n",
    "# an empty edge list and a zero previous pr mass.  This is done so that when records are combined\n",
    "# in the reduce step, there will be exactly one record with a full edge list and an accurate\n",
    "# previous pr mass, so we can cummutatively and associatively add the records together\n",
    "# and arrive at a single accurate record\n",
    "\n",
    "accum_dangling_mass = sc.accumulator(0.0)\n",
    "\n",
    "\n",
    "def phaseOneMapper(entry):\n",
    "    label = entry[0]\n",
    "    edges = entry[1][0]\n",
    "    pr = entry[1][1]\n",
    "    previous = pr\n",
    "\n",
    "    if len(edges) == 0:\n",
    "        accum_dangling_mass.add(pr)\n",
    "    else:\n",
    "        forwarding_pr = pr / len(edges)\n",
    "        for edge, weight in edges.items():\n",
    "            yield (edge, [{}, forwarding_pr, 0.0])\n",
    "    yield (label, [edges, 0.0, pr])\n",
    "\n",
    "def phaseOneReducer(x, y):\n",
    "    edges = {}\n",
    "    for edge, weight in x[0].items():\n",
    "        edges[edge] = weight\n",
    "    for edge, weight in y[0].items():\n",
    "        edges[edge] = weight\n",
    "    return [edges, x[1] + y[1], x[2] + y[2]]\n",
    "\n",
    "# the finalize state distributes the dangling pr mass by knowing from the broadcast variables how many\n",
    "# nodes there are and by being passed the dangling mass from a variable defined with the accumulator\n",
    "# in the driver program logic.  It also calculates the final pr mass of the node by the pagerank equation\n",
    "# additionally, it records the absolute value of how much the pr mass of this node has changed and\n",
    "# passes it to the accum_moved_mass accumulator.  \n",
    "# Since the original pr mass value is no longer needed, it is not stored\n",
    "# (recall that it is regenerated in the phase one map step and is simply the value here called pr_prime)\n",
    "\n",
    "accum_moved_mass = sc.accumulator(0.0)\n",
    "\n",
    "def finalize(entry, dangling_mass):\n",
    "    label = str(entry[0])\n",
    "    edges = entry[1][0]\n",
    "    pr = entry[1][1]\n",
    "    previous = entry[1][2]\n",
    "    \n",
    "    pr_prime = broadcast_damping_factor.value * (1.0 / broadcast_nodecount.value) + \\\n",
    "    (1 - broadcast_damping_factor.value) * (dangling_mass / broadcast_nodecount.value + pr)\n",
    "    \n",
    "    accum_moved_mass.add(((pr_prime - previous)**2)**.5)\n",
    "    \n",
    "    return (label, [edges, pr_prime])"
   ]
  },
  {
   "cell_type": "code",
   "execution_count": 5,
   "metadata": {
    "collapsed": true
   },
   "outputs": [],
   "source": [
    "def format_time(seconds):\n",
    "    if seconds < 60:\n",
    "        return str(seconds) + ' s'\n",
    "    elif seconds < 60*60:\n",
    "        return str(seconds/60) + ' m'\n",
    "    return str(seconds/60/60) + ' h'\n",
    "\n",
    "#using the book's technique\n",
    "def PageRank(filename, repartition = True, verbose = False, iterations = 10):\n",
    "\n",
    "    verbose = False\n",
    "\n",
    "    #load the data and process it\n",
    "#     data = sc.textFile(\"/data/all-pages-indexed-out.txt\").map(processLine).repartition(50).cache()\n",
    "    # data = sc.textFile(\"/data/PageRank-test.txt\").map(processLine)\n",
    "    if repartition:\n",
    "        data = sc.textFile(filename).map(processLine).repartition(25)\n",
    "    else:\n",
    "        data = sc.textFile(filename).map(processLine)\n",
    "\n",
    "    overall_start_time = time.time()\n",
    "\n",
    "    # count the true number of nodes\n",
    "#     print \"Starting to do smart count\"\n",
    "#     start_time = time.time()\n",
    "#     nodecount = data.flatMap(mapCount).reduceByKey(lambda x, y: 1).count()\n",
    "#     nodecount_time = time.time() - start_time\n",
    "#     broadcast_nodecount = sc.broadcast(nodecount)\n",
    "\n",
    "#     print \"There are \" + str(broadcast_nodecount.value) + \" nodes in the dataset\"\n",
    "#     print \"(\" + format_time(nodecount_time) + \")\\n\"\n",
    "\n",
    "    \n",
    "    broadcast_damping_factor = sc.broadcast(.15)\n",
    "\n",
    "    # conduct the initial preparations\n",
    "    prepped_data = data.flatMap(prep_map).reduceByKey(prep_reduce).cache()\n",
    "    \n",
    "    ranks = prepped_data.map(lambda x: (x[0], 1.0))\n",
    "    \n",
    "    def distribute(baseTuple):\n",
    "        pageID = baseTuple[0]\n",
    "        values = baseTuple[1]\n",
    "        for link , weight in values[0].items():\n",
    "            yield (link, values[1]/len(values[0]))\n",
    "    \n",
    "    print \"Starting to loop\"\n",
    "    looping_start_time = time.time()\n",
    "    for i in range(iterations):\n",
    "        print \"Starting iteration \" + str(i + 1)\n",
    "        iteration_start_time = time.time()\n",
    "        ranks = prepped_data.join(ranks).flatMap(distribute).reduceByKey(lambda x, y: x + y).mapValues(lambda x: .15 + .85*x)\n",
    "        ranks.count()\n",
    "        iteration_duration = time.time() - iteration_start_time\n",
    "        print \"Iteration \" + str(i + 1) + \" took \" + format_time(iteration_duration)\n",
    "        \n",
    "    looping_duration = time.time() - looping_start_time\n",
    "    print \"Looping took \" + format_time(looping_duration)\n",
    "    return ranks"
   ]
  },
  {
   "cell_type": "code",
   "execution_count": 5,
   "metadata": {
    "collapsed": false,
    "scrolled": false
   },
   "outputs": [
    {
     "name": "stdout",
     "output_type": "stream",
     "text": [
      "Starting to loop\n",
      "Starting iteration 1\n",
      "Iteration 1 took 15.426770699 m\n",
      "Starting iteration 2\n",
      "Iteration 2 took 5.35303024848 m\n",
      "Starting iteration 3\n",
      "Iteration 3 took 3.61095893383 m\n",
      "Looping took 24.3907673518 m\n",
      "[('13455888', 8903.83710561844), ('4695850', 3832.6715272570545), ('1184351', 3819.3950710714926), ('5051368', 3441.970597559105), ('7902219', 3315.47909502668), ('13425865', 2805.7682833667227), ('2437837', 2697.0497732290014), ('4196067', 2459.4546510237255), ('1384888', 2456.80732671683), ('6113490', 2445.672908081044), ('14112583', 2437.516150194514), ('6076759', 2293.43280123857), ('10390714', 2153.8041322209497), ('6172466', 2064.8178461357206), ('6237129', 1967.5688941672438), ('1516699', 1967.1006416218397), ('12836211', 1954.4763600963167), ('6416278', 1915.117919541404), ('7990491', 1753.1500007346074), ('4198751', 1722.3259522571648), ('2797855', 1705.598398954948), ('9386580', 1669.5112632562734), ('7576704', 1638.1412190724268), ('13725487', 1607.68695321868), ('3603527', 1537.947785910835), ('11253108', 1536.7851154440905), ('3191491', 1524.045097389213), ('10469541', 1505.0999426419778), ('3069099', 1480.5713561252257), ('5154210', 1450.6781872596835), ('12074312', 1449.7891428315904), ('981395', 1438.3598123432994), ('15164193', 1409.7537855514358), ('2155467', 1394.6638163867149), ('1441065', 1389.2852228651632), ('14881689', 1329.9671426497391), ('9276255', 1316.7936387008813), ('14503460', 1310.4760589479424), ('4624519', 1302.436137184363), ('2396749', 1261.6595433405255), ('9355455', 1240.5234857170378), ('2614581', 1234.8845404796405), ('14112408', 1215.746835999538), ('12430985', 1211.6343416900597), ('7835160', 1203.191120257186), ('11147327', 1196.7927123685736), ('9391762', 1170.2649206663446), ('10345830', 1157.745360473554), ('8697871', 1143.5684158418878), ('13432150', 1122.2166264239543), ('12067030', 1114.9386373496884), ('2614578', 1093.8262228965107), ('11582765', 1067.1938734710448), ('8019937', 1033.113742179942), ('9562547', 1021.7719299358898), ('9997298', 1003.95404116298), ('4978429', 1002.8265977966078), ('4344962', 986.8292021826433), ('2578813', 969.2867046574488), ('13280859', 953.8983285005561), ('12447593', 949.5554478759834), ('9394907', 944.5040456906512), ('2826544', 935.0631808417811), ('994890', 923.0327525964439), ('14963657', 902.1363626795815), ('14565507', 898.0724681780099), ('13328060', 874.3706485767564), ('1575979', 851.76242740926), ('1523975', 843.1008961156973), ('12038331', 830.9643945825997), ('2778099', 823.4871478333), ('7467127', 807.2747745766791), ('1813634', 795.5598070300925), ('13853369', 791.3980103675), ('4502744', 769.1902867690396), ('10399499', 763.4471320130975), ('12785678', 760.5987150018341), ('1332806', 748.784723610877), ('3591832', 722.4030214402965), ('13433669', 721.5046710159313), ('10566120', 710.1890664003679), ('3191268', 708.4937652812672), ('4783981', 706.7122949336039), ('4568647', 705.0152979254545), ('9742161', 700.3668539368182), ('5274313', 697.7896992530608), ('10246542', 683.0004742582681), ('1175360', 681.6312824963946), ('9390959', 677.2063698391187), ('5045896', 676.6510368903794), ('10447338', 675.1055088086192), ('5908108', 672.2999874188777), ('3328327', 671.9505258731075), ('9924814', 671.8338609972731), ('14709489', 669.7064293005268), ('3577363', 661.2268620066016), ('4350909', 654.350266515477), ('1947095', 653.8661444486959), ('10917716', 652.0653710866352), ('12685893', 647.5485551501856)]\n"
     ]
    }
   ],
   "source": [
    "results = PageRank(\"/data/all-pages-indexed-out.txt\", iterations=3)\n",
    "results_ten_iters = results.takeOrdered(100, key = lambda x: -x[1])\n",
    "print results_ten_iters"
   ]
  },
  {
   "cell_type": "code",
   "execution_count": 7,
   "metadata": {
    "collapsed": false,
    "scrolled": false
   },
   "outputs": [
    {
     "name": "stdout",
     "output_type": "stream",
     "text": [
      "Starting to loop\n",
      "Starting iteration 1\n",
      "Iteration 1 took 12.0871352355 m\n",
      "Starting iteration 2\n",
      "Iteration 2 took 5.17052648465 m\n",
      "Starting iteration 3\n",
      "Iteration 3 took 3.87160741886 m\n",
      "Starting iteration 4\n",
      "Iteration 4 took 2.69709100326 m\n",
      "Starting iteration 5\n",
      "Iteration 5 took 3.88325459957 m\n",
      "Starting iteration 6\n",
      "Iteration 6 took 3.80956381559 m\n",
      "Starting iteration 7\n",
      "Iteration 7 took 2.78154503504 m\n",
      "Starting iteration 8\n",
      "Iteration 8 took 3.67729125023 m\n",
      "Starting iteration 9\n",
      "Iteration 9 took 3.92587081591 m\n",
      "Starting iteration 10\n",
      "Iteration 10 took 3.56409196456 m\n",
      "Starting iteration 11\n",
      "Iteration 11 took 4.06062566837 m\n",
      "Starting iteration 12\n",
      "Iteration 12 took 2.84202880065 m\n",
      "Starting iteration 13\n",
      "Iteration 13 took 4.03351731698 m\n",
      "Starting iteration 14\n",
      "Iteration 14 took 4.19796208541 m\n",
      "Starting iteration 15\n",
      "Iteration 15 took 2.87341054678 m\n",
      "Starting iteration 16\n",
      "Iteration 16 took 4.21277065277 m\n",
      "Starting iteration 17\n",
      "Iteration 17 took 3.02207578421 m\n",
      "Starting iteration 18\n",
      "Iteration 18 took 4.77745234966 m\n",
      "Starting iteration 19\n",
      "Iteration 19 took 3.09654930035 m\n",
      "Starting iteration 20\n",
      "Iteration 20 took 4.3957843701 m\n",
      "Starting iteration 21\n",
      "Iteration 21 took 4.23992083073 m\n",
      "Starting iteration 22\n",
      "Iteration 22 took 3.15529975096 m\n",
      "Starting iteration 23\n",
      "Iteration 23 took 4.47156999906 m\n",
      "Starting iteration 24\n",
      "Iteration 24 took 3.14693729877 m\n",
      "Starting iteration 25\n",
      "Iteration 25 took 3.96021010081 m\n",
      "Starting iteration 26\n",
      "Iteration 26 took 4.54097016652 m\n",
      "Starting iteration 27\n",
      "Iteration 27 took 3.16309633255 m\n",
      "Starting iteration 28\n",
      "Iteration 28 took 4.54986804724 m\n",
      "Starting iteration 29\n",
      "Iteration 29 took 3.23525749842 m\n",
      "Starting iteration 30\n",
      "Iteration 30 took 4.59329966704 m\n",
      "Starting iteration 31\n",
      "Iteration 31 took 3.48261425098 m\n",
      "Starting iteration 32\n",
      "Iteration 32 took 4.58841849963 m\n",
      "Starting iteration 33\n",
      "Iteration 33 took 3.49617980321 m\n",
      "Starting iteration 34\n",
      "Iteration 34 took 5.28860726754 m\n",
      "Starting iteration 35\n",
      "Iteration 35 took 3.43999823332 m\n",
      "Starting iteration 36\n",
      "Iteration 36 took 5.20241115093 m\n",
      "Starting iteration 37\n",
      "Iteration 37 took 3.57398280303 m\n",
      "Starting iteration 38\n",
      "Iteration 38 took 5.00799998442 m\n",
      "Starting iteration 39\n",
      "Iteration 39 took 3.36470383406 m\n",
      "Starting iteration 40\n",
      "Iteration 40 took 4.86770941814 m\n",
      "Starting iteration 41\n",
      "Iteration 41 took 4.78074696461 m\n",
      "Starting iteration 42\n",
      "Iteration 42 took 3.49783178171 m\n",
      "Starting iteration 43\n",
      "Iteration 43 took 4.90521308184 m\n",
      "Starting iteration 44\n",
      "Iteration 44 took 3.67386415005 m\n",
      "Starting iteration 45\n",
      "Iteration 45 took 5.34003973007 m\n",
      "Starting iteration 46\n",
      "Iteration 46 took 3.75711371899 m\n",
      "Starting iteration 47\n",
      "Iteration 47 took 4.99520713488 m\n",
      "Starting iteration 48\n",
      "Iteration 48 took 5.18564626773 m\n",
      "Starting iteration 49\n",
      "Iteration 49 took 3.88434721629 m\n",
      "Starting iteration 50\n",
      "Iteration 50 took 5.54204416672 m\n",
      "Looping took 3.49852311446 h\n"
     ]
    }
   ],
   "source": [
    "results_50_iters_rdd = PageRank(\"/data/all-pages-indexed-out.txt\", iterations = 50)\n",
    "results_50_iters = results_50_iters_rdd.takeOrdered(100, key = lambda x: -x[1])"
   ]
  },
  {
   "cell_type": "code",
   "execution_count": 8,
   "metadata": {
    "collapsed": true
   },
   "outputs": [],
   "source": [
    "sc.parallelize(results_50_iters).saveAsTextFile(\"/data/results\")"
   ]
  },
  {
   "cell_type": "code",
   "execution_count": null,
   "metadata": {
    "collapsed": true
   },
   "outputs": [],
   "source": [
    "sc.parallelize(results_50_iters).saveAsTextFile(\"/mnt/results_50_iters\")"
   ]
  },
  {
   "cell_type": "code",
   "execution_count": 14,
   "metadata": {
    "collapsed": false
   },
   "outputs": [
    {
     "ename": "SyntaxError",
     "evalue": "EOL while scanning string literal (<ipython-input-14-16f93b9e86af>, line 1)",
     "output_type": "error",
     "traceback": [
      "\u001b[1;36m  File \u001b[1;32m\"<ipython-input-14-16f93b9e86af>\"\u001b[1;36m, line \u001b[1;32m1\u001b[0m\n\u001b[1;33m    raw_string_50_python = \"('13455888', 5256.649741743226)\u001b[0m\n\u001b[1;37m                                                          ^\u001b[0m\n\u001b[1;31mSyntaxError\u001b[0m\u001b[1;31m:\u001b[0m EOL while scanning string literal\n"
     ]
    }
   ],
   "source": [
    "raw_string_50_python = \"('13455888', 5256.649741743226)\n",
    "('1184351', 2533.5317247703906)\n",
    "('4695850', 2283.7315544590756)\n",
    "('5051368', 2047.450578511314)\n",
    "('1384888', 1743.7307898225508)\n",
    "('6113490', 1722.5257876962294)\n",
    "('2437837', 1640.9532759339147)\n",
    "('13425865', 1564.7981623286867)\n",
    "('4196067', 1553.0188503688169)\n",
    "('6076759', 1427.6294562250018)\n",
    "('14112583', 1341.007484523552)\n",
    "('7576704', 1206.2082641058364)\n",
    "('1516699', 1194.489407120785)\n",
    "('6237129', 1180.332466044496)\n",
    "('6416278', 1125.873826178823)\n",
    "('10390714', 1110.7744724321356)\n",
    "('12836211', 1041.035791481468)\n",
    "('7990491', 1033.7023751800932)\n",
    "('7902219', 1032.701284685564)\n",
    "('3191491', 996.0998490720349)\n",
    "('15164193', 995.5500914721615)\n",
    "('14881689', 991.6725890180995)\n",
    "('4198751', 958.4291667357819)\n",
    "('9386580', 938.7189155774274)\n",
    "('3603527', 932.3117021978599)\n",
    "('9276255', 923.323788212817)\n",
    "('2797855', 912.8934923264096)\n",
    "('3069099', 909.7546395212813)\n",
    "('13725487', 885.3043140789097)\n",
    "('11253108', 870.1731612779844)\n",
    "('12074312', 865.3350587373476)\n",
    "('10469541', 858.0173307453684)\n",
    "('5154210', 841.6345373774475)\n",
    "('2155467', 838.558084738416)\n",
    "('1441065', 833.0229459181893)\n",
    "('14503460', 807.5277656176323)\n",
    "('2396749', 761.9111475616471)\n",
    "('9355455', 710.7386153490683)\n",
    "('2614581', 697.5633622604828)\n",
    "('981395', 696.5819751644095)\n",
    "('12430985', 693.136840472271)\n",
    "('9391762', 680.8727382990359)\n",
    "('11147327', 679.0532108646654)\n",
    "('8697871', 667.9516375309328)\n",
    "('14112408', 650.6529194639776)\n",
    "('11582765', 631.373878566427)\n",
    "('994890', 627.8967249721813)\n",
    "('7835160', 615.4396347480955)\n",
    "('2614578', 614.7379910304671)\n",
    "('12067030', 589.4916084740801)\n",
    "('9562547', 578.4403644781446)\n",
    "('9997298', 576.588722462238)\n",
    "('9394907', 571.1491629134971)\n",
    "('8019937', 563.7667981350417)\n",
    "('4978429', 554.6638687754336)\n",
    "('13432150', 538.3777290459973)\n",
    "('12447593', 536.6623731681533)\n",
    "('10345830', 534.6888231264619)\n",
    "('13280859', 532.8230285313134)\n",
    "('4344962', 518.665944182169)\n",
    "('6172466', 513.8729842420078)\n",
    "('12038331', 506.3711368727135)\n",
    "('14565507', 499.5839184427745)\n",
    "('1523975', 485.7403857425307)\n",
    "('1175360', 479.6601988690712)\n",
    "('14963657', 472.80338817163675)\n",
    "('4624519', 466.88800115831344)\n",
    "('1575979', 464.00608153011007)\n",
    "('2578813', 461.49959596420626)\n",
    "('10399499', 461.31537283976905)\n",
    "('13328060', 457.08355723147116)\n",
    "('1813634', 456.1032179411047)\n",
    "('2778099', 454.1396465227262)\n",
    "('2826544', 441.9900425955398)\n",
    "('1332806', 437.06063212487976)\n",
    "('13853369', 436.708615759364)\n",
    "('9742161', 422.68757418829034)\n",
    "('15070394', 415.18840975166313)\n",
    "('12785678', 414.48375889101027)\n",
    "('14709489', 406.84317246759485)\n",
    "('3591832', 401.825548784192)\n",
    "('3577363', 401.65578771265353)\n",
    "('5274313', 401.02528373196685)\n",
    "('4568647', 398.8055575265027)\n",
    "('7467127', 398.50885239391016)\n",
    "('10246542', 397.2047690979028)\n",
    "('9924814', 395.1644970158236)\n",
    "('1797655', 392.38524216133084)\n",
    "('13433669', 392.34521872388717)\n",
    "('12685893', 391.9336214693925)\n",
    "('8641167', 391.82375390319294)\n",
    "('9390959', 391.75517007287937)\n",
    "('14727077', 391.5497995998543)\n",
    "('10917716', 391.35099759443216)\n",
    "('1062600', 379.41412084349093)\n",
    "('10447338', 372.9551467229068)\n",
    "('5908108', 372.41093125608944)\n",
    "('4783981', 368.2528550691566)\n",
    "('12048800', 366.78484720252294)\n",
    "('4320007', 361.156321361945)\""
   ]
  },
  {
   "cell_type": "code",
   "execution_count": 15,
   "metadata": {
    "collapsed": true
   },
   "outputs": [],
   "source": [
    "datafile_python = open(\"./results/python_results.txt\")"
   ]
  },
  {
   "cell_type": "code",
   "execution_count": 17,
   "metadata": {
    "collapsed": false
   },
   "outputs": [],
   "source": [
    "python_results = []\n",
    "for line in datafile_python:\n",
    "    one_tuple = eval(line)\n",
    "    python_results.append(one_tuple[1])"
   ]
  },
  {
   "cell_type": "code",
   "execution_count": 19,
   "metadata": {
    "collapsed": false
   },
   "outputs": [],
   "source": [
    "datafile_scala = open(\"./13.3-results.txt\")\n",
    "scala_results = []\n",
    "for line in datafile_scala:\n",
    "    one_tuple = eval(line)\n",
    "    scala_results.append(one_tuple[1])"
   ]
  },
  {
   "cell_type": "code",
   "execution_count": 21,
   "metadata": {
    "collapsed": false
   },
   "outputs": [
    {
     "name": "stderr",
     "output_type": "stream",
     "text": [
      "/usr/local/lib64/python2.7/site-packages/matplotlib/font_manager.py:273: UserWarning: Matplotlib is building the font cache using fc-list. This may take a moment.\n",
      "  warnings.warn('Matplotlib is building the font cache using fc-list. This may take a moment.')\n"
     ]
    }
   ],
   "source": [
    "%matplotlib inline"
   ]
  },
  {
   "cell_type": "code",
   "execution_count": 23,
   "metadata": {
    "collapsed": false
   },
   "outputs": [],
   "source": [
    "import matplotlib.pyplot as plt"
   ]
  },
  {
   "cell_type": "code",
   "execution_count": 29,
   "metadata": {
    "collapsed": false
   },
   "outputs": [
    {
     "data": {
      "text/plain": [
       "<matplotlib.text.Text at 0x7f7e9f9ae6d0>"
      ]
     },
     "execution_count": 29,
     "metadata": {},
     "output_type": "execute_result"
    },
    {
     "data": {
      "image/png": "[encoded data removed]",
      "text/plain": [
       "<matplotlib.figure.Figure at 0x7f7e9fb55fd0>"
      ]
     },
     "metadata": {},
     "output_type": "display_data"
    }
   ],
   "source": [
    "plt.plot(python_results, label=\"Homegrown Python\")\n",
    "plt.plot(scala_results, label=\"GraphX Scala\")\n",
    "plt.title(\"Comparison of Homegrown and GraphX\\nFinal Pagerank Values\")\n",
    "plt.xlabel(\"Rank\")\n",
    "plt.ylabel(\"Final Pagerank Value\")"
   ]
  },
  {
   "cell_type": "code",
   "execution_count": null,
   "metadata": {
    "collapsed": true
   },
   "outputs": [],
   "source": []
  }
 ],
 "metadata": {
  "kernelspec": {
   "display_name": "Python 2",
   "language": "python",
   "name": "python2"
  },
  "language_info": {
   "codemirror_mode": {
    "name": "ipython",
    "version": 2
   },
   "file_extension": ".py",
   "mimetype": "text/x-python",
   "name": "python",
   "nbconvert_exporter": "python",
   "pygments_lexer": "ipython2",
   "version": "2.7.10"
  }
 },
 "nbformat": 4,
 "nbformat_minor": 0
}
