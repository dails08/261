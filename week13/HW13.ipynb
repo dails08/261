{
 "cells": [
  {
   "cell_type": "markdown",
   "metadata": {},
   "source": [
    "# HW 13\n",
    "\n",
    "## 13.1\n",
    "Write a basic Spark implementation of the iterative PageRank algorithm\n",
    "that takes sparse adjacency lists as input.\n",
    "Make sure that your implementation utilizes teleportation (1-damping/the number of nodes in the network), \n",
    "and further, distributes the mass of dangling nodes with each iteration\n",
    "so that the output of each iteration is correctly normalized (sums to 1).\n",
    "[NOTE: The PageRank algorithm assumes that a random surfer (walker), starting from a random web page,\n",
    "chooses the next page to which it will move by clicking at random, with probability d,\n",
    "one of the hyperlinks in the current page. This probability is represented by a so-called\n",
    "‘damping factor’ d, where d ∈ (0, 1). Otherwise, with probability (1 − d), the surfer\n",
    "jumps to any web page in the network. If a page is a dangling end, meaning it has no\n",
    "outgoing hyperlinks, the random surfer selects an arbitrary web page from a uniform\n",
    "distribution and “teleports” to that page]\n",
    "\n",
    "In your Spark solution, please use broadcast variables and caching to make sure your code is as efficient as possible."
   ]
  },
  {
   "cell_type": "markdown",
   "metadata": {},
   "source": []
  },
  {
   "cell_type": "code",
   "execution_count": 235,
   "metadata": {
    "collapsed": true
   },
   "outputs": [],
   "source": [
    "import findspark\n",
    "import time\n",
    "import matplotlib.pyplot as plt\n",
    "findspark.init()"
   ]
  },
  {
   "cell_type": "code",
   "execution_count": 220,
   "metadata": {
    "collapsed": false
   },
   "outputs": [],
   "source": [
    "%matplotlib inline"
   ]
  },
  {
   "cell_type": "code",
   "execution_count": 107,
   "metadata": {
    "collapsed": false
   },
   "outputs": [
    {
     "ename": "ValueError",
     "evalue": "Cannot run multiple SparkContexts at once; existing SparkContext(app=master, master=local) created by __init__ at <ipython-input-2-f493162bd33f>:3 ",
     "output_type": "error",
     "traceback": [
      "\u001b[1;31m---------------------------------------------------------------------------\u001b[0m",
      "\u001b[1;31mValueError\u001b[0m                                Traceback (most recent call last)",
      "\u001b[1;32m<ipython-input-107-f493162bd33f>\u001b[0m in \u001b[0;36m<module>\u001b[1;34m()\u001b[0m\n\u001b[0;32m      1\u001b[0m \u001b[1;32mfrom\u001b[0m \u001b[0mpyspark\u001b[0m \u001b[1;32mimport\u001b[0m \u001b[0mSparkConf\u001b[0m\u001b[1;33m,\u001b[0m \u001b[0mSparkContext\u001b[0m\u001b[1;33m\u001b[0m\u001b[0m\n\u001b[0;32m      2\u001b[0m \u001b[0mconf\u001b[0m \u001b[1;33m=\u001b[0m \u001b[0mSparkConf\u001b[0m\u001b[1;33m(\u001b[0m\u001b[1;33m)\u001b[0m\u001b[1;33m.\u001b[0m\u001b[0msetMaster\u001b[0m\u001b[1;33m(\u001b[0m\u001b[1;34m'local'\u001b[0m\u001b[1;33m)\u001b[0m\u001b[1;33m.\u001b[0m\u001b[0msetAppName\u001b[0m\u001b[1;33m(\u001b[0m\u001b[1;34m'master'\u001b[0m\u001b[1;33m)\u001b[0m\u001b[1;33m\u001b[0m\u001b[0m\n\u001b[1;32m----> 3\u001b[1;33m \u001b[0msc\u001b[0m \u001b[1;33m=\u001b[0m \u001b[0mSparkContext\u001b[0m\u001b[1;33m(\u001b[0m\u001b[0mconf\u001b[0m \u001b[1;33m=\u001b[0m \u001b[0mconf\u001b[0m\u001b[1;33m)\u001b[0m\u001b[1;33m\u001b[0m\u001b[0m\n\u001b[0m",
      "\u001b[1;32m/home/ubuntu/spark-1.6.1-bin-hadoop2.6/python/pyspark/context.pyc\u001b[0m in \u001b[0;36m__init__\u001b[1;34m(self, master, appName, sparkHome, pyFiles, environment, batchSize, serializer, conf, gateway, jsc, profiler_cls)\u001b[0m\n\u001b[0;32m    110\u001b[0m         \"\"\"\n\u001b[0;32m    111\u001b[0m         \u001b[0mself\u001b[0m\u001b[1;33m.\u001b[0m\u001b[0m_callsite\u001b[0m \u001b[1;33m=\u001b[0m \u001b[0mfirst_spark_call\u001b[0m\u001b[1;33m(\u001b[0m\u001b[1;33m)\u001b[0m \u001b[1;32mor\u001b[0m \u001b[0mCallSite\u001b[0m\u001b[1;33m(\u001b[0m\u001b[0mNone\u001b[0m\u001b[1;33m,\u001b[0m \u001b[0mNone\u001b[0m\u001b[1;33m,\u001b[0m \u001b[0mNone\u001b[0m\u001b[1;33m)\u001b[0m\u001b[1;33m\u001b[0m\u001b[0m\n\u001b[1;32m--> 112\u001b[1;33m         \u001b[0mSparkContext\u001b[0m\u001b[1;33m.\u001b[0m\u001b[0m_ensure_initialized\u001b[0m\u001b[1;33m(\u001b[0m\u001b[0mself\u001b[0m\u001b[1;33m,\u001b[0m \u001b[0mgateway\u001b[0m\u001b[1;33m=\u001b[0m\u001b[0mgateway\u001b[0m\u001b[1;33m)\u001b[0m\u001b[1;33m\u001b[0m\u001b[0m\n\u001b[0m\u001b[0;32m    113\u001b[0m         \u001b[1;32mtry\u001b[0m\u001b[1;33m:\u001b[0m\u001b[1;33m\u001b[0m\u001b[0m\n\u001b[0;32m    114\u001b[0m             self._do_init(master, appName, sparkHome, pyFiles, environment, batchSize, serializer,\n",
      "\u001b[1;32m/home/ubuntu/spark-1.6.1-bin-hadoop2.6/python/pyspark/context.pyc\u001b[0m in \u001b[0;36m_ensure_initialized\u001b[1;34m(cls, instance, gateway)\u001b[0m\n\u001b[0;32m    259\u001b[0m                         \u001b[1;34m\" created by %s at %s:%s \"\u001b[0m\u001b[1;33m\u001b[0m\u001b[0m\n\u001b[0;32m    260\u001b[0m                         % (currentAppName, currentMaster,\n\u001b[1;32m--> 261\u001b[1;33m                             callsite.function, callsite.file, callsite.linenum))\n\u001b[0m\u001b[0;32m    262\u001b[0m                 \u001b[1;32melse\u001b[0m\u001b[1;33m:\u001b[0m\u001b[1;33m\u001b[0m\u001b[0m\n\u001b[0;32m    263\u001b[0m                     \u001b[0mSparkContext\u001b[0m\u001b[1;33m.\u001b[0m\u001b[0m_active_spark_context\u001b[0m \u001b[1;33m=\u001b[0m \u001b[0minstance\u001b[0m\u001b[1;33m\u001b[0m\u001b[0m\n",
      "\u001b[1;31mValueError\u001b[0m: Cannot run multiple SparkContexts at once; existing SparkContext(app=master, master=local) created by __init__ at <ipython-input-2-f493162bd33f>:3 "
     ]
    }
   ],
   "source": [
    "from pyspark import SparkConf, SparkContext\n",
    "conf = SparkConf().setMaster('local').setAppName('master')\n",
    "sc = SparkContext(conf = conf)"
   ]
  },
  {
   "cell_type": "code",
   "execution_count": 108,
   "metadata": {
    "collapsed": false
   },
   "outputs": [
    {
     "name": "stdout",
     "output_type": "stream",
     "text": [
      "B\t{'C': 1}\r\n",
      "C\t{'B': 1}\r\n",
      "D\t{'A': 1, 'B': 1}\r\n",
      "E\t{'D': 1, 'B': 1, 'F': 1}\r\n",
      "F\t{'B': 1, 'E': 1}\r\n",
      "G\t{'B': 1, 'E': 1}\r\n",
      "H\t{'B': 1, 'E': 1}\r\n",
      "I\t{'B': 1, 'E': 1}\r\n",
      "J\t{'E': 1}\r\n",
      "K\t{'E': 1}\r\n"
     ]
    }
   ],
   "source": [
    "!cat ./PageRank-test.txt"
   ]
  },
  {
   "cell_type": "code",
   "execution_count": 109,
   "metadata": {
    "collapsed": true
   },
   "outputs": [],
   "source": [
    "raw_data = sc.textFile(\"./PageRank-test.txt\")\n",
    "\n",
    "#process data\n",
    "\n",
    "def processLine(line):\n",
    "    splits = line.strip().split('\\t')\n",
    "    return [splits[0], eval(splits[1])]\n",
    "data = raw_data.map(processLine).cache()"
   ]
  },
  {
   "cell_type": "code",
   "execution_count": 110,
   "metadata": {
    "collapsed": true
   },
   "outputs": [],
   "source": [
    "#count nodes\n",
    "def mapCount(entry):\n",
    "    yield (str(entry[0]), 1)\n",
    "    for key, value in entry[1].items():\n",
    "        yield (key, 1)\n",
    "        \n",
    "nodecount = data.flatMap(mapCount).reduceByKey(lambda x, y: 1).count()\n",
    "broadcast_nodecount = sc.broadcast(nodecount)"
   ]
  },
  {
   "cell_type": "code",
   "execution_count": 111,
   "metadata": {
    "collapsed": false
   },
   "outputs": [
    {
     "name": "stdout",
     "output_type": "stream",
     "text": [
      "There are 11 listed nodes.\n"
     ]
    }
   ],
   "source": [
    "print \"There are \" + str(broadcast_nodecount.value) + \" listed nodes.\""
   ]
  },
  {
   "cell_type": "code",
   "execution_count": 120,
   "metadata": {
    "collapsed": false
   },
   "outputs": [
    {
     "name": "stdout",
     "output_type": "stream",
     "text": [
      "[('A', [{}, 0.09090909090909091]), ('C', [{'B': 1}, 0.09090909090909091]), ('B', [{'C': 1}, 0.09090909090909091]), ('E', [{'B': 1, 'D': 1, 'F': 1}, 0.09090909090909091]), ('D', [{'A': 1, 'B': 1}, 0.09090909090909091]), ('G', [{'B': 1, 'E': 1}, 0.09090909090909091]), ('F', [{'B': 1, 'E': 1}, 0.09090909090909091]), ('I', [{'B': 1, 'E': 1}, 0.09090909090909091]), ('H', [{'B': 1, 'E': 1}, 0.09090909090909091]), ('K', [{'E': 1}, 0.09090909090909091]), ('J', [{'E': 1}, 0.09090909090909091])]\n",
      "1.0\n"
     ]
    }
   ],
   "source": [
    "#prep data\n",
    "#nodes that don't have edges need to be better represented\n",
    "\n",
    "def prep_map(entry):\n",
    "    nodeID = entry[0]\n",
    "    edges = entry[1]\n",
    "    for edge, weight in edges.items():\n",
    "        yield (str(edge.strip()), {})\n",
    "    yield (str(nodeID), edges)\n",
    "    \n",
    "def prep_reduce(x, y):\n",
    "    edges = {}\n",
    "    for key, value in x.items():\n",
    "        edges[key] = value\n",
    "    for key, value in y.items():\n",
    "        edges[key] = value\n",
    "    return edges\n",
    "\n",
    "total_pr = sc.accumulator(0.0)\n",
    "\n",
    "def init_entry(entry):\n",
    "    total_pr.add(1.0 / broadcast_nodecount.value)\n",
    "    return (entry[0], [entry[1], 1.0 / broadcast_nodecount.value])\n",
    "\n",
    "prepped_data = data.flatMap(prep_map).reduceByKey(prep_reduce).map(init_entry).cache()\n",
    "\n",
    "print prepped_data.collect()\n",
    "\n",
    "print total_pr.value\n"
   ]
  },
  {
   "cell_type": "code",
   "execution_count": 116,
   "metadata": {
    "collapsed": true
   },
   "outputs": [],
   "source": [
    "accum_dangling_mass = sc.accumulator(0.0)\n",
    "accum_mass_moved = sc.accumulator(0)\n",
    "\n",
    "broadcast_damping_factor = sc.broadcast(.15)\n",
    "broadcast_dangling_mass = sc.broadcast(0.0)"
   ]
  },
  {
   "cell_type": "code",
   "execution_count": 183,
   "metadata": {
    "collapsed": true
   },
   "outputs": [],
   "source": [
    "def phaseOneMapper(entry):\n",
    "    label = entry[0]\n",
    "    edges = entry[1][0]\n",
    "    pr = entry[1][1]\n",
    "\n",
    "    if len(edges) == 0:\n",
    "        accum_dangling_mass.add(pr)\n",
    "    else:\n",
    "        forwarding_pr = pr / len(edges)\n",
    "        for edge, weight in edges.items():\n",
    "            yield (edge, [{}, forwarding_pr])\n",
    "    yield (label, [edges, 0.0])\n",
    "\n",
    "def phaseOneReducer(x, y):\n",
    "    edges = {}\n",
    "    for edge, weight in x[0].items():\n",
    "        edges[edge] = weight\n",
    "    for edge, weight in y[0].items():\n",
    "        edges[edge] = weight\n",
    "    return [edges, x[1] + y[1]]\n",
    "\n",
    "def finalize(entry, dangling_mass):\n",
    "    label = str(entry[0])\n",
    "    edges = entry[1][0]\n",
    "    pr = entry[1][1]\n",
    "\n",
    "    pr_prime = broadcast_damping_factor.value * (1.0 / broadcast_nodecount.value) + \\\n",
    "    (1 - broadcast_damping_factor.value) * (dangling_mass / broadcast_nodecount.value + pr)\n",
    "\n",
    "    return (label, [edges, pr_prime])\n",
    "\n",
    "    "
   ]
  },
  {
   "cell_type": "code",
   "execution_count": 139,
   "metadata": {
    "collapsed": false
   },
   "outputs": [
    {
     "name": "stdout",
     "output_type": "stream",
     "text": [
      "[('A', [{}, 0.0]), ('B', [{}, 0.09090909090909091]), ('C', [{'B': 1}, 0.0]), ('C', [{}, 0.09090909090909091]), ('B', [{'C': 1}, 0.0]), ('B', [{}, 0.030303030303030304]), ('D', [{}, 0.030303030303030304]), ('F', [{}, 0.030303030303030304]), ('E', [{'B': 1, 'D': 1, 'F': 1}, 0.0]), ('A', [{}, 0.045454545454545456]), ('B', [{}, 0.045454545454545456]), ('D', [{'A': 1, 'B': 1}, 0.0]), ('B', [{}, 0.045454545454545456]), ('E', [{}, 0.045454545454545456]), ('G', [{'B': 1, 'E': 1}, 0.0]), ('B', [{}, 0.045454545454545456]), ('E', [{}, 0.045454545454545456]), ('F', [{'B': 1, 'E': 1}, 0.0]), ('B', [{}, 0.045454545454545456]), ('E', [{}, 0.045454545454545456]), ('I', [{'B': 1, 'E': 1}, 0.0]), ('B', [{}, 0.045454545454545456]), ('E', [{}, 0.045454545454545456]), ('H', [{'B': 1, 'E': 1}, 0.0]), ('E', [{}, 0.09090909090909091]), ('K', [{'E': 1}, 0.0]), ('E', [{}, 0.09090909090909091]), ('J', [{'E': 1}, 0.0])]\n",
      "1.0\n"
     ]
    }
   ],
   "source": [
    "#initial testing\n",
    "accum_dangling_mass = sc.accumulator(0.0)\n",
    "\n",
    "broadcast_damping_factor = sc.broadcast(.15)\n",
    "\n",
    "print prepped_data.flatMap(phaseOneMapper).collect()\n",
    "\n",
    "accum_dangling_mass = sc.accumulator(0.0)\n",
    "\n",
    "\n",
    "print prepped_data.flatMap(phaseOneMapper).map(lambda x: x[1][1]).reduce(lambda x, y: x + y) + \\\n",
    "    accum_dangling_mass.value\n",
    "\n",
    "\n",
    "#                 .reduceByKey(phaseOneReducer)\\\n",
    "#                 .map(lambda x: finalize(x, accum_dangling_mass.value))\\\n",
    "#                 .collect()\n"
   ]
  },
  {
   "cell_type": "code",
   "execution_count": 144,
   "metadata": {
    "collapsed": false
   },
   "outputs": [
    {
     "name": "stdout",
     "output_type": "stream",
     "text": [
      "[('A', [{}, 0.0]), ('B', [{}, 0.09090909090909091]), ('C', [{'B': 1}, 0.0]), ('C', [{}, 0.09090909090909091]), ('B', [{'C': 1}, 0.0]), ('B', [{}, 0.030303030303030304]), ('D', [{}, 0.030303030303030304]), ('F', [{}, 0.030303030303030304]), ('E', [{'B': 1, 'D': 1, 'F': 1}, 0.0]), ('A', [{}, 0.045454545454545456]), ('B', [{}, 0.045454545454545456]), ('D', [{'A': 1, 'B': 1}, 0.0]), ('B', [{}, 0.045454545454545456]), ('E', [{}, 0.045454545454545456]), ('G', [{'B': 1, 'E': 1}, 0.0]), ('B', [{}, 0.045454545454545456]), ('E', [{}, 0.045454545454545456]), ('F', [{'B': 1, 'E': 1}, 0.0]), ('B', [{}, 0.045454545454545456]), ('E', [{}, 0.045454545454545456]), ('I', [{'B': 1, 'E': 1}, 0.0]), ('B', [{}, 0.045454545454545456]), ('E', [{}, 0.045454545454545456]), ('H', [{'B': 1, 'E': 1}, 0.0]), ('E', [{}, 0.09090909090909091]), ('K', [{'E': 1}, 0.0]), ('E', [{}, 0.09090909090909091]), ('J', [{'E': 1}, 0.0])]\n"
     ]
    },
    {
     "data": {
      "text/plain": [
       "1.0"
      ]
     },
     "execution_count": 144,
     "metadata": {},
     "output_type": "execute_result"
    }
   ],
   "source": [
    "#phase two testing\n",
    "\n",
    "\n",
    "broadcast_damping_factor = sc.broadcast(.15)\n",
    "\n",
    "accum_dangling_mass = sc.accumulator(0.0)\n",
    "\n",
    "print prepped_data.flatMap(phaseOneMapper).collect()\n",
    "\n",
    "accum_dangling_mass = sc.accumulator(0.0)\n",
    "\n",
    "\n",
    "prepped_data.flatMap(phaseOneMapper).reduceByKey(phaseOneReducer).collect()\n",
    "#                 .map(lambda x: finalize(x, accum_dangling_mass.value))\\\n",
    "#                 .collect()\n",
    "\n",
    "accum_dangling_mass = sc.accumulator(0.0)\n",
    "prepped_data.flatMap(phaseOneMapper)\\\n",
    "    .reduceByKey(phaseOneReducer)\\\n",
    "    .map(lambda x: x[1][1])\\\n",
    "    .reduce(lambda x, y: x + y)\\\n",
    "    + accum_dangling_mass.value\n"
   ]
  },
  {
   "cell_type": "code",
   "execution_count": 185,
   "metadata": {
    "collapsed": false
   },
   "outputs": [
    {
     "name": "stdout",
     "output_type": "stream",
     "text": [
      "[('A', [{}, 0.0]), ('B', [{}, 0.09090909090909091]), ('C', [{'B': 1}, 0.0]), ('C', [{}, 0.09090909090909091]), ('B', [{'C': 1}, 0.0]), ('B', [{}, 0.030303030303030304]), ('D', [{}, 0.030303030303030304]), ('F', [{}, 0.030303030303030304]), ('E', [{'B': 1, 'D': 1, 'F': 1}, 0.0]), ('A', [{}, 0.045454545454545456]), ('B', [{}, 0.045454545454545456]), ('D', [{'A': 1, 'B': 1}, 0.0]), ('B', [{}, 0.045454545454545456]), ('E', [{}, 0.045454545454545456]), ('G', [{'B': 1, 'E': 1}, 0.0]), ('B', [{}, 0.045454545454545456]), ('E', [{}, 0.045454545454545456]), ('F', [{'B': 1, 'E': 1}, 0.0]), ('B', [{}, 0.045454545454545456]), ('E', [{}, 0.045454545454545456]), ('I', [{'B': 1, 'E': 1}, 0.0]), ('B', [{}, 0.045454545454545456]), ('E', [{}, 0.045454545454545456]), ('H', [{'B': 1, 'E': 1}, 0.0]), ('E', [{}, 0.09090909090909091]), ('K', [{'E': 1}, 0.0]), ('E', [{}, 0.09090909090909091]), ('J', [{'E': 1}, 0.0])]\n",
      "('A', [{}, 0.045454545454545456])\n",
      "('C', [{'B': 1}, 0.09090909090909091])\n",
      "('B', [{'C': 1}, 0.34848484848484856])\n",
      "('E', [{'B': 1, 'D': 1, 'F': 1}, 0.36363636363636365])\n",
      "('D', [{'A': 1, 'B': 1}, 0.030303030303030304])\n",
      "('G', [{'B': 1, 'E': 1}, 0.0])\n",
      "('F', [{'B': 1, 'E': 1}, 0.030303030303030304])\n",
      "('I', [{'B': 1, 'E': 1}, 0.0])\n",
      "('H', [{'B': 1, 'E': 1}, 0.0])\n",
      "('K', [{'E': 1}, 0.0])\n",
      "('J', [{'E': 1}, 0.0])\n",
      "[('A', [{}, 0.059297520661157024]), ('C', [{'B': 1}, 0.09793388429752066]), ('B', [{'C': 1}, 0.31687327823691464]), ('E', [{'B': 1, 'D': 1, 'F': 1}, 0.32975206611570246]), ('D', [{'A': 1, 'B': 1}, 0.046418732782369146]), ('G', [{'B': 1, 'E': 1}, 0.02066115702479339]), ('F', [{'B': 1, 'E': 1}, 0.046418732782369146]), ('I', [{'B': 1, 'E': 1}, 0.02066115702479339]), ('H', [{'B': 1, 'E': 1}, 0.02066115702479339]), ('K', [{'E': 1}, 0.02066115702479339]), ('J', [{'E': 1}, 0.02066115702479339])]\n",
      "1.0\n"
     ]
    }
   ],
   "source": [
    "#full pipeline testing\n",
    "\n",
    "\n",
    "broadcast_damping_factor = sc.broadcast(.15)\n",
    "\n",
    "accum_dangling_mass = sc.accumulator(0.0)\n",
    "\n",
    "print prepped_data.flatMap(phaseOneMapper).collect()\n",
    "\n",
    "accum_dangling_mass = sc.accumulator(0.0)\n",
    "\n",
    "! rm -rf ./intermediate/\n",
    "prepped_data.flatMap(phaseOneMapper).reduceByKey(phaseOneReducer).saveAsTextFile(\"./intermediate\")\n",
    "!cat intermediate/part-00000\n",
    "\n",
    "danging_mass = accum_dangling_mass.value\n",
    "\n",
    "intermediate_data = sc.textFile(\"./intermediate/part-00000\").map(deserialize)\\\n",
    "                .map(lambda x: finalize(x, danging_mass))\n",
    "    \n",
    "print intermediate_data.collect()\n",
    "    \n",
    "total_pr =  intermediate_data.map(lambda x: x[1][1]).reduce(lambda x, y: x + y)\n",
    "        \n",
    "\n",
    "\n",
    "print total_pr"
   ]
  },
  {
   "cell_type": "code",
   "execution_count": 203,
   "metadata": {
    "collapsed": false
   },
   "outputs": [
    {
     "name": "stdout",
     "output_type": "stream",
     "text": [
      "[('A', [{}, 0.0, 0.0]), ('B', [{}, 0.09090909090909091, 0.0]), ('C', [{'B': 1}, 0.0, 0.0]), ('C', [{}, 0.09090909090909091, 0.0]), ('B', [{'C': 1}, 0.0, 0.0]), ('B', [{}, 0.030303030303030304, 0.0]), ('D', [{}, 0.030303030303030304, 0.0]), ('F', [{}, 0.030303030303030304, 0.0]), ('E', [{'B': 1, 'D': 1, 'F': 1}, 0.0, 0.0]), ('A', [{}, 0.045454545454545456, 0.0]), ('B', [{}, 0.045454545454545456, 0.0]), ('D', [{'A': 1, 'B': 1}, 0.0, 0.0]), ('B', [{}, 0.045454545454545456, 0.0]), ('E', [{}, 0.045454545454545456, 0.0]), ('G', [{'B': 1, 'E': 1}, 0.0, 0.0]), ('B', [{}, 0.045454545454545456, 0.0]), ('E', [{}, 0.045454545454545456, 0.0]), ('F', [{'B': 1, 'E': 1}, 0.0, 0.0]), ('B', [{}, 0.045454545454545456, 0.0]), ('E', [{}, 0.045454545454545456, 0.0]), ('I', [{'B': 1, 'E': 1}, 0.0, 0.0]), ('B', [{}, 0.045454545454545456, 0.0]), ('E', [{}, 0.045454545454545456, 0.0]), ('H', [{'B': 1, 'E': 1}, 0.0, 0.0]), ('E', [{}, 0.09090909090909091, 0.0]), ('K', [{'E': 1}, 0.0, 0.0]), ('E', [{}, 0.09090909090909091, 0.0]), ('J', [{'E': 1}, 0.0, 0.0])]\n",
      "Initial dangling mass: 0.0\n",
      "Iteration: 0\n",
      "Total dangling mass: 0.0909090909091\n",
      "Iteration: 1\n",
      "Total dangling mass: 0.0592975206612\n",
      "Iteration: 2\n",
      "Total dangling mass: 0.0379464062109\n",
      "Iteration: 3\n",
      "Total dangling mass: 0.0640190695934\n",
      "Iteration: 4\n",
      "Total dangling mass: 0.0375959647951\n",
      "Iteration: 5\n",
      "Total dangling mass: 0.0386749363905\n",
      "Iteration: 6\n",
      "Total dangling mass: 0.0341177257382\n",
      "Iteration: 7\n",
      "Total dangling mass: 0.0346526855821\n",
      "Iteration: 8\n",
      "Total dangling mass: 0.0332641479909\n",
      "Iteration: 9\n",
      "Total dangling mass: 0.0332687068063\n",
      "Iteration: 10\n",
      "Total dangling mass: 0.0329301017862\n",
      "Iteration: 11\n",
      "Total dangling mass: 0.0329194443643\n",
      "Iteration: 12\n",
      "Total dangling mass: 0.0328282893463\n",
      "Iteration: 13\n",
      "Total dangling mass: 0.0328197384167\n",
      "Iteration: 14\n",
      "Total dangling mass: 0.0327957341511\n",
      "Iteration: 15\n",
      "Total dangling mass: 0.0327922737609\n",
      "Iteration: 16\n",
      "Total dangling mass: 0.0327858041648\n",
      "Iteration: 17\n",
      "Total dangling mass: 0.0327845372023\n",
      "Iteration: 18\n",
      "Total dangling mass: 0.0327827832963\n",
      "Iteration: 19\n",
      "Total dangling mass: 0.0327823578046\n",
      "Iteration: 20\n",
      "Total dangling mass: 0.032781877034\n",
      "Iteration: 21\n",
      "Total dangling mass: 0.0327817396015\n",
      "Iteration: 22\n",
      "Total dangling mass: 0.0327816067481\n",
      "Iteration: 23\n",
      "Total dangling mass: 0.032781563641\n",
      "Iteration: 24\n",
      "Total dangling mass: 0.0327815266405\n",
      "Iteration: 25\n",
      "Total dangling mass: 0.0327815133704\n",
      "Iteration: 26\n",
      "Total dangling mass: 0.0327815029967\n",
      "Iteration: 27\n",
      "Total dangling mass: 0.0327814989681\n",
      "Iteration: 28\n",
      "Total dangling mass: 0.0327814960427\n",
      "Iteration: 29\n",
      "Total dangling mass: 0.0327814948319\n",
      "\n",
      "\n",
      "\n",
      "\n",
      "Final results:\n",
      "\n",
      "1.0\n"
     ]
    }
   ],
   "source": [
    "# turn into a loop\n",
    "\n",
    "\n",
    "broadcast_damping_factor = sc.broadcast(.15)\n",
    "\n",
    "accum_dangling_mass = sc.accumulator(0.0)\n",
    "\n",
    "print prepped_data.flatMap(phaseOneMapper).collect()\n",
    "\n",
    "accum_dangling_mass = sc.accumulator(0.0)\n",
    "\n",
    "prepped_data.flatMap(phaseOneMapper).reduceByKey(phaseOneReducer).cache()\n",
    "prepped_data.take(1)\n",
    "\n",
    "dangling_mass = accum_dangling_mass.value\n",
    "\n",
    "print \"Initial dangling mass: \" + str(dangling_mass)\n",
    "\n",
    "intermediate_data = prepped_data.map(lambda x: finalize(x, dangling_mass)).cache()\n",
    "intermediate_data.take(1)\n",
    "    \n",
    "for i in range(30):\n",
    "    \n",
    "    print \"Iteration: \" + str(i)\n",
    "    accum_dangling_mass = sc.accumulator(0.0)\n",
    "\n",
    "    intermediate_data = intermediate_data.flatMap(phaseOneMapper).reduceByKey(phaseOneReducer)\n",
    "    intermediate_data.cache()\n",
    "    intermediate_data.take(1)\n",
    "    \n",
    "    \n",
    "    dangling_mass = accum_dangling_mass.value\n",
    "    print \"Total dangling mass: \" + str(dangling_mass)\n",
    "\n",
    "    intermediate_data = intermediate_data.map(lambda x: finalize(x, dangling_mass))\n",
    "    intermediate_data.cache()\n",
    "    intermediate_data.take(1)\n",
    "    \n",
    "    \n",
    "print \"\\n\\n\\n\"\n",
    "print \"Final results:\\n\"\n",
    "    \n",
    "\n",
    "    \n",
    "total_pr =  intermediate_data.map(lambda x: x[1][1]).reduce(lambda x, y: x + y)\n",
    "print total_pr"
   ]
  },
  {
   "cell_type": "code",
   "execution_count": 204,
   "metadata": {
    "collapsed": false
   },
   "outputs": [
    {
     "data": {
      "text/plain": [
       "[('A', [{}, 0.03278149400279799, 0.0]),\n",
       " ('C', [{'B': 1}, 0.34371441659524926, 0.0]),\n",
       " ('B', [{'C': 1}, 0.3835968127677896, 0.0]),\n",
       " ('E', [{'B': 1, 'D': 1, 'F': 1}, 0.08088569474079228, 0.0]),\n",
       " ('D', [{'A': 1, 'B': 1}, 0.03908709308143792, 0.0]),\n",
       " ('G', [{'B': 1, 'E': 1}, 0.01616947914609888, 0.0]),\n",
       " ('F', [{'B': 1, 'E': 1}, 0.03908709308143792, 0.0]),\n",
       " ('I', [{'B': 1, 'E': 1}, 0.01616947914609888, 0.0]),\n",
       " ('H', [{'B': 1, 'E': 1}, 0.01616947914609888, 0.0]),\n",
       " ('K', [{'E': 1}, 0.01616947914609888, 0.0]),\n",
       " ('J', [{'E': 1}, 0.01616947914609888, 0.0])]"
      ]
     },
     "execution_count": 204,
     "metadata": {},
     "output_type": "execute_result"
    }
   ],
   "source": [
    "intermediate_data.collect()"
   ]
  },
  {
   "cell_type": "code",
   "execution_count": 233,
   "metadata": {
    "collapsed": true
   },
   "outputs": [],
   "source": [
    "# adding convergence checking\n",
    "\n",
    "def mapCount(entry):\n",
    "    yield (str(entry[0]), 1)\n",
    "    for key, value in entry[1].items():\n",
    "        yield (key, 1)\n",
    "        \n",
    "\n",
    "def processLine(line):\n",
    "    splits = line.strip().split('\\t')\n",
    "    return [splits[0], eval(splits[1])]\n",
    "\n",
    "def prep_map(entry):\n",
    "    nodeID = entry[0]\n",
    "    edges = entry[1]\n",
    "    for edge, weight in edges.items():\n",
    "        yield (str(edge.strip()), {})\n",
    "    yield (str(nodeID), edges)\n",
    "    \n",
    "def prep_reduce(x, y):\n",
    "    edges = {}\n",
    "    for key, value in x.items():\n",
    "        edges[key] = value\n",
    "    for key, value in y.items():\n",
    "        edges[key] = value\n",
    "    return edges\n",
    "\n",
    "accum_total_pr = sc.accumulator(0.0)\n",
    "\n",
    "def init_entry(entry):\n",
    "    accum_total_pr.add(1.0 / broadcast_nodecount.value)\n",
    "    return (entry[0], [entry[1], 1.0 / broadcast_nodecount.value, 0.0]) #the 0.0 is the previous pr \n",
    "\n",
    "accum_dangling_mass = sc.accumulator(0.0)\n",
    "accum_moved_mass = sc.accumulator(0.0)\n",
    "\n",
    "\n",
    "def phaseOneMapper(entry):\n",
    "    label = entry[0]\n",
    "    edges = entry[1][0]\n",
    "    pr = entry[1][1]\n",
    "    previous = pr\n",
    "\n",
    "    if len(edges) == 0:\n",
    "        accum_dangling_mass.add(pr)\n",
    "    else:\n",
    "        forwarding_pr = pr / len(edges)\n",
    "        for edge, weight in edges.items():\n",
    "            yield (edge, [{}, forwarding_pr, 0.0])\n",
    "    yield (label, [edges, 0.0, pr])\n",
    "\n",
    "def phaseOneReducer(x, y):\n",
    "    edges = {}\n",
    "    for edge, weight in x[0].items():\n",
    "        edges[edge] = weight\n",
    "    for edge, weight in y[0].items():\n",
    "        edges[edge] = weight\n",
    "    return [edges, x[1] + y[1], x[2] + y[2]]\n",
    "\n",
    "def finalize(entry, dangling_mass):\n",
    "    label = str(entry[0])\n",
    "    edges = entry[1][0]\n",
    "    pr = entry[1][1]\n",
    "    previous = entry[1][2]\n",
    "    pr_prime = broadcast_damping_factor.value * (1.0 / broadcast_nodecount.value) + \\\n",
    "    (1 - broadcast_damping_factor.value) * (dangling_mass / broadcast_nodecount.value + pr)\n",
    "    accum_moved_mass.add(((pr_prime - previous)**2)**.5)\n",
    "    return (label, [edges, pr_prime])\n",
    "\n",
    "    "
   ]
  },
  {
   "cell_type": "code",
   "execution_count": 239,
   "metadata": {
    "collapsed": false
   },
   "outputs": [
    {
     "name": "stdout",
     "output_type": "stream",
     "text": [
      "There are 11 nodes in the dataset\n",
      "(0.12020111084)\n",
      "\n",
      "Data prepped\n",
      "(0.126798868179)\n",
      "\n",
      "Initial dangling mass: 0.0\n",
      "Dangling mass distributed\n",
      "(0.1082239151)\n",
      "\n",
      "Iteration 1 runtime: 0.195286989212\n",
      "Iteration 2 runtime: 0.195838212967\n",
      "Iteration 3 runtime: 0.19593000412\n",
      "Iteration 4 runtime: 0.23746919632\n",
      "Iteration 5 runtime: 0.322229862213\n",
      "Iteration 6 runtime: 0.201852798462\n",
      "Iteration 7 runtime: 0.198018074036\n",
      "Iteration 8 runtime: 0.19601392746\n",
      "Iteration 9 runtime: 0.199529886246\n",
      "Iteration 10 runtime: 0.196079969406\n",
      "Iteration 11 runtime: 0.195308923721\n",
      "Iteration 12 runtime: 0.196223974228\n",
      "Iteration 13 runtime: 0.236058950424\n",
      "Iteration 14 runtime: 0.195821046829\n",
      "Iteration 15 runtime: 0.204102993011\n",
      "Iteration 16 runtime: 0.192075967789\n",
      "Iteration 17 runtime: 0.200066804886\n",
      "Iteration 18 runtime: 0.191590070724\n",
      "Iteration 19 runtime: 0.204566001892\n",
      "Iteration 20 runtime: 0.195238113403\n",
      "Iteration 21 runtime: 0.207958936691\n",
      "Iteration 22 runtime: 0.195813894272\n",
      "Iteration 23 runtime: 0.203940868378\n",
      "Iteration 24 runtime: 0.191937923431\n",
      "Iteration 25 runtime: 0.203814029694\n",
      "Iteration 26 runtime: 0.1959400177\n",
      "Iteration 27 runtime: 0.264000892639\n",
      "Iteration 28 runtime: 0.201658964157\n",
      "Iteration 29 runtime: 0.203813076019\n",
      "Iteration 30 runtime: 0.198157787323\n",
      "Iteration 31 runtime: 0.207841157913\n",
      "Iteration 32 runtime: 0.207921981812\n",
      "Iteration 33 runtime: 0.201827049255\n",
      "Iteration 34 runtime: 0.204080104828\n",
      "Iteration 35 runtime: 0.20635008812\n",
      "Iteration 36 runtime: 0.199351072311\n",
      "Iteration 37 runtime: 0.203926086426\n",
      "Iteration 38 runtime: 0.195975065231\n",
      "\n",
      "\n",
      "\n",
      "\n",
      "Results:\n",
      "\n",
      "Iterations: 38\n",
      "Runtime: 8.22498393059\n",
      "Moved mass on final iteration: 0.000953811819252\n"
     ]
    },
    {
     "data": {
      "text/plain": [
       "[<matplotlib.lines.Line2D at 0x7fd568059710>]"
      ]
     },
     "execution_count": 239,
     "metadata": {},
     "output_type": "execute_result"
    },
    {
     "data": {
      "image/png": "[encoded data removed]",
      "text/plain": [
       "<matplotlib.figure.Figure at 0x7fd5680db650>"
      ]
     },
     "metadata": {},
     "output_type": "display_data"
    }
   ],
   "source": [
    "verbose = False\n",
    "\n",
    "data = sc.textFile(\"./PageRank-test.txt\").map(processLine)\n",
    "\n",
    "overall_start_time = time.time()\n",
    "\n",
    "start_time = time.time()\n",
    "nodecount = data.flatMap(mapCount).reduceByKey(lambda x, y: 1).count()\n",
    "nodecount_time = time.time() - start_time\n",
    "broadcast_nodecount = sc.broadcast(nodecount)\n",
    "\n",
    "print \"There are \" + str(broadcast_nodecount.value) + \" nodes in the dataset\"\n",
    "print \"(\" + str(nodecount_time) + \")\\n\"\n",
    "\n",
    "prepped_data = data.flatMap(prep_map).reduceByKey(prep_reduce).map(init_entry)\n",
    "\n",
    "broadcast_damping_factor = sc.broadcast(.15)\n",
    "\n",
    "accum_dangling_mass = sc.accumulator(0.0)\n",
    "accum_moved_mass = sc.accumulator(1.0)\n",
    "accum_total_pr = sc.accumulator(0.0)\n",
    "\n",
    "start_time = time.time()\n",
    "prepped_data.flatMap(phaseOneMapper).reduceByKey(phaseOneReducer).cache()\n",
    "prepped_data.take(1)\n",
    "prep_time = time.time() - start_time\n",
    "print \"Data prepped\"\n",
    "print \"(\" + str(prep_time) + \")\\n\"\n",
    "\n",
    "dangling_mass = accum_dangling_mass.value\n",
    "\n",
    "print \"Initial dangling mass: \" + str(dangling_mass)\n",
    "\n",
    "start_time = time.time()\n",
    "intermediate_data = prepped_data.map(lambda x: finalize(x, dangling_mass)).cache()\n",
    "intermediate_data.take(1)\n",
    "distribute_time = time.time() - start_time\n",
    "print \"Dangling mass distributed\"\n",
    "print \"(\" + str(distribute_time) + \")\\n\"\n",
    "\n",
    "\n",
    "deltas = []\n",
    "i = 0\n",
    "while accum_moved_mass.value >= .001 and i < 40:\n",
    "    i += 1\n",
    "    if verbose:\n",
    "        print \"Iteration: \" + str(i)\n",
    "    accum_dangling_mass = sc.accumulator(0.0)\n",
    "    accum_moved_mass = sc.accumulator(0.0)\n",
    "    \n",
    "    iteration_start_time = time.time()\n",
    "\n",
    "    intermediate_data = intermediate_data.flatMap(phaseOneMapper).reduceByKey(phaseOneReducer)\n",
    "    intermediate_data.cache()\n",
    "    intermediate_data.take(1)\n",
    "    \n",
    "    \n",
    "    dangling_mass = accum_dangling_mass.value\n",
    "    if verbose:\n",
    "        print \"Total dangling mass: \" + str(dangling_mass)\n",
    "\n",
    "    intermediate_data = intermediate_data.map(lambda x: finalize(x, dangling_mass))\n",
    "    intermediate_data.cache()\n",
    "    intermediate_data.take(1)\n",
    "    if verbose:\n",
    "        print \"Moved mass: \" + str(accum_moved_mass.value) \n",
    "        print \"Total pr: \" + str(intermediate_data.map(lambda x: x[1][1]).reduce(lambda x, y: x + y)) + \"\\n\"\n",
    "    deltas.append(accum_moved_mass.value)\n",
    "    iteration_runtime = time.time() - iteration_start_time\n",
    "    print \"Iteration \" + str(i) + \" runtime: \" + str(iteration_runtime) \n",
    "    \n",
    "overall_runtime = time.time() - overall_start_time\n",
    "    \n",
    "print \"\\n\\n\\n\"\n",
    "print \"Results:\\n\"\n",
    "print \"Iterations: \" + str(i)\n",
    "print \"Runtime: \" + str(overall_runtime)\n",
    "print \"Moved mass on final iteration: \" + str(accum_moved_mass.value)\n",
    "plt.plot(deltas)\n",
    "\n",
    "\n"
   ]
  },
  {
   "cell_type": "code",
   "execution_count": null,
   "metadata": {
    "collapsed": true
   },
   "outputs": [],
   "source": [
    "print \"Total pr :\" + str(intermediate_data.map(lambda x: x[1][1))"
   ]
  },
  {
   "cell_type": "markdown",
   "metadata": {},
   "source": [
    "#### Results:\n",
    ".1: 10\n",
    "\n",
    ".01: 24\n",
    "\n",
    ".001: 38"
   ]
  },
  {
   "cell_type": "code",
   "execution_count": null,
   "metadata": {
    "collapsed": true
   },
   "outputs": [],
   "source": []
  }
 ],
 "metadata": {
  "kernelspec": {
   "display_name": "Python 2",
   "language": "python",
   "name": "python2"
  },
  "language_info": {
   "codemirror_mode": {
    "name": "ipython",
    "version": 2
   },
   "file_extension": ".py",
   "mimetype": "text/x-python",
   "name": "python",
   "nbconvert_exporter": "python",
   "pygments_lexer": "ipython2",
   "version": "2.7.11"
  }
 },
 "nbformat": 4,
 "nbformat_minor": 0
}
