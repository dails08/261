{
 "cells": [
  {
   "cell_type": "code",
   "execution_count": 1,
   "metadata": {
    "collapsed": true
   },
   "outputs": [],
   "source": [
    "%matplotlib inline"
   ]
  },
  {
   "cell_type": "code",
   "execution_count": null,
   "metadata": {
    "collapsed": true
   },
   "outputs": [],
   "source": []
  },
  {
   "cell_type": "markdown",
   "metadata": {},
   "source": [
    "## 11.3\n",
    "Generate 2 sets of linearly separable data with 100 data points each using the data generation code provided below and plot each in separate plots. Call one the training set and the other the testing set.\n",
    "\n",
    "Modify this data generation code to generating non-linearly separable training and testing datasets (with approximately 10% of the data falling on the wrong side of the separating hyperplane. Plot the resulting datasets. \n",
    "\n",
    "NOTE: For the remainder of this problem please use the non-linearly separable training and testing datasets."
   ]
  },
  {
   "cell_type": "code",
   "execution_count": 80,
   "metadata": {
    "collapsed": true
   },
   "outputs": [],
   "source": [
    "from numpy.random import rand\n",
    "def generateData(n):\n",
    " \"\"\" \n",
    "  generates a 2D linearly separable dataset with n samples. \n",
    "  The third element of the sample is the label\n",
    " \"\"\"\n",
    " xb = (rand(n)*2-1)/2-0.5\n",
    " yb = (rand(n)*2-1)/2+0.5\n",
    " xr = (rand(n)*2-1)/2+0.5\n",
    " yr = (rand(n)*2-1)/2-0.5\n",
    " inputs = []\n",
    " for i in range(len(xb)):\n",
    "  inputs.append([xb[i],yb[i],1])\n",
    "  inputs.append([xr[i],yr[i],-1])\n",
    " return inputs"
   ]
  },
  {
   "cell_type": "code",
   "execution_count": 81,
   "metadata": {
    "collapsed": true
   },
   "outputs": [],
   "source": [
    "training_1 = generateData(100)\n",
    "training_2 = generateData(100)"
   ]
  },
  {
   "cell_type": "code",
   "execution_count": 82,
   "metadata": {
    "collapsed": false
   },
   "outputs": [],
   "source": [
    "import matplotlib.pyplot as plt\n",
    "\n",
    "def dataPlot(data1):\n",
    "    cols = {1:'b', -1: 'r'}\n",
    "    for dp in data1:\n",
    "        plt.plot(dp[0], dp[1], cols[dp[2]]+'o')\n",
    "    \n",
    "    plt.xlabel('x1')\n",
    "    plt.ylabel('x2')\n",
    "    "
   ]
  },
  {
   "cell_type": "code",
   "execution_count": 83,
   "metadata": {
    "collapsed": false
   },
   "outputs": [
    {
     "data": {
      "image/png": "[encoded data removed]",
      "text/plain": [
       "<matplotlib.figure.Figure at 0x7fb435749450>"
      ]
     },
     "metadata": {},
     "output_type": "display_data"
    }
   ],
   "source": [
    "dataPlot(training_1)"
   ]
  },
  {
   "cell_type": "code",
   "execution_count": 84,
   "metadata": {
    "collapsed": false
   },
   "outputs": [],
   "source": [
    "from numpy.random import rand\n",
    "def generateDataMessy(n):\n",
    "    \"\"\" \n",
    "    generates a 2D linearly separable dataset with n samples. \n",
    "    The third element of the sample is the label\n",
    "    \"\"\"\n",
    "    xb = (rand(n)*2-1)/2-0.5\n",
    "    yb = (rand(n)*2-1)/2+0.5\n",
    "    for i in range(len(xb)):\n",
    "        if rand(1)[0] <= .1:\n",
    "            xb[i] = xb[i] * -1\n",
    "            yb[i] = yb[i] * -1\n",
    "    xr = (rand(n)*2-1)/2+0.5\n",
    "    yr = (rand(n)*2-1)/2-0.5\n",
    "    for i in range(len(xb)):\n",
    "        if rand(1)[0] <= .1:\n",
    "            xr[i] = xr[i] * -1\n",
    "            yr[i] = yr[i] * -1\n",
    "    inputs = []\n",
    "    for i in range(len(xb)):\n",
    "        inputs.append([xb[i],yb[i],1])\n",
    "        inputs.append([xr[i],yr[i],-1])\n",
    "    return inputs"
   ]
  },
  {
   "cell_type": "code",
   "execution_count": 85,
   "metadata": {
    "collapsed": true
   },
   "outputs": [],
   "source": [
    "messy_train = generateDataMessy(100)\n",
    "messy_test = generateDataMessy(100)"
   ]
  },
  {
   "cell_type": "code",
   "execution_count": 86,
   "metadata": {
    "collapsed": false
   },
   "outputs": [
    {
     "name": "stdout",
     "output_type": "stream",
     "text": [
      "[-0.52966743042631681, 0.82107283480781168]\n"
     ]
    }
   ],
   "source": [
    "print messy_train[0][:2]"
   ]
  },
  {
   "cell_type": "code",
   "execution_count": 87,
   "metadata": {
    "collapsed": false
   },
   "outputs": [
    {
     "data": {
      "image/png": "[encoded data removed]",
      "text/plain": [
       "<matplotlib.figure.Figure at 0x7fb434fb6b50>"
      ]
     },
     "metadata": {},
     "output_type": "display_data"
    }
   ],
   "source": [
    "dataPlot(messy_train)"
   ]
  },
  {
   "cell_type": "markdown",
   "metadata": {},
   "source": [
    "Using MLLib  train up a LASSO logistic regression model with the training dataset and evaluate with the testing set. What a good number of iterations for training the logistic regression model? Justify with plots and words. "
   ]
  },
  {
   "cell_type": "code",
   "execution_count": 70,
   "metadata": {
    "collapsed": true
   },
   "outputs": [],
   "source": [
    "import findspark\n",
    "findspark.init()\n",
    "from pyspark.mllib.regression import LabeledPoint\n",
    "from pyspark.mllib.classification import LogisticRegressionWithLBFGS, LogisticRegressionModel\n",
    "from pyspark import SparkConf, SparkContext"
   ]
  },
  {
   "cell_type": "code",
   "execution_count": 56,
   "metadata": {
    "collapsed": false
   },
   "outputs": [],
   "source": [
    "conf = SparkConf().setMaster('local').setAppName('myApp')\n",
    "sc = SparkContext(conf = conf)"
   ]
  },
  {
   "cell_type": "code",
   "execution_count": 256,
   "metadata": {
    "collapsed": false
   },
   "outputs": [],
   "source": [
    "def parsePoint(data):\n",
    "    if data[0] < 0:\n",
    "        return LabeledPoint(0, data[:2])\n",
    "    else:\n",
    "        return LabeledPoint(1, data[:2])"
   ]
  },
  {
   "cell_type": "code",
   "execution_count": 93,
   "metadata": {
    "collapsed": false
   },
   "outputs": [],
   "source": [
    "data = sc.parallelize(messy_train)"
   ]
  },
  {
   "cell_type": "code",
   "execution_count": 94,
   "metadata": {
    "collapsed": true
   },
   "outputs": [],
   "source": [
    "parsedData = data.map(parsePoint)"
   ]
  },
  {
   "cell_type": "code",
   "execution_count": 188,
   "metadata": {
    "collapsed": false
   },
   "outputs": [],
   "source": [
    "model = LogisticRegressionWithLBFGS.train(parsedData, iterations = 500)"
   ]
  },
  {
   "cell_type": "code",
   "execution_count": 189,
   "metadata": {
    "collapsed": false
   },
   "outputs": [
    {
     "data": {
      "text/plain": [
       "pyspark.mllib.classification.LogisticRegressionModel"
      ]
     },
     "execution_count": 189,
     "metadata": {},
     "output_type": "execute_result"
    }
   ],
   "source": [
    "type(model)"
   ]
  },
  {
   "cell_type": "code",
   "execution_count": 190,
   "metadata": {
    "collapsed": false
   },
   "outputs": [
    {
     "data": {
      "text/plain": [
       "DenseVector([-2.3296, 1.7291])"
      ]
     },
     "execution_count": 190,
     "metadata": {},
     "output_type": "execute_result"
    }
   ],
   "source": [
    "model.weights"
   ]
  },
  {
   "cell_type": "code",
   "execution_count": 111,
   "metadata": {
    "collapsed": true
   },
   "outputs": [],
   "source": [
    "test_data = sc.parallelize(messy_test)\n",
    "parsedTestData = test_data.map(parsePoint)"
   ]
  },
  {
   "cell_type": "code",
   "execution_count": 112,
   "metadata": {
    "collapsed": false
   },
   "outputs": [
    {
     "data": {
      "text/plain": [
       "PythonRDD[175] at RDD at PythonRDD.scala:43"
      ]
     },
     "execution_count": 112,
     "metadata": {},
     "output_type": "execute_result"
    }
   ],
   "source": [
    "parsedTestData"
   ]
  },
  {
   "cell_type": "code",
   "execution_count": null,
   "metadata": {
    "collapsed": true
   },
   "outputs": [],
   "source": [
    "broadcastModel = sc.broadcast(model)"
   ]
  },
  {
   "cell_type": "code",
   "execution_count": 104,
   "metadata": {
    "collapsed": false
   },
   "outputs": [
    {
     "data": {
      "text/plain": [
       "pyspark.mllib.classification.LogisticRegressionModel"
      ]
     },
     "execution_count": 104,
     "metadata": {},
     "output_type": "execute_result"
    }
   ],
   "source": [
    "type(broadcastModel.value)"
   ]
  },
  {
   "cell_type": "code",
   "execution_count": null,
   "metadata": {
    "collapsed": true
   },
   "outputs": [],
   "source": [
    "predictions = parsedTestData.map(lambda x: (x.label, broadcastModel.value.predict(x.features)))"
   ]
  },
  {
   "cell_type": "code",
   "execution_count": 125,
   "metadata": {
    "collapsed": false
   },
   "outputs": [
    {
     "data": {
      "text/plain": [
       "PythonRDD[180] at RDD at PythonRDD.scala:43"
      ]
     },
     "execution_count": 125,
     "metadata": {},
     "output_type": "execute_result"
    }
   ],
   "source": [
    "predictions"
   ]
  },
  {
   "cell_type": "code",
   "execution_count": 127,
   "metadata": {
    "collapsed": false
   },
   "outputs": [
    {
     "data": {
      "text/plain": [
       "[(False, 14), (True, 186)]"
      ]
     },
     "execution_count": 127,
     "metadata": {},
     "output_type": "execute_result"
    }
   ],
   "source": [
    "predictions.map(lambda x: (x[0] == x[1], 1)).reduceByKey(lambda x, y: x + y).collect()"
   ]
  },
  {
   "cell_type": "markdown",
   "metadata": {},
   "source": [
    "Derive and implement in Spark a weighted  LASSO logistic regression. Implement a convergence test of your choice to check for termination within your training algorithm . \n",
    "\n",
    "Weight the above training dataset as follows:  Weight each example using the inverse vector length (Euclidean norm): \n",
    "\n",
    "weight(X)= 1/||X||, \n",
    "\n",
    "where ||X|| = SQRT(X.X)= SQRT(X1^2 + X2^2)\n",
    "\n",
    "Here X is vector made up of X1 and X2.\n",
    "\n",
    "Evaluate your homegrown weighted  LASSO logistic regression on the test dataset. Report misclassification error (1 - Accuracy) and how many iterations does it took to converge.\n",
    "\n",
    "Does Spark MLLib have a weighted LASSO logistic regression implementation. If so use it and report your findings on the weighted training set and test set. "
   ]
  },
  {
   "cell_type": "code",
   "execution_count": null,
   "metadata": {
    "collapsed": true
   },
   "outputs": [],
   "source": [
    "import numpy as np"
   ]
  },
  {
   "cell_type": "code",
   "execution_count": 152,
   "metadata": {
    "collapsed": true
   },
   "outputs": [],
   "source": []
  },
  {
   "cell_type": "code",
   "execution_count": 225,
   "metadata": {
    "collapsed": true
   },
   "outputs": [],
   "source": [
    "def data_generate(seperable=True):\n",
    "    size = 100\n",
    "    np.random.seed(0)\n",
    "    x1 = np.random.uniform(-4,4,100)\n",
    "    x2 = np.random.uniform(-4,4,100)\n",
    "    coeff = [8,-3,2]\n",
    "    b = coeff.pop()\n",
    "    sd = sum([c*c for c in coeff])**0.5\n",
    "    coeff.append(b)\n",
    "    coeff = [c/sd for c in coeff]\n",
    "    v = (x1*coeff[0]+x2*coeff[1] + coeff[2])\n",
    "    y = (v>0)*2-1\n",
    "    data = np.column_stack((x1,x2))\n",
    "    idx = abs(v)>1\n",
    "    data = data[idx,:]\n",
    "    y = y[idx]\n",
    "    if not seperable:\n",
    "        wrongidx = np.random.choice(range(len(y)),6, replace =False )\n",
    "        y[wrongidx] = -y[wrongidx]\n",
    "    return data, y, coeff"
   ]
  },
  {
   "cell_type": "code",
   "execution_count": 228,
   "metadata": {
    "collapsed": false
   },
   "outputs": [],
   "source": [
    "messy_train_data, messy_train_y, messy_train_w = data_generate(False)"
   ]
  },
  {
   "cell_type": "code",
   "execution_count": 229,
   "metadata": {
    "collapsed": false
   },
   "outputs": [
    {
     "data": {
      "text/plain": [
       "(69, 2)"
      ]
     },
     "execution_count": 229,
     "metadata": {},
     "output_type": "execute_result"
    }
   ],
   "source": [
    "messy_train_data.shape"
   ]
  },
  {
   "cell_type": "code",
   "execution_count": 284,
   "metadata": {
    "collapsed": true
   },
   "outputs": [],
   "source": [
    "def lassoLogisticRegression(data, y):\n",
    "    dataRDD = sc.parallelize(np.append(y[:,None], data, axis=1)).cache()\n",
    "    w = np.random.normal(size=data.shape[1] + 1)\n",
    "    for i in range(500):\n",
    "        w_broadcast = sc.broadcast(w)\n",
    "        g = dataRDD.map(lambda x: -x[0]*(1-1/(1+np.exp(-x[0]*np.dot(w_broadcast.value,np.append(x[1:],1))))) \\\n",
    "                        *np.append(x[1:], 1)).reduce(lambda x, y: x + y) / data.shape[0]\n",
    "#         g = dataRDD.map(lambda x: -x[0]*(1-1/(1+np.exp(-x[0]*np.dot(w_broadcast.value,np.append(x[1:],1))))) \\\n",
    "#                         *np.append(x[1:], 1)).reduce(lambda x, y: x + y) / data.shape[0] # Gradient of logloss\n",
    "        wreg = w*1\n",
    "        wreg[-1] = 0\n",
    "        wreg = (wreg>0).astype(int)*2-1\n",
    "        wdelta = .05 * (g + .01* wreg)\n",
    "        if sum(abs(wdelta)) < .0001*sum(abs(w)):\n",
    "            break\n",
    "        w = w - wdelta\n",
    "    return w"
   ]
  },
  {
   "cell_type": "code",
   "execution_count": 287,
   "metadata": {
    "collapsed": false
   },
   "outputs": [],
   "source": [
    "homegrown_coeffs = lassoLogisticRegression(messy_train_data, messy_train_y)"
   ]
  },
  {
   "cell_type": "code",
   "execution_count": 288,
   "metadata": {
    "collapsed": false
   },
   "outputs": [
    {
     "data": {
      "text/plain": [
       "array([ 0.88772425, -0.04985349, -0.15249041])"
      ]
     },
     "execution_count": 288,
     "metadata": {},
     "output_type": "execute_result"
    }
   ],
   "source": [
    "homegrown_coeffs"
   ]
  },
  {
   "cell_type": "markdown",
   "metadata": {},
   "source": [
    "## 11.4\n",
    "Use the non-linearly separable training and testing datasets from HW11.3 in this problem.\n",
    "\n",
    "Using MLLib  train up a soft SVM model with the training dataset and evaluate with the testing set. What is a good number of iterations for training the SVM model? Justify with plots and words. "
   ]
  },
  {
   "cell_type": "code",
   "execution_count": null,
   "metadata": {
    "collapsed": true
   },
   "outputs": [],
   "source": [
    "from pyspark.mllib.classification import SVMWithSGD, SVMModel\n",
    "from pyspark.mllib.regression import LabeledPoint"
   ]
  },
  {
   "cell_type": "code",
   "execution_count": 277,
   "metadata": {
    "collapsed": false
   },
   "outputs": [
    {
     "data": {
      "text/plain": [
       "array([[ 1.72151493, -1.83993621],\n",
       "       [ 1.1671529 ,  0.60925868],\n",
       "       [ 3.13418401,  0.57801525],\n",
       "       [ 3.70930208, -2.21534694],\n",
       "       [-0.93246785,  3.62199209]])"
      ]
     },
     "execution_count": 277,
     "metadata": {},
     "output_type": "execute_result"
    }
   ],
   "source": [
    "messy_train_data[:5]"
   ]
  },
  {
   "cell_type": "code",
   "execution_count": 264,
   "metadata": {
    "collapsed": true
   },
   "outputs": [],
   "source": [
    "raw_data = np.append(messy_train_y[:,None], messy_train_data, axis=1)"
   ]
  },
  {
   "cell_type": "code",
   "execution_count": 265,
   "metadata": {
    "collapsed": true
   },
   "outputs": [],
   "source": [
    "data = sc.parallelize(raw_data).cache()"
   ]
  },
  {
   "cell_type": "code",
   "execution_count": 266,
   "metadata": {
    "collapsed": false
   },
   "outputs": [
    {
     "data": {
      "text/plain": [
       "[array([ 1.        ,  1.72151493, -1.83993621]),\n",
       " array([ 1.        ,  1.1671529 ,  0.60925868]),\n",
       " array([-1.        ,  3.13418401,  0.57801525]),\n",
       " array([ 1.        ,  3.70930208, -2.21534694]),\n",
       " array([-1.        , -0.93246785,  3.62199209])]"
      ]
     },
     "execution_count": 266,
     "metadata": {},
     "output_type": "execute_result"
    }
   ],
   "source": [
    "data.collect()[:5]"
   ]
  },
  {
   "cell_type": "code",
   "execution_count": 267,
   "metadata": {
    "collapsed": true
   },
   "outputs": [],
   "source": [
    "parsed_data = data.map(parsePoint)"
   ]
  },
  {
   "cell_type": "code",
   "execution_count": 268,
   "metadata": {
    "collapsed": false
   },
   "outputs": [],
   "source": [
    "model = SVMWithSGD.train(parsed_data, iterations=100)"
   ]
  },
  {
   "cell_type": "code",
   "execution_count": 269,
   "metadata": {
    "collapsed": false
   },
   "outputs": [
    {
     "data": {
      "text/plain": [
       "DenseVector([1.5153, 0.1261])"
      ]
     },
     "execution_count": 269,
     "metadata": {},
     "output_type": "execute_result"
    }
   ],
   "source": [
    "model.weights"
   ]
  },
  {
   "cell_type": "markdown",
   "metadata": {},
   "source": [
    "Derive and Implement in Spark a weighted soft linear svm classification learning algorithm.\n",
    "Evaluate your homegrown weighted soft linear svm classification learning algorithm on the weighted training dataset and test dataset from HW11.3. Report misclassification error (1 - Accuracy) and how many iterations does it took to converge?  How many support vectors do you end up?\n",
    "\n",
    "Does Spark MLLib have a weighted soft SVM learner. If so use it and report your findings on the weighted training set and test set. "
   ]
  },
  {
   "cell_type": "code",
   "execution_count": 291,
   "metadata": {
    "collapsed": true
   },
   "outputs": [],
   "source": [
    "def SVMGD(data, y):\n",
    "#     dataRDD = sc.parallelize(np.append(y[:,None], data, axis=1)).cache()\n",
    "    dataRDD = sc.parallelize(np.append(y[:,None], data, axis=1)).cache() #prepend y to X\n",
    "    w = np.random.normal(size=data.shape[1] + 1)\n",
    "    for i in range(100):\n",
    "        sv = dataRDD.filter(lambda x: x[0]*np.dot(w, np.append(x[1:], 1)) < 1)\n",
    "        if sv.isEmpty():\n",
    "            break\n",
    "        g = -sv.map(lambda x: x[0]*np.append(x[1:], 1)).reduce(lambda x, y: x + y) / data.shape[0]\n",
    "        wreg = w*1\n",
    "        wreg[-1] = 0\n",
    "        wdelta = .01 * (g + .01*wreg)\n",
    "        if sum(abs(wdelta)) <= .0001*sum(abs(w)):\n",
    "            break\n",
    "        w = w - wdelta\n",
    "    return w"
   ]
  },
  {
   "cell_type": "code",
   "execution_count": 293,
   "metadata": {
    "collapsed": false
   },
   "outputs": [],
   "source": [
    "model2 = SVMGD(messy_train_data, messy_train_y)"
   ]
  },
  {
   "cell_type": "code",
   "execution_count": 294,
   "metadata": {
    "collapsed": false
   },
   "outputs": [
    {
     "data": {
      "text/plain": [
       "array([ 0.44760919, -0.23576806, -0.0432523 ])"
      ]
     },
     "execution_count": 294,
     "metadata": {},
     "output_type": "execute_result"
    }
   ],
   "source": [
    "model2"
   ]
  },
  {
   "cell_type": "code",
   "execution_count": null,
   "metadata": {
    "collapsed": true
   },
   "outputs": [],
   "source": []
  }
 ],
 "metadata": {
  "kernelspec": {
   "display_name": "Python 2",
   "language": "python",
   "name": "python2"
  },
  "language_info": {
   "codemirror_mode": {
    "name": "ipython",
    "version": 2
   },
   "file_extension": ".py",
   "mimetype": "text/x-python",
   "name": "python",
   "nbconvert_exporter": "python",
   "pygments_lexer": "ipython2",
   "version": "2.7.11"
  }
 },
 "nbformat": 4,
 "nbformat_minor": 0
}
