{
 "cells": [
  {
   "cell_type": "markdown",
   "metadata": {},
   "source": [
    "# Homework 10\n",
    "\n",
    "Chris Dailey"
   ]
  },
  {
   "cell_type": "markdown",
   "metadata": {},
   "source": [
    "## 10.0 "
   ]
  },
  {
   "cell_type": "markdown",
   "metadata": {},
   "source": [
    "##### What is Apache Spark and how is it different to Apache Hadoop? "
   ]
  },
  {
   "cell_type": "markdown",
   "metadata": {},
   "source": [
    "Apache Spark is a framework specifically for computation, not storage.  It is based on the idea that operations done in memory are much faster than oeprations done from disk and leverages the idea of lazy computation to increase efficiency and speed."
   ]
  },
  {
   "cell_type": "markdown",
   "metadata": {},
   "source": [
    "##### Fill in the blanks:\n",
    "Spark API consists of interfaces to develop applications based on it in Java, ...... languages (list languages). "
   ]
  },
  {
   "cell_type": "markdown",
   "metadata": {},
   "source": [
    "Scala, and Python."
   ]
  },
  {
   "cell_type": "markdown",
   "metadata": {},
   "source": [
    "##### Using Spark, resource management can be done either in a single server instance or using a framework such as Mesos or ????? in a distributed manner."
   ]
  },
  {
   "cell_type": "markdown",
   "metadata": {},
   "source": [
    "Hadoop"
   ]
  },
  {
   "cell_type": "markdown",
   "metadata": {},
   "source": [
    "##### What is an RDD and show a fun example of creating one and bringing the first element back to the driver program."
   ]
  },
  {
   "cell_type": "markdown",
   "metadata": {},
   "source": [
    "An RDD is a resilient distributed dataset.  An RDD is a set of instructions of how to contruct from original data a modified set of data and the associated calculations performed on it.  An example in python would look like:\n",
    "\n",
    "textfile = sc.textFile(\"example.txt\").first()"
   ]
  },
  {
   "cell_type": "markdown",
   "metadata": {},
   "source": [
    "##### What is lazy evaluation and give an intuitoive example of lazy evaluation and comment on the massive computational savings to be had from lazy evaluation."
   ]
  },
  {
   "cell_type": "markdown",
   "metadata": {},
   "source": [
    "Lazy evaluation allows for creating a directed acyclic graph of modifications to an original dataset without executing those modifications until needed.  This way, rather than compute one step at a time all steps are computed immediately one after the other included any final calculations.  This also means less wasted computation since the framework can optimize the graph based on its knowledge of its entirety.  Also, data that is eliminated by a step in the graph can be thrown away much earlier in the graph, again saving computation and increasing efficiency and speed."
   ]
  },
  {
   "cell_type": "markdown",
   "metadata": {},
   "source": [
    "## 10.1 \n",
    "\n",
    "In Spark write the code to count how often each word appears in a text document (or set of documents). Please use this homework document as a the example document to run an experiment.  Report the following: provide a sorted list of tokens in decreasing order of frequency of occurence.\n"
   ]
  },
  {
   "cell_type": "code",
   "execution_count": 1,
   "metadata": {
    "collapsed": false
   },
   "outputs": [
    {
     "name": "stdout",
     "output_type": "stream",
     "text": [
      "===========================================================================\r\n",
      "===MIDS UC Berkeley, Machine Learning at Scale DATSCI W261 ASSIGNMENT #10===\r\n",
      "-----------------------\r\n",
      "V1.3 Final 03/15/2016  HW10\r\n",
      "-----------------------\r\n",
      "=========================\r\n",
      "SPECIAL INSTURCTIONS\r\n",
      " This weeks homework is a group exercise. Your team assignments for completing this HW are located at:\r\n",
      "\r\n",
      "https://docs.google.com/spreadsheets/d/1ncFQl5Tovn-16slD8mYjP_nzMTPSfiGeLLzW8v_sMjg/edit?usp=sharing\r\n"
     ]
    }
   ],
   "source": [
    "!head MIDS-MLS-HW-10.txt"
   ]
  },
  {
   "cell_type": "code",
   "execution_count": 1,
   "metadata": {
    "collapsed": true
   },
   "outputs": [],
   "source": [
    "import os\n",
    "os.environ['SPARK_HOME'] = \"/home/ubuntu/spark-1.6.1-bin-hadoop2.6/\""
   ]
  },
  {
   "cell_type": "code",
   "execution_count": 2,
   "metadata": {
    "collapsed": false
   },
   "outputs": [],
   "source": [
    "from pyspark import SparkConf, SparkContext"
   ]
  },
  {
   "cell_type": "code",
   "execution_count": 3,
   "metadata": {
    "collapsed": false
   },
   "outputs": [],
   "source": [
    "conf = SparkConf().setMaster('local').setAppName(\"myApp\")"
   ]
  },
  {
   "cell_type": "code",
   "execution_count": 4,
   "metadata": {
    "collapsed": false
   },
   "outputs": [],
   "source": [
    "sc = SparkContext(conf= conf)"
   ]
  },
  {
   "cell_type": "code",
   "execution_count": 5,
   "metadata": {
    "collapsed": true
   },
   "outputs": [],
   "source": [
    "lines = sc.textFile(\"MIDS-MLS-HW-10.txt\")"
   ]
  },
  {
   "cell_type": "code",
   "execution_count": 6,
   "metadata": {
    "collapsed": false
   },
   "outputs": [
    {
     "name": "stdout",
     "output_type": "stream",
     "text": [
      "MIDS-MLS-HW-10.txt MappedRDD[1] at textFile at NativeMethodAccessorImpl.java:-2\n"
     ]
    }
   ],
   "source": [
    "print lines"
   ]
  },
  {
   "cell_type": "code",
   "execution_count": 7,
   "metadata": {
    "collapsed": false
   },
   "outputs": [
    {
     "data": {
      "text/plain": [
       "132"
      ]
     },
     "execution_count": 7,
     "metadata": {},
     "output_type": "execute_result"
    }
   ],
   "source": [
    "lines.count()"
   ]
  },
  {
   "cell_type": "code",
   "execution_count": 8,
   "metadata": {
    "collapsed": false
   },
   "outputs": [
    {
     "data": {
      "text/plain": [
       "[(u'', 108),\n",
       " (u'the', 46),\n",
       " (u'and', 23),\n",
       " (u'in', 18),\n",
       " (u'of', 17),\n",
       " (u'a', 12),\n",
       " (u'for', 11),\n",
       " (u'code', 9),\n",
       " (u'to', 9),\n",
       " (u'data', 8),\n",
       " (u'=', 8),\n",
       " (u'is', 8),\n",
       " (u'on', 7),\n",
       " (u'this', 7),\n",
       " (u'Using', 7),\n",
       " (u'#', 7),\n",
       " (u'your', 7),\n",
       " (u'with', 7),\n",
       " (u'===', 6),\n",
       " (u'KMeans', 6),\n",
       " (u'HW', 6),\n",
       " (u'from', 5),\n",
       " (u'as', 5),\n",
       " (u'example', 4),\n",
       " (u'What', 4),\n",
       " (u'each', 4),\n",
       " (u'linear', 4),\n",
       " (u'Set', 4),\n",
       " (u'clusters', 4),\n",
       " (u'Sum', 4),\n",
       " (u'Comment', 4),\n",
       " (u'==HW', 4),\n",
       " (u'Squared', 4),\n",
       " (u'results', 3),\n",
       " (u'+', 3),\n",
       " (u'100', 3),\n",
       " (u'plot', 3),\n",
       " (u'following', 3),\n",
       " (u'Spark', 3),\n",
       " (u'after', 3),\n",
       " (u'count', 3),\n",
       " (u'training', 3),\n",
       " (u'Please', 3),\n",
       " (u'words', 3),\n",
       " (u'import', 3),\n",
       " (u'report', 3),\n",
       " (u'===HW', 3),\n",
       " (u'x', 3),\n",
       " (u'available', 3),\n",
       " (u'lazy', 3),\n",
       " (u'it', 3),\n",
       " (u'regression', 3),\n",
       " (u'document', 3),\n",
       " (u'model', 3),\n",
       " (u'Errors', 3),\n",
       " (u'using', 3),\n",
       " (u'Within', 3),\n",
       " (u'provided', 3),\n",
       " (u'an', 3),\n",
       " (u'Apache', 2),\n",
       " (u'--', 2),\n",
       " (u'list', 2),\n",
       " (u'vector', 2),\n",
       " (u'plots.', 2),\n",
       " (u'LASS0', 2),\n",
       " (u'here', 2),\n",
       " (u'via', 2),\n",
       " (u'findings.', 2),\n",
       " (u'Explain.', 2),\n",
       " (u'RIDGE', 2),\n",
       " (u'word', 2),\n",
       " (u'kmeans_data.txt', 2),\n",
       " (u'how', 2),\n",
       " (u'(OPTIONAL)', 2),\n",
       " (u'decreasing', 2),\n",
       " (u'Fill', 2),\n",
       " (u'notebook:', 2),\n",
       " (u'found', 2),\n",
       " (u'Report', 2),\n",
       " (u'evaluation', 2),\n",
       " (u'one', 2),\n",
       " (u'that', 2),\n",
       " (u'\"myModelPath\")', 2),\n",
       " (u'any', 2),\n",
       " (u'order', 2),\n",
       " (u'points', 2),\n",
       " (u'Generate', 2),\n",
       " (u'(one', 2),\n",
       " (u'-----------------------', 2),\n",
       " (u'set', 2),\n",
       " (u'testing', 2),\n",
       " (u'regression.', 2),\n",
       " (u'between', 2),\n",
       " (u'https://www.dropbox.com/s/q85t0ytb9apggnh/kmeans_data.txt?dl=0', 2),\n",
       " (u'clusters.', 2),\n",
       " (u'iterations', 2),\n",
       " (u'set.', 2),\n",
       " (u'HW10.3.', 2),\n",
       " (u'In', 2),\n",
       " (u'homework', 2),\n",
       " (u'iterations,', 2),\n",
       " (u'per', 2),\n",
       " (u'be', 2),\n",
       " (u'run', 2),\n",
       " (u'10.6.1', 2),\n",
       " (u'or', 2),\n",
       " (u'differences', 2),\n",
       " (u'up', 2),\n",
       " (u'HW10.3', 2),\n",
       " (u'repeat', 2),\n",
       " (u'NOTE', 2),\n",
       " (u'sameModel', 1),\n",
       " (u'all', 1),\n",
       " (u'intuitoive', 1),\n",
       " (u'X2.', 1),\n",
       " (u'consists', 1),\n",
       " (u'follow', 1),\n",
       " (u'inverse', 1),\n",
       " (u'languages', 1),\n",
       " (u'snippet', 1),\n",
       " (u'Berkeley,', 1),\n",
       " (u'bringing', 1),\n",
       " (u'===========================================================================',\n",
       "  1),\n",
       " (u'at:', 1),\n",
       " (u'1/||X||,', 1),\n",
       " (u'assignments', 1),\n",
       " (u'math', 1),\n",
       " (u'team', 1),\n",
       " (u'KMeansModel.load(sc,', 1),\n",
       " (u'findings', 1),\n",
       " (u'X2^2)', 1),\n",
       " (u'located', 1),\n",
       " (u'provided).', 1),\n",
       " (u'hundred)', 1),\n",
       " (u'10.4:', 1),\n",
       " (u'cell', 1),\n",
       " (u'blanks:', 1),\n",
       " (u'above', 1),\n",
       " (u'Short', 1),\n",
       " (u'modify', 1),\n",
       " (u'snippet:', 1),\n",
       " (u'appears', 1),\n",
       " (u'norm):', 1),\n",
       " (u'KMEans', 1),\n",
       " (u'resulting', 1),\n",
       " (u'Download', 1),\n",
       " (u'==================', 1),\n",
       " (u'Modify', 1),\n",
       " (u'use', 1),\n",
       " (u'give', 1),\n",
       " (u'HW10.5.', 1),\n",
       " (u'(a-z)', 1),\n",
       " (u'thru', 1),\n",
       " (u'more', 1),\n",
       " (u'sort', 1),\n",
       " (u'(using', 1),\n",
       " (u'train', 1),\n",
       " (u'MLlib-centric', 1),\n",
       " (u'work', 1),\n",
       " (u'labeled', 1),\n",
       " (u'can', 1),\n",
       " (u'provide,', 1),\n",
       " (u'Your', 1),\n",
       " (u'def', 1),\n",
       " (u'links', 1),\n",
       " (u'evaluation.', 1),\n",
       " (u\"MLLib's\", 1),\n",
       " (u'=========================', 1),\n",
       " (u'MLLib', 1),\n",
       " (u'10.0:', 1),\n",
       " (u'tab', 1),\n",
       " (u'line:', 1),\n",
       " (u'provide', 1),\n",
       " (u'weight(X)=', 1),\n",
       " (u'03/15/2016', 1),\n",
       " (u'write', 1),\n",
       " (u'answer', 1),\n",
       " (u'blanks', 1),\n",
       " (u'https://docs.google.com/spreadsheets/d/1ncFQl5Tovn-16slD8mYjP_nzMTPSfiGeLLzW8v_sMjg/edit?usp=sharing',\n",
       "  1),\n",
       " (u'applications', 1),\n",
       " (u'notebook', 1),\n",
       " (u'such', 1),\n",
       " (u'......', 1),\n",
       " (u'element', 1),\n",
       " (u'algorithms', 1),\n",
       " (u'UC', 1),\n",
       " (u'Regression', 1),\n",
       " (u'y)', 1),\n",
       " (u'homeworks', 1),\n",
       " (u'experiments', 1),\n",
       " (u'Final', 1),\n",
       " (u'1', 1),\n",
       " (u'group', 1),\n",
       " (u'la', 1),\n",
       " (u'error(point):', 1),\n",
       " (u'Here', 1),\n",
       " (u'SQRT(X.X)=', 1),\n",
       " (u'2,', 1),\n",
       " (u'weeks', 1),\n",
       " (u'#10===', 1),\n",
       " (u'good', 1),\n",
       " (u'return', 1),\n",
       " (u'runs=10,', 1),\n",
       " (u'experiment.', 1),\n",
       " (u'Kmean', 1),\n",
       " (u'framework', 1),\n",
       " (u'carefully.', 1),\n",
       " (u'not', 1),\n",
       " (u'sorted', 1),\n",
       " (u'instructions', 1),\n",
       " (u'questions===', 1),\n",
       " (u'array([float(x)', 1),\n",
       " (u'frequency.', 1),\n",
       " (u'(point', 1),\n",
       " (u'https://www.dropbox.com/s/atzqkc0p1eajuz6/LinearRegression-Notebook-Challenge.ipynb?dl=0',\n",
       "  1),\n",
       " (u'10.1.1', 1),\n",
       " (u'API', 1),\n",
       " (u'Plot', 1),\n",
       " (u'weighted', 1),\n",
       " (u'generation', 1),\n",
       " (u'clusters.save(sc,', 1),\n",
       " (u'frequency', 1),\n",
       " (u'Build', 1),\n",
       " (u'measure', 1),\n",
       " (u'Save', 1),\n",
       " (u'following:', 1),\n",
       " (u'sqrt(sum([x**2', 1),\n",
       " (u'Evaluate', 1),\n",
       " (u'\"Gradient', 1),\n",
       " (u'SPECIAL', 1),\n",
       " (u'clustering', 1),\n",
       " (u'This', 1),\n",
       " (u'W261', 1),\n",
       " (u'\"', 1),\n",
       " (u'Spark,', 1),\n",
       " (u'Justify', 1),\n",
       " (u'clusters.centers[clusters.predict(point)]', 1),\n",
       " (u'length', 1),\n",
       " (u'massive', 1),\n",
       " (u'https://docs.google.com/forms/d/1ZOr9RnIe_A06AcZDB6K1mJN4vrLeSmS2PD6Xm3eOiis/viewform?usp=send_form',\n",
       "  1),\n",
       " (u'follows:', 1),\n",
       " (u'first', 1),\n",
       " (u'number', 1),\n",
       " (u'done', 1),\n",
       " (u'DATSCI', 1),\n",
       " (u'array', 1),\n",
       " (u'https://www.dropbox.com/s/3nsthvp8g2rrrdh/EM-Kmeans.ipynb?dl=0', 1),\n",
       " (u'occurence.', 1),\n",
       " (u'print(\"Within', 1),\n",
       " (u'INSTURCTIONS', 1),\n",
       " (u'2', 1),\n",
       " (u'X1', 1),\n",
       " (u'back', 1),\n",
       " (u'10.6:', 1),\n",
       " (u'x,', 1),\n",
       " (u'tokens', 1),\n",
       " (u'Homeworks', 1),\n",
       " (u'===MIDS', 1),\n",
       " (u'10', 1),\n",
       " (u'See', 1),\n",
       " (u'exercise.', 1),\n",
       " (u'(and', 1),\n",
       " (u'Machine', 1),\n",
       " (u'Call', 1),\n",
       " (u'KMeans.train(parsedData,', 1),\n",
       " (u'WSSSE', 1),\n",
       " (u'Then', 1),\n",
       " (u'data.', 1),\n",
       " (u'data)', 1),\n",
       " (u'Java,', 1),\n",
       " (u'-', 1),\n",
       " (u'instance', 1),\n",
       " (u'point:', 1),\n",
       " (u'begin', 1),\n",
       " (u'sets', 1),\n",
       " (u'10.3:', 1),\n",
       " (u'DropBox', 1),\n",
       " (u'hyper', 1),\n",
       " (u'show', 1),\n",
       " (u'text', 1),\n",
       " (u'find', 1),\n",
       " (u\"line.split('\", 1),\n",
       " (u'based', 1),\n",
       " (u'parameters', 1),\n",
       " (u'implementation', 1),\n",
       " (u\"MLlib's\", 1),\n",
       " (u'(Euclidean', 1),\n",
       " (u'distributed', 1),\n",
       " (u'going', 1),\n",
       " (u'team)', 1),\n",
       " (u'do', 1),\n",
       " (u'get', 1),\n",
       " (u'KMeans,', 1),\n",
       " (u'DATA:', 1),\n",
       " (u'X', 1),\n",
       " (u'runs', 1),\n",
       " (u'resource', 1),\n",
       " (u'where', 1),\n",
       " (u'are', 1),\n",
       " (u'experiements', 1),\n",
       " (u'parsedData', 1),\n",
       " (u'Run', 1),\n",
       " (u'please', 1),\n",
       " (u'3', 1),\n",
       " (u'progress', 1),\n",
       " (u'\"Teams', 1),\n",
       " (u'ISVC):', 1),\n",
       " (u'creating', 1),\n",
       " (u'interfaces', 1),\n",
       " (u'Team', 1),\n",
       " (u'20', 1),\n",
       " (u'NOTE:', 1),\n",
       " (u'maxIterations=10,', 1),\n",
       " (u'comment', 1),\n",
       " (u'Hadoop?', 1),\n",
       " (u'center)]))', 1),\n",
       " (u'==================END', 1),\n",
       " (u'numpy', 1),\n",
       " (u'iteration,', 1),\n",
       " (u'||X||', 1),\n",
       " (u'manner.', 1),\n",
       " (u'case', 1),\n",
       " (u'single', 1),\n",
       " (u'fun', 1),\n",
       " (u'LinearRegressionWithSGD', 1),\n",
       " (u'parse', 1),\n",
       " (u'cluster', 1),\n",
       " (u'different', 1),\n",
       " (u'develop', 1),\n",
       " (u'descent', 1),\n",
       " (u'(regularization)\".', 1),\n",
       " (u'sqrt', 1),\n",
       " (u'program.', 1),\n",
       " (u'assignment', 1),\n",
       " (u'driver', 1),\n",
       " (u'data.map(lambda', 1),\n",
       " (u'tune', 1),\n",
       " (u'lower', 1),\n",
       " (u'center', 1),\n",
       " (u'Mesos', 1),\n",
       " (u'savings', 1),\n",
       " (u'load', 1),\n",
       " (u'10.2:', 1),\n",
       " (u'(cluster', 1),\n",
       " (u'Linear', 1),\n",
       " (u'had', 1),\n",
       " (u'submissions', 1),\n",
       " (u'evaluate', 1),\n",
       " (u'sc.textFile(\"kmeans_data.txt\")', 1),\n",
       " (u'10.5:', 1),\n",
       " (u'follows', 1),\n",
       " (u'server', 1),\n",
       " (u'iterations.', 1),\n",
       " (u'(or', 1),\n",
       " (u'either', 1),\n",
       " (u'Learning', 1),\n",
       " (u'output', 1),\n",
       " (u'Again', 1),\n",
       " (u'Scale', 1),\n",
       " (u'often', 1),\n",
       " (u'initializationMode=\"random\")', 1),\n",
       " (u'ASSIGNMENT', 1),\n",
       " (u'Assignments\"', 1),\n",
       " (u'plots', 1),\n",
       " (u'by', 1),\n",
       " (u'10.6.2', 1),\n",
       " (u'languages).', 1),\n",
       " (u'Weight', 1),\n",
       " (u'column', 1),\n",
       " (u'str(WSSSE))', 1),\n",
       " (u'completing', 1),\n",
       " (u'pyspark.mllib.clustering', 1),\n",
       " (u'HW10.4.', 1),\n",
       " (u'computational', 1),\n",
       " (u'letters', 1),\n",
       " (u'?????', 1),\n",
       " (u'dataset', 1),\n",
       " (u'HW10', 1),\n",
       " (u'error(point)).reduce(lambda', 1),\n",
       " (u'submit', 1),\n",
       " (u'parsedData.map(lambda', 1),\n",
       " (u'forward', 1),\n",
       " (u'form', 1),\n",
       " (u'RDD', 1),\n",
       " (u'10.1:', 1),\n",
       " (u'Error', 1),\n",
       " (u'Load', 1),\n",
       " (u'made', 1),\n",
       " (u'compute', 1),\n",
       " (u'============================================', 1),\n",
       " (u'KMeansModel', 1),\n",
       " (u\"')]))\", 1),\n",
       " (u'(list', 1),\n",
       " (u'model?', 1),\n",
       " (u'computing', 1),\n",
       " (u'words.', 1),\n",
       " (u'V1.3', 1),\n",
       " (u'at', 1),\n",
       " (u'(homegrown', 1),\n",
       " (u'other', 1),\n",
       " (u'separate', 1),\n",
       " (u'y:', 1),\n",
       " (u'SQRT(X1^2', 1),\n",
       " (u'code)', 1),\n",
       " (u'documents).', 1),\n",
       " (u'management', 1)]"
      ]
     },
     "execution_count": 8,
     "metadata": {},
     "output_type": "execute_result"
    }
   ],
   "source": [
    "lines.flatMap(lambda x: x.split(' '))\\\n",
    ".map(lambda x: (x, 1))\\\n",
    ".reduceByKey(lambda x, y: x + y)\\\n",
    ".sortBy(lambda x: x[1], ascending=False)\\\n",
    ".collect()"
   ]
  },
  {
   "cell_type": "markdown",
   "metadata": {},
   "source": [
    "## 10.1.1\n",
    "Modify the above word count code to count words that begin with lower case letters (a-z) and report your findings. Again sort the output words in decreasing order of frequency.\n"
   ]
  },
  {
   "cell_type": "code",
   "execution_count": 9,
   "metadata": {
    "collapsed": false
   },
   "outputs": [
    {
     "data": {
      "text/plain": [
       "[(u'the', 46),\n",
       " (u'and', 23),\n",
       " (u'in', 18),\n",
       " (u'of', 17),\n",
       " (u'a', 12),\n",
       " (u'for', 11),\n",
       " (u'code', 9),\n",
       " (u'to', 9),\n",
       " (u'is', 8),\n",
       " (u'data', 8),\n",
       " (u'with', 7),\n",
       " (u'on', 7),\n",
       " (u'your', 7),\n",
       " (u'this', 7),\n",
       " (u'from', 5),\n",
       " (u'as', 5),\n",
       " (u'clusters', 4),\n",
       " (u'linear', 4),\n",
       " (u'each', 4),\n",
       " (u'example', 4),\n",
       " (u'results', 3),\n",
       " (u'words', 3),\n",
       " (u'using', 3),\n",
       " (u'available', 3),\n",
       " (u'lazy', 3),\n",
       " (u'training', 3),\n",
       " (u'count', 3),\n",
       " (u'import', 3),\n",
       " (u'plot', 3),\n",
       " (u'following', 3),\n",
       " (u'it', 3),\n",
       " (u'an', 3),\n",
       " (u'regression', 3),\n",
       " (u'report', 3),\n",
       " (u'document', 3),\n",
       " (u'after', 3),\n",
       " (u'x', 3),\n",
       " (u'model', 3),\n",
       " (u'provided', 3),\n",
       " (u'how', 2),\n",
       " (u'homework', 2),\n",
       " (u'findings.', 2),\n",
       " (u'one', 2),\n",
       " (u'notebook:', 2),\n",
       " (u'list', 2),\n",
       " (u'set', 2),\n",
       " (u'testing', 2),\n",
       " (u'decreasing', 2),\n",
       " (u'run', 2),\n",
       " (u'regression.', 2),\n",
       " (u'per', 2),\n",
       " (u'iterations,', 2),\n",
       " (u'between', 2),\n",
       " (u'evaluation', 2),\n",
       " (u'be', 2),\n",
       " (u'https://www.dropbox.com/s/q85t0ytb9apggnh/kmeans_data.txt?dl=0', 2),\n",
       " (u'word', 2),\n",
       " (u'here', 2),\n",
       " (u'found', 2),\n",
       " (u'repeat', 2),\n",
       " (u'clusters.', 2),\n",
       " (u'or', 2),\n",
       " (u'iterations', 2),\n",
       " (u'via', 2),\n",
       " (u'that', 2),\n",
       " (u'differences', 2),\n",
       " (u'up', 2),\n",
       " (u'vector', 2),\n",
       " (u'any', 2),\n",
       " (u'set.', 2),\n",
       " (u'kmeans_data.txt', 2),\n",
       " (u'plots.', 2),\n",
       " (u'points', 2),\n",
       " (u'order', 2),\n",
       " (u'y)', 1),\n",
       " (u'sameModel', 1),\n",
       " (u'all', 1),\n",
       " (u'show', 1),\n",
       " (u'text', 1),\n",
       " (u'homeworks', 1),\n",
       " (u'intuitoive', 1),\n",
       " (u'experiments', 1),\n",
       " (u'sorted', 1),\n",
       " (u'consists', 1),\n",
       " (u'follow', 1),\n",
       " (u'find', 1),\n",
       " (u\"line.split('\", 1),\n",
       " (u'snippet', 1),\n",
       " (u'inverse', 1),\n",
       " (u'group', 1),\n",
       " (u'parameters', 1),\n",
       " (u'error(point):', 1),\n",
       " (u'distributed', 1),\n",
       " (u'such', 1),\n",
       " (u'languages', 1),\n",
       " (u'going', 1),\n",
       " (u'team)', 1),\n",
       " (u'weeks', 1),\n",
       " (u'submissions', 1),\n",
       " (u'do', 1),\n",
       " (u'good', 1),\n",
       " (u'return', 1),\n",
       " (u'get', 1),\n",
       " (u'runs=10,', 1),\n",
       " (u'evaluate', 1),\n",
       " (u'runs', 1),\n",
       " (u'experiment.', 1),\n",
       " (u'framework', 1),\n",
       " (u'instance', 1),\n",
       " (u'carefully.', 1),\n",
       " (u'not', 1),\n",
       " (u'sc.textFile(\"kmeans_data.txt\")', 1),\n",
       " (u'bringing', 1),\n",
       " (u'program.', 1),\n",
       " (u'instructions', 1),\n",
       " (u'resource', 1),\n",
       " (u'questions===', 1),\n",
       " (u'array([float(x)', 1),\n",
       " (u'at:', 1),\n",
       " (u'frequency.', 1),\n",
       " (u'https://www.dropbox.com/s/atzqkc0p1eajuz6/LinearRegression-Notebook-Challenge.ipynb?dl=0',\n",
       "  1),\n",
       " (u'hyper', 1),\n",
       " (u'server', 1),\n",
       " (u'assignments', 1),\n",
       " (u'y:', 1),\n",
       " (u'either', 1),\n",
       " (u'team', 1),\n",
       " (u'output', 1),\n",
       " (u'where', 1),\n",
       " (u'often', 1),\n",
       " (u'initializationMode=\"random\")', 1),\n",
       " (u'generation', 1),\n",
       " (u'parsedData.map(lambda', 1),\n",
       " (u'back', 1),\n",
       " (u'clusters.save(sc,', 1),\n",
       " (u'provided).', 1),\n",
       " (u'frequency', 1),\n",
       " (u'are', 1),\n",
       " (u'measure', 1),\n",
       " (u'creating', 1),\n",
       " (u'parsedData', 1),\n",
       " (u'following:', 1),\n",
       " (u'sqrt(sum([x**2', 1),\n",
       " (u'iterations.', 1),\n",
       " (u'please', 1),\n",
       " (u'cell', 1),\n",
       " (u'blanks:', 1),\n",
       " (u'above', 1),\n",
       " (u'progress', 1),\n",
       " (u'math', 1),\n",
       " (u'interfaces', 1),\n",
       " (u'modify', 1),\n",
       " (u'fun', 1),\n",
       " (u'management', 1),\n",
       " (u'str(WSSSE))', 1),\n",
       " (u'based', 1),\n",
       " (u'appears', 1),\n",
       " (u'languages).', 1),\n",
       " (u'column', 1),\n",
       " (u'norm):', 1),\n",
       " (u'completing', 1),\n",
       " (u'la', 1),\n",
       " (u'comment', 1),\n",
       " (u'implementation', 1),\n",
       " (u'length', 1),\n",
       " (u'massive', 1),\n",
       " (u'https://docs.google.com/forms/d/1ZOr9RnIe_A06AcZDB6K1mJN4vrLeSmS2PD6Xm3eOiis/viewform?usp=send_form',\n",
       "  1),\n",
       " (u'follows:', 1),\n",
       " (u'maxIterations=10,', 1),\n",
       " (u'pyspark.mllib.clustering', 1),\n",
       " (u'first', 1),\n",
       " (u'load', 1),\n",
       " (u'computational', 1),\n",
       " (u'letters', 1),\n",
       " (u'follows', 1),\n",
       " (u'had', 1),\n",
       " (u'snippet:', 1),\n",
       " (u'number', 1),\n",
       " (u'dataset', 1),\n",
       " (u'weighted', 1),\n",
       " (u'done', 1),\n",
       " (u'plots', 1),\n",
       " (u'array', 1),\n",
       " (u'https://www.dropbox.com/s/3nsthvp8g2rrrdh/EM-Kmeans.ipynb?dl=0', 1),\n",
       " (u'clustering', 1),\n",
       " (u'use', 1),\n",
       " (u'occurence.', 1),\n",
       " (u'findings', 1),\n",
       " (u'print(\"Within', 1),\n",
       " (u'submit', 1),\n",
       " (u'by', 1),\n",
       " (u'tune', 1),\n",
       " (u'error(point)).reduce(lambda', 1),\n",
       " (u'forward', 1),\n",
       " (u'thru', 1),\n",
       " (u'numpy', 1),\n",
       " (u'more', 1),\n",
       " (u'sort', 1),\n",
       " (u'provide,', 1),\n",
       " (u'form', 1),\n",
       " (u'iteration,', 1),\n",
       " (u'manner.', 1),\n",
       " (u'train', 1),\n",
       " (u'center)]))', 1),\n",
       " (u'center', 1),\n",
       " (u'case', 1),\n",
       " (u'made', 1),\n",
       " (u'compute', 1),\n",
       " (u'cluster', 1),\n",
       " (u'work', 1),\n",
       " (u'labeled', 1),\n",
       " (u'can', 1),\n",
       " (u'clusters.centers[clusters.predict(point)]', 1),\n",
       " (u'def', 1),\n",
       " (u'hundred)', 1),\n",
       " (u'model?', 1),\n",
       " (u'exercise.', 1),\n",
       " (u'links', 1),\n",
       " (u'computing', 1),\n",
       " (u'parse', 1),\n",
       " (u'words.', 1),\n",
       " (u'at', 1),\n",
       " (u'tab', 1),\n",
       " (u'experiements', 1),\n",
       " (u'evaluation.', 1),\n",
       " (u'different', 1),\n",
       " (u'data.', 1),\n",
       " (u'data)', 1),\n",
       " (u'x,', 1),\n",
       " (u'provide', 1),\n",
       " (u'weight(X)=', 1),\n",
       " (u'sqrt', 1),\n",
       " (u'write', 1),\n",
       " (u'located', 1),\n",
       " (u'other', 1),\n",
       " (u'answer', 1),\n",
       " (u'resulting', 1),\n",
       " (u'point:', 1),\n",
       " (u'begin', 1),\n",
       " (u'blanks', 1),\n",
       " (u'https://docs.google.com/spreadsheets/d/1ncFQl5Tovn-16slD8mYjP_nzMTPSfiGeLLzW8v_sMjg/edit?usp=sharing',\n",
       "  1),\n",
       " (u'separate', 1),\n",
       " (u'assignment', 1),\n",
       " (u'driver', 1),\n",
       " (u'applications', 1),\n",
       " (u'notebook', 1),\n",
       " (u'develop', 1),\n",
       " (u'data.map(lambda', 1),\n",
       " (u'single', 1),\n",
       " (u'line:', 1),\n",
       " (u'documents).', 1),\n",
       " (u'tokens', 1),\n",
       " (u'lower', 1),\n",
       " (u'give', 1),\n",
       " (u'descent', 1),\n",
       " (u'element', 1),\n",
       " (u'savings', 1),\n",
       " (u'algorithms', 1),\n",
       " (u'sets', 1),\n",
       " (u'code)', 1)]"
      ]
     },
     "execution_count": 9,
     "metadata": {},
     "output_type": "execute_result"
    }
   ],
   "source": [
    "import re\n",
    "lines.flatMap(lambda x: x.split(' '))\\\n",
    ".filter(lambda x: re.match('^[a-z]', x))\\\n",
    ".map(lambda x: (x, 1))\\\n",
    ".reduceByKey(lambda x, y: x + y)\\\n",
    ".sortBy(lambda x: x[1], ascending=False)\\\n",
    ".collect()"
   ]
  },
  {
   "cell_type": "code",
   "execution_count": null,
   "metadata": {
    "collapsed": true
   },
   "outputs": [],
   "source": []
  },
  {
   "cell_type": "markdown",
   "metadata": {},
   "source": [
    "## HW 10.2: KMeans a la MLLib \n",
    "\n",
    "Using the following  MLlib-centric KMeans code snippet and list the clusters that your find and compute the Within Set Sum of Squared Errors for the found clusters. Comment on your findings.\n"
   ]
  },
  {
   "cell_type": "code",
   "execution_count": 11,
   "metadata": {
    "collapsed": false
   },
   "outputs": [],
   "source": [
    "from numpy import array\n",
    "from math import sqrt\n",
    "from pyspark.mllib.clustering import KMeans, KMeansModel"
   ]
  },
  {
   "cell_type": "code",
   "execution_count": 13,
   "metadata": {
    "collapsed": true
   },
   "outputs": [],
   "source": [
    "# Load and parse the data\n",
    "# NOTE  kmeans_data.txt is available here \n",
    "#          https://www.dropbox.com/s/q85t0ytb9apggnh/kmeans_data.txt?dl=0 \n",
    "data = sc.textFile(\"kmeans_data.txt\") "
   ]
  },
  {
   "cell_type": "code",
   "execution_count": 14,
   "metadata": {
    "collapsed": false
   },
   "outputs": [],
   "source": [
    " \n",
    "parsedData = data.map(lambda line: array([float(x) for x in line.split(' ')]))"
   ]
  },
  {
   "cell_type": "code",
   "execution_count": 15,
   "metadata": {
    "collapsed": true
   },
   "outputs": [],
   "source": [
    "# Build the model (cluster the data)\n",
    "clusters = KMeans.train(parsedData, 2, maxIterations=10,\n",
    "        runs=10, initializationMode=\"random\")"
   ]
  },
  {
   "cell_type": "code",
   "execution_count": 17,
   "metadata": {
    "collapsed": true
   },
   "outputs": [],
   "source": [
    "# Evaluate clustering by computing Within Set Sum of Squared Errors\n",
    "def error(point):\n",
    "    center = clusters.centers[clusters.predict(point)]\n",
    "    return sqrt(sum([x**2 for x in (point - center)]))"
   ]
  },
  {
   "cell_type": "code",
   "execution_count": 18,
   "metadata": {
    "collapsed": false
   },
   "outputs": [
    {
     "name": "stdout",
     "output_type": "stream",
     "text": [
      "Within Set Sum of Squared Error = 0.692820323028\n"
     ]
    }
   ],
   "source": [
    "WSSSE = parsedData.map(lambda point: error(point)).reduce(lambda x, y: x + y)\n",
    "print(\"Within Set Sum of Squared Error = \" + str(WSSSE))"
   ]
  },
  {
   "cell_type": "code",
   "execution_count": 19,
   "metadata": {
    "collapsed": false
   },
   "outputs": [
    {
     "ename": "AttributeError",
     "evalue": "'KMeansModel' object has no attribute 'save'",
     "output_type": "error",
     "traceback": [
      "\u001b[1;31m---------------------------------------------------------------------------\u001b[0m",
      "\u001b[1;31mAttributeError\u001b[0m                            Traceback (most recent call last)",
      "\u001b[1;32m<ipython-input-19-89475003754e>\u001b[0m in \u001b[0;36m<module>\u001b[1;34m()\u001b[0m\n\u001b[0;32m      1\u001b[0m \u001b[1;31m# Save and load model\u001b[0m\u001b[1;33m\u001b[0m\u001b[1;33m\u001b[0m\u001b[0m\n\u001b[1;32m----> 2\u001b[1;33m \u001b[0mclusters\u001b[0m\u001b[1;33m.\u001b[0m\u001b[0msave\u001b[0m\u001b[1;33m(\u001b[0m\u001b[0msc\u001b[0m\u001b[1;33m,\u001b[0m \u001b[1;34m\"./model\"\u001b[0m\u001b[1;33m)\u001b[0m\u001b[1;33m\u001b[0m\u001b[0m\n\u001b[0m\u001b[0;32m      3\u001b[0m \u001b[0msameModel\u001b[0m \u001b[1;33m=\u001b[0m \u001b[0mKMeansModel\u001b[0m\u001b[1;33m.\u001b[0m\u001b[0mload\u001b[0m\u001b[1;33m(\u001b[0m\u001b[0msc\u001b[0m\u001b[1;33m,\u001b[0m \u001b[1;34m\"./model\"\u001b[0m\u001b[1;33m)\u001b[0m\u001b[1;33m\u001b[0m\u001b[0m\n",
      "\u001b[1;31mAttributeError\u001b[0m: 'KMeansModel' object has no attribute 'save'"
     ]
    }
   ],
   "source": [
    "# Save and load model\n",
    "clusters.save(sc, \"./model\")\n",
    "sameModel = KMeansModel.load(sc, \"./model\")"
   ]
  },
  {
   "cell_type": "code",
   "execution_count": null,
   "metadata": {
    "collapsed": true
   },
   "outputs": [],
   "source": []
  }
 ],
 "metadata": {
  "kernelspec": {
   "display_name": "Python 2",
   "language": "python",
   "name": "python2"
  },
  "language_info": {
   "codemirror_mode": {
    "name": "ipython",
    "version": 2
   },
   "file_extension": ".py",
   "mimetype": "text/x-python",
   "name": "python",
   "nbconvert_exporter": "python",
   "pygments_lexer": "ipython2",
   "version": "2.7.11"
  }
 },
 "nbformat": 4,
 "nbformat_minor": 0
}
