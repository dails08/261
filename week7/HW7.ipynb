{
 "cells": [
  {
   "cell_type": "code",
   "execution_count": 1,
   "metadata": {
    "collapsed": true
   },
   "outputs": [],
   "source": [
    "%load_ext autoreload\n",
    "%autoreload 2"
   ]
  },
  {
   "cell_type": "code",
   "execution_count": 46,
   "metadata": {
    "collapsed": false
   },
   "outputs": [
    {
     "name": "stdout",
     "output_type": "stream",
     "text": [
      "Overwriting MRJobGraph1.py\n"
     ]
    }
   ],
   "source": [
    "%%writefile MRJobGraph1.py\n",
    "from mrjob.job import MRJob\n",
    "from mrjob.step import MRStep\n",
    "import re, sys\n",
    "\n",
    "\n",
    "class MRJobPrepGraphData(MRJob):\n",
    "    # run before the mapper processes any input\n",
    "    def label_dataset(self, _, line):\n",
    "        \n",
    "        source_node_id = 1\n",
    "        # Read dataset and add labels and distances\n",
    "        splits = line.split(\"\\t\")\n",
    "        node_id = int(splits[0])\n",
    "        edges = eval(splits[1])\n",
    "        if (node_id == source_node_id):\n",
    "            yield str(node_id), str([int(x) for x in edges.keys()]) + \"|0|\\\"\\\"|Q\"\n",
    "        else:\n",
    "            yield str(node_id), str([int(x) for x in edges.keys()]) + \"|\"+str(sys.maxint)+\"|\\\"\\\"|U\"\n",
    "            \n",
    "    def steps(self):\n",
    "        return [MRStep(mapper=self.label_dataset)]\n",
    "\n",
    "class MRJobGraph1(MRJob):\n",
    "    def push_frontier(self, _, line):\n",
    "        self.increment_counter('states', 'Q', 0)\n",
    "        splits = line.split('\\t')\n",
    "        key = int(splits[0])\n",
    "        value = splits[1]\n",
    "        value_splits = value.split('|')\n",
    "        edges = eval(value_splits[0])\n",
    "        distance = int(value_splits[1])\n",
    "        path = eval(value_splits[2])\n",
    "        status = value_splits[3]\n",
    "        if status == 'Q':\n",
    "            for edge in edges:\n",
    "                self.increment_counter('states', 'Q', 1)\n",
    "                yield int(edge), '[]|'+str(distance + 1) + '|' + path + str(key) + '|Q'\n",
    "            status = 'V'\n",
    "        if status == 'U' or status == 'V':\n",
    "            yield int(key), str(edges) + '|' + str(distance) + '|' + path + '|' + status\n",
    "    \n",
    "    def combine_records(self, key, values):\n",
    "        final_edges = []\n",
    "        final_distance = sys.maxint\n",
    "        final_status = '?'\n",
    "        final_path = ''\n",
    "        for value in values:\n",
    "            value_splits = value.split('|')\n",
    "            edges = eval(value_splits[0])\n",
    "            distance = int(value_splits[1])\n",
    "            path = value_splits[2]\n",
    "            status = value_splits[3]\n",
    "            final_edges = final_edges + edges\n",
    "            final_distance = min(final_distance, distance)\n",
    "            if final_status == '?' or final_status == 'U':\n",
    "                final_status = status\n",
    "            if len(path) > len(final_path):\n",
    "                final_path = path\n",
    "        yield key, str(final_edges) + '|' + str(final_distance) + '|' +  final_path + '|' + final_status\n",
    "        \n",
    "        \n",
    "    def passthrough(self, key, value):\n",
    "        yield key, value\n",
    "    \n",
    "\n",
    "    \n",
    "    def steps(self):\n",
    "        return [#MRStep(mapper=self.passthrough)\n",
    "                MRStep(mapper=self.push_frontier,\n",
    "                       reducer=self.combine_records)\n",
    "               ]\n",
    "    \n",
    "if __name__ == '__main__':\n",
    "    MRJobGraph1.run()"
   ]
  },
  {
   "cell_type": "code",
   "execution_count": 47,
   "metadata": {
    "collapsed": false
   },
   "outputs": [
    {
     "name": "stdout",
     "output_type": "stream",
     "text": [
      "1\t[2, 5]|0|\"\"|Q\n",
      "2\t[1, 3, 5, 4]|9223372036854775807|\"\"|U\n",
      "3\t[2, 4]|9223372036854775807|\"\"|U\n",
      "4\t[3, 2, 5]|9223372036854775807|\"\"|U\n",
      "5\t[1, 2, 4]|9223372036854775807|\"\"|U\n",
      "\n",
      "\n",
      "Second Job:\n",
      "\n",
      "\n",
      "1\t[2, 5]|0||V\n",
      "2\t[1, 3, 5, 4]|1|1|Q\n",
      "3\t[2, 4]|9223372036854775807||U\n",
      "4\t[3, 2, 5]|9223372036854775807||U\n",
      "5\t[1, 2, 4]|1|1|Q\n",
      "[{'states': {'Q': 2}}]\n",
      "2\n"
     ]
    },
    {
     "ename": "SyntaxError",
     "evalue": "unexpected EOF while parsing (<string>, line 0)",
     "output_type": "error",
     "traceback": [
      "\u001b[1;36m  File \u001b[1;32m\"<string>\"\u001b[1;36m, line \u001b[1;32munknown\u001b[0m\n\u001b[1;33m    \u001b[0m\n\u001b[1;37m    ^\u001b[0m\n\u001b[1;31mSyntaxError\u001b[0m\u001b[1;31m:\u001b[0m unexpected EOF while parsing\n"
     ]
    }
   ],
   "source": [
    "from numpy import random,array\n",
    "from MRJobGraph1 import MRJobGraph1, MRJobPrepGraphData\n",
    "\n",
    "\n",
    "prep_data = MRJobPrepGraphData(args=['undirected_toy.txt', '--no-strict-protocol'])\n",
    "with prep_data.make_runner() as runner:\n",
    "    prepped_data = open(\"prepped_data0.txt\", 'w')\n",
    "    runner.run()\n",
    "    for line in runner.stream_output():\n",
    "        key, value = prep_data.parse_output_line(line)\n",
    "        print key + \"\\t\" + value\n",
    "        prepped_data.write(key + '\\t' + value + '\\n')\n",
    "    prepped_data.close()\n",
    "        \n",
    "\n",
    "print \"\\n\\nSecond Job:\\n\\n\"\n",
    "\n",
    "iteration = 1\n",
    "while(iteration < 5):\n",
    "    mr_job = MRJobGraph1(args=['prepped_data' + str((iteration-1)%2) + '.txt', '--no-strict-protocol'])\n",
    "    with mr_job.make_runner() as runner: \n",
    "        runner.run()\n",
    "        filename = \"prepped_data\" + str(iteration%2) + \".txt\"\n",
    "        prepped_data = open(filename, 'w')\n",
    "        #no output yet\n",
    "        for line in runner.stream_output():\n",
    "            key, value = mr_job.parse_output_line(line)\n",
    "            print str(key) + \"\\t\" + value\n",
    "            prepped_data.write(str(key) + '\\t' + value + '\\n')\n",
    "        prepped_data.close()\n",
    "        current_counters = runner.counters()\n",
    "        print current_counters\n",
    "        print current_counters[0]['states']['Q']\n",
    "        iteration += 1"
   ]
  },
  {
   "cell_type": "code",
   "execution_count": 2,
   "metadata": {
    "collapsed": true
   },
   "outputs": [],
   "source": [
    "testDict = {'1': 1,'3': 1,'4': 1,'5': 1}"
   ]
  },
  {
   "cell_type": "code",
   "execution_count": 4,
   "metadata": {
    "collapsed": false
   },
   "outputs": [
    {
     "data": {
      "text/plain": [
       "[1, 3, 5, 4]"
      ]
     },
     "execution_count": 4,
     "metadata": {},
     "output_type": "execute_result"
    }
   ],
   "source": [
    "[int(x) for x in testDict.keys()]"
   ]
  },
  {
   "cell_type": "code",
   "execution_count": 8,
   "metadata": {
    "collapsed": false
   },
   "outputs": [
    {
     "name": "stdout",
     "output_type": "stream",
     "text": [
      "7\t[1, 3, 5, 4]|0|Q\n"
     ]
    }
   ],
   "source": [
    "print str(7) + \"\\t\" + str([int(x) for x in testDict.keys()]) + \"|0|Q\""
   ]
  },
  {
   "cell_type": "code",
   "execution_count": 29,
   "metadata": {
    "collapsed": false
   },
   "outputs": [
    {
     "data": {
      "text/plain": [
       "[2, 3, 4]"
      ]
     },
     "execution_count": 29,
     "metadata": {},
     "output_type": "execute_result"
    }
   ],
   "source": [
    "[] + [] + [2,3,4]"
   ]
  },
  {
   "cell_type": "code",
   "execution_count": 38,
   "metadata": {
    "collapsed": false
   },
   "outputs": [
    {
     "data": {
      "text/plain": [
       "'teststring'"
      ]
     },
     "execution_count": 38,
     "metadata": {},
     "output_type": "execute_result"
    }
   ],
   "source": [
    "\"test\" + \"string\""
   ]
  },
  {
   "cell_type": "code",
   "execution_count": 45,
   "metadata": {
    "collapsed": false
   },
   "outputs": [
    {
     "data": {
      "text/plain": [
       "0"
      ]
     },
     "execution_count": 45,
     "metadata": {},
     "output_type": "execute_result"
    }
   ],
   "source": [
    "0%2"
   ]
  },
  {
   "cell_type": "code",
   "execution_count": null,
   "metadata": {
    "collapsed": true
   },
   "outputs": [],
   "source": []
  }
 ],
 "metadata": {
  "kernelspec": {
   "display_name": "Python 2",
   "language": "python",
   "name": "python2"
  },
  "language_info": {
   "codemirror_mode": {
    "name": "ipython",
    "version": 2
   },
   "file_extension": ".py",
   "mimetype": "text/x-python",
   "name": "python",
   "nbconvert_exporter": "python",
   "pygments_lexer": "ipython2",
   "version": "2.7.11"
  }
 },
 "nbformat": 4,
 "nbformat_minor": 0
}
