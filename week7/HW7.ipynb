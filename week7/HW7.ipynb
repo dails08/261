{
 "cells": [
  {
   "cell_type": "code",
   "execution_count": 1,
   "metadata": {
    "collapsed": true
   },
   "outputs": [],
   "source": [
    "%load_ext autoreload\n",
    "%autoreload 2"
   ]
  },
  {
   "cell_type": "code",
   "execution_count": 24,
   "metadata": {
    "collapsed": false
   },
   "outputs": [
    {
     "name": "stdout",
     "output_type": "stream",
     "text": [
      "Overwriting MRJobGraph1.py\n"
     ]
    }
   ],
   "source": [
    "%%writefile MRJobGraph1.py\n",
    "from mrjob.job import MRJob\n",
    "from mrjob.step import MRStep\n",
    "import re, sys\n",
    "\n",
    "# This MrJob calculates the gradient of the entire training set \n",
    "#     Mapper: calculate partial gradient for each example  \n",
    "#     \n",
    "class MRJobGraph1(MRJob):\n",
    "    # run before the mapper processes any input\n",
    "    def label_dataset(self, _, line):\n",
    "        \n",
    "        source_node_id = 1\n",
    "        # Read dataset and add labels and distances\n",
    "        splits = line.split(\"\\t\")\n",
    "        node_id = int(splits[0])\n",
    "        edges = eval(splits[1])\n",
    "        if (node_id == source_node_id):\n",
    "            yield None, str(node_id) + \"\\t\" + str([int(x) for x in edges.keys()]) + \"|0|Q\"\n",
    "        else:\n",
    "            yield None, str(node_id) + \"\\t\" + str([int(x) for x in edges.keys()]) + \"|\"+str(sys.maxint)+\"|U\"\n",
    "    \n",
    "\n",
    "    \n",
    "    def steps(self):\n",
    "        return [MRStep(mapper=self.label_dataset)]\n",
    "    \n",
    "if __name__ == '__main__':\n",
    "    MRJobGraph1.run()"
   ]
  },
  {
   "cell_type": "code",
   "execution_count": 26,
   "metadata": {
    "collapsed": false
   },
   "outputs": [
    {
     "name": "stdout",
     "output_type": "stream",
     "text": [
      "1\t[2, 5]|0|Q\n",
      "2\t[1, 3, 5, 4]|9223372036854775807|U\n",
      "3\t[2, 4]|9223372036854775807|U\n",
      "4\t[3, 2, 5]|9223372036854775807|U\n",
      "5\t[1, 2, 4]|9223372036854775807|U\n"
     ]
    }
   ],
   "source": [
    "from numpy import random,array\n",
    "from MRJobGraph1 import MRJobGraph1\n",
    "\n",
    "\n",
    "# create a mrjob instance for batch gradient descent update over all data\n",
    "mr_job = MRJobGraph1(args=['undirected_toy.txt', '--no-strict-protocol'])\n",
    "with mr_job.make_runner() as runner: \n",
    "    runner.run()\n",
    "    #no output yet\n",
    "    for line in runner.stream_output():\n",
    "        key, value = mr_job.parse_output_line(line)\n",
    "        print value\n"
   ]
  },
  {
   "cell_type": "code",
   "execution_count": 2,
   "metadata": {
    "collapsed": true
   },
   "outputs": [],
   "source": [
    "testDict = {'1': 1,'3': 1,'4': 1,'5': 1}"
   ]
  },
  {
   "cell_type": "code",
   "execution_count": 4,
   "metadata": {
    "collapsed": false
   },
   "outputs": [
    {
     "data": {
      "text/plain": [
       "[1, 3, 5, 4]"
      ]
     },
     "execution_count": 4,
     "metadata": {},
     "output_type": "execute_result"
    }
   ],
   "source": [
    "[int(x) for x in testDict.keys()]"
   ]
  },
  {
   "cell_type": "code",
   "execution_count": 8,
   "metadata": {
    "collapsed": false
   },
   "outputs": [
    {
     "name": "stdout",
     "output_type": "stream",
     "text": [
      "7\t[1, 3, 5, 4]|0|Q\n"
     ]
    }
   ],
   "source": [
    "print str(7) + \"\\t\" + str([int(x) for x in testDict.keys()]) + \"|0|Q\""
   ]
  },
  {
   "cell_type": "code",
   "execution_count": null,
   "metadata": {
    "collapsed": true
   },
   "outputs": [],
   "source": []
  }
 ],
 "metadata": {
  "kernelspec": {
   "display_name": "Python 2",
   "language": "python",
   "name": "python2"
  },
  "language_info": {
   "codemirror_mode": {
    "name": "ipython",
    "version": 2
   },
   "file_extension": ".py",
   "mimetype": "text/x-python",
   "name": "python",
   "nbconvert_exporter": "python",
   "pygments_lexer": "ipython2",
   "version": "2.7.11"
  }
 },
 "nbformat": 4,
 "nbformat_minor": 0
}
